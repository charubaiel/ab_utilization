{
 "cells": [
  {
   "cell_type": "code",
   "execution_count": 1,
   "metadata": {},
   "outputs": [
    {
     "name": "stderr",
     "output_type": "stream",
     "text": [
      "/home/charubaiel/.local/lib/python3.8/site-packages/statsmodels/compat/pandas.py:65: FutureWarning: pandas.Int64Index is deprecated and will be removed from pandas in a future version. Use pandas.Index with the appropriate dtype instead.\n",
      "  from pandas import Int64Index as NumericIndex\n"
     ]
    }
   ],
   "source": [
    "from mm_ab import *"
   ]
  },
  {
   "cell_type": "code",
   "execution_count": 2,
   "metadata": {},
   "outputs": [],
   "source": [
    "from sklearn.linear_model import LogisticRegression,LinearRegression\n",
    "from lightgbm import LGBMRegressor\n",
    "from tqdm.notebook import tqdm"
   ]
  },
  {
   "cell_type": "code",
   "execution_count": 3,
   "metadata": {},
   "outputs": [],
   "source": [
    "base = pd.read_pickle('../data/expN34.pkl')"
   ]
  },
  {
   "cell_type": "code",
   "execution_count": null,
   "metadata": {},
   "outputs": [],
   "source": []
  },
  {
   "cell_type": "markdown",
   "metadata": {},
   "source": [
    "Линейные модели в сущности можно использовать для поиска влияния нашего АБ теста на данные  \n",
    "Базово строя линейную модель Y=kX + b  \n",
    "* где Y это наша метрика  \n",
    "* а X это наша бинарная принадлежность к группе в АБ  \n",
    "\n",
    "При выстраивании модели, коэффициент k при ней, будет обозначать вклад АБ теста в метрику  \n",
    "Т.к. b будет равно общему эффекту на контроле"
   ]
  },
  {
   "cell_type": "code",
   "execution_count": 70,
   "metadata": {},
   "outputs": [],
   "source": [
    "# генерируем данные\n",
    "synth_control = sps.expon(200,100).rvs(1000) + sps.norm(0,100).rvs(1000)\n",
    "synth_threatment = sps.expon(210,100).rvs(1000) + sps.norm(0,100).rvs(1000)"
   ]
  },
  {
   "cell_type": "code",
   "execution_count": 71,
   "metadata": {},
   "outputs": [
    {
     "data": {
      "image/png": "[encoded data removed]",
      "text/plain": [
       "<Figure size 1080x432 with 1 Axes>"
      ]
     },
     "metadata": {},
     "output_type": "display_data"
    }
   ],
   "source": [
    "plt.hist(synth_control,bins=100);\n",
    "plt.hist(synth_threatment,bins=100);"
   ]
  },
  {
   "cell_type": "code",
   "execution_count": 72,
   "metadata": {},
   "outputs": [],
   "source": [
    "synth_data = pd.DataFrame({'values':np.concatenate([synth_control,synth_threatment]),\n",
    "            'is_ab':np.concatenate([np.zeros(1000),np.ones(1000)])\n",
    "            })"
   ]
  },
  {
   "cell_type": "code",
   "execution_count": 73,
   "metadata": {},
   "outputs": [],
   "source": [
    "# оформим все проверки в одну функцию\n",
    "def ols_vs_ttest(df,Y,T):\n",
    "    X = df.drop([Y],axis=1) # наши фичи\\ковариаты\n",
    "    ttest_params = df.groupby(T)[Y].agg(['mean','std','count']) # статистика для ТТ\n",
    "\n",
    "    ttest_result = {'pvalue':sps.ttest_ind_from_stats(*ttest_params.values.ravel()).pvalue,\n",
    "                    'uplift':ttest_params['mean'][1] - ttest_params['mean'][0]}\n",
    "\n",
    "    simple_lr = sm.OLS(df[Y],X.assign(const = 1),hasconst=False).fit()\n",
    "    print(simple_lr.summary())\n",
    "    ols_result =  {'uplift':simple_lr.params[0],\n",
    "                'pvalue':simple_lr.pvalues[0]}\n",
    "\n",
    "    return pd.DataFrame({'ttest':ttest_result,'ols':ols_result})\n"
   ]
  },
  {
   "cell_type": "code",
   "execution_count": 74,
   "metadata": {},
   "outputs": [
    {
     "name": "stdout",
     "output_type": "stream",
     "text": [
      "                                 OLS Regression Results                                \n",
      "=======================================================================================\n",
      "Dep. Variable:                 values   R-squared (uncentered):                   0.822\n",
      "Model:                            OLS   Adj. R-squared (uncentered):              0.822\n",
      "Method:                 Least Squares   F-statistic:                              4618.\n",
      "Date:                Tue, 02 Aug 2022   Prob (F-statistic):                        0.00\n",
      "Time:                        10:07:39   Log-Likelihood:                         -12742.\n",
      "No. Observations:                2000   AIC:                                  2.549e+04\n",
      "Df Residuals:                    1998   BIC:                                  2.550e+04\n",
      "Df Model:                           2                                                  \n",
      "Covariance Type:            nonrobust                                                  \n",
      "==============================================================================\n",
      "                 coef    std err          t      P>|t|      [0.025      0.975]\n",
      "------------------------------------------------------------------------------\n",
      "is_ab          8.0568      6.331      1.273      0.203      -4.359      20.473\n",
      "const        300.1514      4.477     67.048      0.000     291.372     308.931\n",
      "==============================================================================\n",
      "Omnibus:                      200.085   Durbin-Watson:                   2.011\n",
      "Prob(Omnibus):                  0.000   Jarque-Bera (JB):              317.264\n",
      "Skew:                           0.720   Prob(JB):                     1.28e-69\n",
      "Kurtosis:                       4.316   Cond. No.                         2.62\n",
      "==============================================================================\n",
      "\n",
      "Notes:\n",
      "[1] R² is computed without centering (uncentered) since the model does not contain a constant.\n",
      "[2] Standard Errors assume that the covariance matrix of the errors is correctly specified.\n"
     ]
    },
    {
     "data": {
      "text/html": [
       "<div>\n",
       "<style scoped>\n",
       "    .dataframe tbody tr th:only-of-type {\n",
       "        vertical-align: middle;\n",
       "    }\n",
       "\n",
       "    .dataframe tbody tr th {\n",
       "        vertical-align: top;\n",
       "    }\n",
       "\n",
       "    .dataframe thead th {\n",
       "        text-align: right;\n",
       "    }\n",
       "</style>\n",
       "<table border=\"1\" class=\"dataframe\">\n",
       "  <thead>\n",
       "    <tr style=\"text-align: right;\">\n",
       "      <th></th>\n",
       "      <th>ttest</th>\n",
       "      <th>ols</th>\n",
       "    </tr>\n",
       "  </thead>\n",
       "  <tbody>\n",
       "    <tr>\n",
       "      <th>pvalue</th>\n",
       "      <td>0.203305</td>\n",
       "      <td>0.203305</td>\n",
       "    </tr>\n",
       "    <tr>\n",
       "      <th>uplift</th>\n",
       "      <td>8.056843</td>\n",
       "      <td>8.056843</td>\n",
       "    </tr>\n",
       "  </tbody>\n",
       "</table>\n",
       "</div>"
      ],
      "text/plain": [
       "           ttest       ols\n",
       "pvalue  0.203305  0.203305\n",
       "uplift  8.056843  8.056843"
      ]
     },
     "execution_count": 74,
     "metadata": {},
     "output_type": "execute_result"
    }
   ],
   "source": [
    "ols_vs_ttest(synth_data,'values','is_ab')"
   ]
  },
  {
   "cell_type": "code",
   "execution_count": 75,
   "metadata": {},
   "outputs": [],
   "source": [
    "# А раз они одинаковые, то мы можем использовать остальные ковариаты модели, как дополнительные параметры уточнения модели и вычленения эффекта других составляющих теста"
   ]
  },
  {
   "cell_type": "markdown",
   "metadata": {},
   "source": [
    "# ML\n",
    "<img src = 'https://miro.medium.com/max/500/1*qHbAsMNmdWQJkzm2SUA-8w.jpeg'>"
   ]
  },
  {
   "cell_type": "code",
   "execution_count": 9,
   "metadata": {},
   "outputs": [],
   "source": [
    "simple_ml_test = base.groupby(['user','part','ab'])[['view','click']].sum().unstack([1,2])"
   ]
  },
  {
   "cell_type": "code",
   "execution_count": 10,
   "metadata": {},
   "outputs": [],
   "source": [
    "simple_ml_test_ctr = simple_ml_test['click'] / simple_ml_test['view']"
   ]
  },
  {
   "cell_type": "code",
   "execution_count": 11,
   "metadata": {},
   "outputs": [],
   "source": [
    "ml_df = pd.concat([simple_ml_test_ctr.swaplevel(0,1,axis=1)[0].dropna(subset=['AB']),simple_ml_test_ctr.swaplevel(0,1,axis=1)[1].dropna(subset=['AB'])])"
   ]
  },
  {
   "cell_type": "code",
   "execution_count": 12,
   "metadata": {},
   "outputs": [
    {
     "data": {
      "text/html": [
       "<div>\n",
       "<style scoped>\n",
       "    .dataframe tbody tr th:only-of-type {\n",
       "        vertical-align: middle;\n",
       "    }\n",
       "\n",
       "    .dataframe tbody tr th {\n",
       "        vertical-align: top;\n",
       "    }\n",
       "\n",
       "    .dataframe thead th {\n",
       "        text-align: right;\n",
       "    }\n",
       "</style>\n",
       "<table border=\"1\" class=\"dataframe\">\n",
       "  <thead>\n",
       "    <tr style=\"text-align: right;\">\n",
       "      <th>part</th>\n",
       "      <th>AB</th>\n",
       "      <th>AA</th>\n",
       "    </tr>\n",
       "    <tr>\n",
       "      <th>user</th>\n",
       "      <th></th>\n",
       "      <th></th>\n",
       "    </tr>\n",
       "  </thead>\n",
       "  <tbody>\n",
       "    <tr>\n",
       "      <th>100006266691692773</th>\n",
       "      <td>0.000000</td>\n",
       "      <td>NaN</td>\n",
       "    </tr>\n",
       "    <tr>\n",
       "      <th>10001410055580393899</th>\n",
       "      <td>1.000000</td>\n",
       "      <td>0.666667</td>\n",
       "    </tr>\n",
       "    <tr>\n",
       "      <th>10001431488711581290</th>\n",
       "      <td>0.000000</td>\n",
       "      <td>0.000000</td>\n",
       "    </tr>\n",
       "    <tr>\n",
       "      <th>10001507526515839900</th>\n",
       "      <td>1.000000</td>\n",
       "      <td>0.000000</td>\n",
       "    </tr>\n",
       "    <tr>\n",
       "      <th>10002102718106860426</th>\n",
       "      <td>0.000000</td>\n",
       "      <td>NaN</td>\n",
       "    </tr>\n",
       "    <tr>\n",
       "      <th>...</th>\n",
       "      <td>...</td>\n",
       "      <td>...</td>\n",
       "    </tr>\n",
       "    <tr>\n",
       "      <th>9997567888084323655</th>\n",
       "      <td>0.000000</td>\n",
       "      <td>NaN</td>\n",
       "    </tr>\n",
       "    <tr>\n",
       "      <th>9997590035650076826</th>\n",
       "      <td>0.000000</td>\n",
       "      <td>0.000000</td>\n",
       "    </tr>\n",
       "    <tr>\n",
       "      <th>9997757924600272000</th>\n",
       "      <td>0.333333</td>\n",
       "      <td>0.333333</td>\n",
       "    </tr>\n",
       "    <tr>\n",
       "      <th>9998062794423493760</th>\n",
       "      <td>0.000000</td>\n",
       "      <td>NaN</td>\n",
       "    </tr>\n",
       "    <tr>\n",
       "      <th>9998817854561629475</th>\n",
       "      <td>0.000000</td>\n",
       "      <td>0.000000</td>\n",
       "    </tr>\n",
       "  </tbody>\n",
       "</table>\n",
       "<p>83282 rows × 2 columns</p>\n",
       "</div>"
      ],
      "text/plain": [
       "part                        AB        AA\n",
       "user                                    \n",
       "100006266691692773    0.000000       NaN\n",
       "10001410055580393899  1.000000  0.666667\n",
       "10001431488711581290  0.000000  0.000000\n",
       "10001507526515839900  1.000000  0.000000\n",
       "10002102718106860426  0.000000       NaN\n",
       "...                        ...       ...\n",
       "9997567888084323655   0.000000       NaN\n",
       "9997590035650076826   0.000000  0.000000\n",
       "9997757924600272000   0.333333  0.333333\n",
       "9998062794423493760   0.000000       NaN\n",
       "9998817854561629475   0.000000  0.000000\n",
       "\n",
       "[83282 rows x 2 columns]"
      ]
     },
     "execution_count": 12,
     "metadata": {},
     "output_type": "execute_result"
    }
   ],
   "source": [
    "ml_df"
   ]
  },
  {
   "cell_type": "code",
   "execution_count": 13,
   "metadata": {},
   "outputs": [],
   "source": [
    "mldf = pd.get_dummies(base.set_index(['user','part']).drop(['click','view'],axis=1)).join(ml_df.stack().rename('target')).swaplevel(0,1).fillna(0)"
   ]
  },
  {
   "cell_type": "code",
   "execution_count": 97,
   "metadata": {},
   "outputs": [],
   "source": [
    "def IPV(df, T, Y,is_raw_ps=False):\n",
    "    X = df.drop([T,Y],axis=1).columns\n",
    "    # estimate the propensity score\n",
    "    ps = LogisticRegression(penalty='none').fit(df[X], df[T]).predict_proba(df[X])[:, 1]\n",
    "    \n",
    "    weight = (df[T]-ps) / (ps*(1-ps)) # define the weights\n",
    "    if is_raw_ps:\n",
    "        return ps\n",
    "    return weight * df[Y] # compute the ATE"
   ]
  },
  {
   "cell_type": "code",
   "execution_count": 15,
   "metadata": {},
   "outputs": [],
   "source": [
    "cuped_df = mldf.loc['AB'].join(mldf.loc['AA']['target'].rename('preexp_target')).loc[:,['ab','target','preexp_target']].dropna()"
   ]
  },
  {
   "cell_type": "code",
   "execution_count": 16,
   "metadata": {},
   "outputs": [],
   "source": [
    "ps = IPV(mldf.loc['AB'].loc[cuped_df.index],T='ab',Y='target',is_raw_ps=True)"
   ]
  },
  {
   "cell_type": "code",
   "execution_count": 17,
   "metadata": {},
   "outputs": [
    {
     "data": {
      "image/png": "[encoded data removed]",
      "text/plain": [
       "<Figure size 1080x432 with 1 Axes>"
      ]
     },
     "metadata": {},
     "output_type": "display_data"
    }
   ],
   "source": [
    "plt.hist(ps,bins=100);"
   ]
  },
  {
   "cell_type": "code",
   "execution_count": 18,
   "metadata": {},
   "outputs": [],
   "source": [
    "class ABML(BaseABMethod):\n",
    "\n",
    "    def prepare_data(self,cov_dict=None):\n",
    "        self.calc_metric()\n",
    "        if cov_dict is None:\n",
    "            cov_dict = {'control':np.array([]),\n",
    "                        'threatment':np.array([])}\n",
    "                        \n",
    "        control_data = np.vstack([  \n",
    "                                    np.zeros(self.control_views.shape[0]),\n",
    "                                    *cov_dict['control'].T,\n",
    "                                    np.ones(self.control_views.shape[0]),\n",
    "                                    self.control_ctr])\n",
    "        \n",
    "        threatment_data = np.vstack([\n",
    "                                    np.ones(self.threatment_views.shape[0]),\n",
    "                                    *cov_dict['threatment'].T,\n",
    "                                    np.ones(self.threatment_views.shape[0]),\n",
    "                                    self.threatment_ctr])\n",
    "\n",
    "        data = np.hstack([control_data,threatment_data]).T\n",
    "        \n",
    "        target = data[:,-1]\n",
    "        data = data[:,:-1]\n",
    "\n",
    "        return data,target\n",
    "\n",
    "\n",
    "    def ci_check(self,raw=False,**kwargs):\n",
    "        data,target = self.prepare_data(**kwargs)\n",
    "        model = sm.OLS(target,data).fit()\n",
    "\n",
    "        if raw:\n",
    "            return model.summary()\n",
    "\n",
    "        return {'ttest': model.pvalues[0],\n",
    "                'mwtest': None,\n",
    "                'uplift': model.params[0],\n",
    "                'relative_uplift':model.params[0] / self.control_ctr.mean(),\n",
    "                'ci_left': model.conf_int()[0][0],\n",
    "                'ci_right': model.conf_int()[0][1],\n",
    "                'ci_lenght': model.conf_int()[0][1] - model.conf_int()[0][0],\n",
    "                }\n",
    "                    \n",
    "    "
   ]
  },
  {
   "cell_type": "code",
   "execution_count": 19,
   "metadata": {},
   "outputs": [],
   "source": [
    "super_ml = sm.OLS(cuped_df['target'],cuped_df.drop(['target'],axis=1).assign(const=1,ps=ps)).fit()\n",
    "ps_ml = sm.OLS(cuped_df['target'],cuped_df.drop(['target','preexp_target'],axis=1).assign(const=1,ps=ps)).fit()\n",
    "cuped_ml = sm.OLS(cuped_df['target'],cuped_df.drop(['target'],axis=1).assign(const=1)).fit()\n",
    "base_ml = sm.OLS(cuped_df['target'],cuped_df.drop(['target','preexp_target'],axis=1).assign(const=1)).fit()"
   ]
  },
  {
   "cell_type": "code",
   "execution_count": 20,
   "metadata": {},
   "outputs": [
    {
     "data": {
      "text/plain": [
       "0.00890813999719235"
      ]
     },
     "execution_count": 20,
     "metadata": {},
     "output_type": "execute_result"
    }
   ],
   "source": [
    "# conf interval ML\n",
    "# По сути линейная регрессия == обычному тесту стьюдента\n",
    "base_ml.conf_int().apply(lambda x: x[1] - x[0],axis=1)['ab']"
   ]
  },
  {
   "cell_type": "code",
   "execution_count": 21,
   "metadata": {},
   "outputs": [
    {
     "data": {
      "text/plain": [
       "0.008723564843698841"
      ]
     },
     "execution_count": 21,
     "metadata": {},
     "output_type": "execute_result"
    }
   ],
   "source": [
    "# conf interval ps\n",
    "# еее , снизили на 15%\n",
    "ps_ml.conf_int().apply(lambda x: x[1] - x[0],axis=1)['ab']"
   ]
  },
  {
   "cell_type": "code",
   "execution_count": 22,
   "metadata": {},
   "outputs": [
    {
     "data": {
      "text/plain": [
       "0.007728638242669292"
      ]
     },
     "execution_count": 22,
     "metadata": {},
     "output_type": "execute_result"
    }
   ],
   "source": [
    "# conf interval cuped\n",
    "# еее , снизили на 15%\n",
    "cuped_ml.conf_int().apply(lambda x: x[1] - x[0],axis=1)['ab']"
   ]
  },
  {
   "cell_type": "code",
   "execution_count": 23,
   "metadata": {},
   "outputs": [
    {
     "data": {
      "text/plain": [
       "0.007637541132871562"
      ]
     },
     "execution_count": 23,
     "metadata": {},
     "output_type": "execute_result"
    }
   ],
   "source": [
    "# conf interval super\n",
    "# еее , снизили на 15%\n",
    "super_ml.conf_int().apply(lambda x: x[1] - x[0],axis=1)['ab']"
   ]
  },
  {
   "cell_type": "code",
   "execution_count": 24,
   "metadata": {},
   "outputs": [
    {
     "name": "stdout",
     "output_type": "stream",
     "text": [
      "                            OLS Regression Results                            \n",
      "==============================================================================\n",
      "Dep. Variable:                 target   R-squared:                       0.000\n",
      "Model:                            OLS   Adj. R-squared:                  0.000\n",
      "Method:                 Least Squares   F-statistic:                     2.348\n",
      "Date:                Mon, 01 Aug 2022   Prob (F-statistic):              0.125\n",
      "Time:                        16:30:24   Log-Likelihood:                -829.74\n",
      "No. Observations:               46984   AIC:                             1663.\n",
      "Df Residuals:                   46982   BIC:                             1681.\n",
      "Df Model:                           1                                         \n",
      "Covariance Type:            nonrobust                                         \n",
      "==============================================================================\n",
      "                 coef    std err          t      P>|t|      [0.025      0.975]\n",
      "------------------------------------------------------------------------------\n",
      "ab             0.0035      0.002      1.532      0.125      -0.001       0.008\n",
      "const          0.1083      0.002     67.466      0.000       0.105       0.111\n",
      "==============================================================================\n",
      "Omnibus:                    22804.102   Durbin-Watson:                   2.004\n",
      "Prob(Omnibus):                  0.000   Jarque-Bera (JB):           109421.092\n",
      "Skew:                           2.431   Prob(JB):                         0.00\n",
      "Kurtosis:                       8.679   Cond. No.                         2.62\n",
      "==============================================================================\n",
      "\n",
      "Notes:\n",
      "[1] Standard Errors assume that the covariance matrix of the errors is correctly specified.\n"
     ]
    }
   ],
   "source": [
    "print(base_ml.summary())"
   ]
  },
  {
   "cell_type": "code",
   "execution_count": 25,
   "metadata": {},
   "outputs": [
    {
     "name": "stdout",
     "output_type": "stream",
     "text": [
      "                            OLS Regression Results                            \n",
      "==============================================================================\n",
      "Dep. Variable:                 target   R-squared:                       0.247\n",
      "Model:                            OLS   Adj. R-squared:                  0.247\n",
      "Method:                 Least Squares   F-statistic:                     7720.\n",
      "Date:                Mon, 01 Aug 2022   Prob (F-statistic):               0.00\n",
      "Time:                        16:30:24   Log-Likelihood:                 5844.6\n",
      "No. Observations:               46984   AIC:                        -1.168e+04\n",
      "Df Residuals:                   46981   BIC:                        -1.166e+04\n",
      "Df Model:                           2                                         \n",
      "Covariance Type:            nonrobust                                         \n",
      "=================================================================================\n",
      "                    coef    std err          t      P>|t|      [0.025      0.975]\n",
      "---------------------------------------------------------------------------------\n",
      "ab                0.0023      0.002      1.153      0.249      -0.002       0.006\n",
      "preexp_target     0.4946      0.004    124.246      0.000       0.487       0.502\n",
      "const             0.0515      0.001     35.134      0.000       0.049       0.054\n",
      "==============================================================================\n",
      "Omnibus:                    20126.520   Durbin-Watson:                   2.007\n",
      "Prob(Omnibus):                  0.000   Jarque-Bera (JB):           131092.084\n",
      "Skew:                           1.950   Prob(JB):                         0.00\n",
      "Kurtosis:                      10.194   Cond. No.                         4.68\n",
      "==============================================================================\n",
      "\n",
      "Notes:\n",
      "[1] Standard Errors assume that the covariance matrix of the errors is correctly specified.\n"
     ]
    }
   ],
   "source": [
    "print(cuped_ml.summary())"
   ]
  },
  {
   "cell_type": "code",
   "execution_count": 26,
   "metadata": {},
   "outputs": [
    {
     "name": "stdout",
     "output_type": "stream",
     "text": [
      "                            OLS Regression Results                            \n",
      "==============================================================================\n",
      "Dep. Variable:                 target   R-squared:                       0.042\n",
      "Model:                            OLS   Adj. R-squared:                  0.041\n",
      "Method:                 Least Squares   F-statistic:                     1018.\n",
      "Date:                Mon, 01 Aug 2022   Prob (F-statistic):               0.00\n",
      "Time:                        16:30:24   Log-Likelihood:                 165.28\n",
      "No. Observations:               46984   AIC:                            -324.6\n",
      "Df Residuals:                   46981   BIC:                            -298.3\n",
      "Df Model:                           2                                         \n",
      "Covariance Type:            nonrobust                                         \n",
      "==============================================================================\n",
      "                 coef    std err          t      P>|t|      [0.025      0.975]\n",
      "------------------------------------------------------------------------------\n",
      "ab             0.0013      0.002      0.599      0.549      -0.003       0.006\n",
      "const         -2.2416      0.052    -42.988      0.000      -2.344      -2.139\n",
      "ps             4.7119      0.105     45.085      0.000       4.507       4.917\n",
      "==============================================================================\n",
      "Omnibus:                    22950.364   Durbin-Watson:                   2.006\n",
      "Prob(Omnibus):                  0.000   Jarque-Bera (JB):           116555.332\n",
      "Skew:                           2.419   Prob(JB):                         0.00\n",
      "Kurtosis:                       9.011   Cond. No.                         131.\n",
      "==============================================================================\n",
      "\n",
      "Notes:\n",
      "[1] Standard Errors assume that the covariance matrix of the errors is correctly specified.\n"
     ]
    }
   ],
   "source": [
    "print(ps_ml.summary())"
   ]
  },
  {
   "cell_type": "code",
   "execution_count": 27,
   "metadata": {},
   "outputs": [
    {
     "name": "stdout",
     "output_type": "stream",
     "text": [
      "                            OLS Regression Results                            \n",
      "==============================================================================\n",
      "Dep. Variable:                 target   R-squared:                       0.265\n",
      "Model:                            OLS   Adj. R-squared:                  0.265\n",
      "Method:                 Least Squares   F-statistic:                     5656.\n",
      "Date:                Mon, 01 Aug 2022   Prob (F-statistic):               0.00\n",
      "Time:                        16:30:24   Log-Likelihood:                 6412.5\n",
      "No. Observations:               46984   AIC:                        -1.282e+04\n",
      "Df Residuals:                   46980   BIC:                        -1.278e+04\n",
      "Df Model:                           3                                         \n",
      "Covariance Type:            nonrobust                                         \n",
      "=================================================================================\n",
      "                    coef    std err          t      P>|t|      [0.025      0.975]\n",
      "---------------------------------------------------------------------------------\n",
      "ab                0.0009      0.002      0.457      0.648      -0.003       0.005\n",
      "preexp_target     0.4754      0.004    119.633      0.000       0.468       0.483\n",
      "const            -1.5094      0.046    -32.770      0.000      -1.600      -1.419\n",
      "ps                3.1344      0.092     33.905      0.000       2.953       3.316\n",
      "==============================================================================\n",
      "Omnibus:                    20274.138   Durbin-Watson:                   2.007\n",
      "Prob(Omnibus):                  0.000   Jarque-Bera (JB):           134722.509\n",
      "Skew:                           1.959   Prob(JB):                         0.00\n",
      "Kurtosis:                      10.312   Cond. No.                         132.\n",
      "==============================================================================\n",
      "\n",
      "Notes:\n",
      "[1] Standard Errors assume that the covariance matrix of the errors is correctly specified.\n"
     ]
    }
   ],
   "source": [
    "print(super_ml.summary())"
   ]
  },
  {
   "cell_type": "markdown",
   "metadata": {},
   "source": [
    "# Uplift\n",
    "<img src='data:image/jpeg;base64,/9j/4AAQSkZJRgABAQAAAQABAAD/2wCEAAoHCBYWFRgWFhYZGRgYHBoaGBoaGhgaHBwYGhwaGhoYGBocIS4lHB4rIRgYJjgmKy8xNTU1GiQ7QDs0Py40NTEBDAwMEA8QHhISHjQhJCQxMTQ0NDQ0NDQ0NDQ0NDQ0NDQ0NDQ0NDQ0NDQ0NDQ0NDQ0NDQ0NDQ0NDQ0NDQ0NDQ0NP/AABEIAM8A9AMBIgACEQEDEQH/xAAbAAACAwEBAQAAAAAAAAAAAAAEBQADBgIBB//EADsQAAICAQMCBQIEBQMDAwUAAAECAAMRBBIhBTEGEyJBUWFxFDKBkiNCUpGhFnLwFZOxF2LBB2OC0fH/xAAaAQEAAwEBAQAAAAAAAAAAAAAAAQIDBAUG/8QAJREAAwACAgEEAwADAAAAAAAAAAECAxESITEEEyJRMkFxQmGB/9oADAMBAAIRAxEAPwD7NJBNdo1tXYxcAkH0OyHj/wByEH/MwNek2dMvuDWvZm1B5l1rghbyFGHYgHCgZxmAfSZJln6/bR541CVnyqRePLLcrkgod3uCBz757Cd+Hev2X2Mjqv5FsDILAoycGtt6jLDjkd8+0A00kwvUUdtfqXcoyUaVXRfWCu7z+VIfCsdoy2O2O2Id0/q9z2VUVJWF/D03Mzs52h2ZWUdyxwowSfnMA1kkyen65fYdQv8ACresW7a23+YAhIR2BwGVgM5HHI7xj4XvtfR02XOrO9aPkKVzlQfVycn6jH2gDuSZDpviLUMumssrrFWofywEZiyPh9rHPBU7Dx7ZHeV9M8XPbcihAa7LHrAC2b0CbwLHbbs2kpjAPG4faAbOSZHT9f1Lae3UClCqGxERSxZmrsasuQBwuFJ2jJ4lw68/lVFDTbZfb5VbIWFYwGZi+fUCFVuPnA4gGokmR1XiO5EsU1o19d9NJAZgjC4rtYEjK8NyOfynvGnR+oWvZdTcqB6th3Ju2srgkcNyCCGH9oA6kmO1niqxFI8tTYmosSxcnAoq9bWj3zsKED5aC9X6pbbqKfKVNqas11kswD40zNYz49lZmGB32f2A3ckyieI7djKUQ6hdSNMMFvLLFVcOf5goRskd8iMuj9Rd3uptVRZSUyUJ2sjruVhnkHhgR9PrAHMkx2t8SahPxDpVWyae5asFmDPuCcg4wuDYO+c/SH6brFoe+u8VK1Va2q4Zgm1t4w24ZGCnf3BgGikmNr8XMqagsqO9PlbDXvVHN7BKwdwyPWRkjPHP0lNnVLaNTqLdQFPlaNLMVltreuzgBuQ2Rj+32gG4kma8O9esvsat1XhFsDqtgX1Eg1neoywwDkdwfaBa3V3tb1BGdfKr06lVCncN9dpyG3cHIGePYdoBspJjuhdYuQaWu9U226c2KULFl8pKyQ+4erIcHI9wZPDvit9TZWCi7LkZ12izNeMFRYzKFbcCeVPcY57wDYySSQCSSSQCSSSQCRIPD6fhm025trMzFuN2Wc2H6dziMOo61aa3tckIilmwMnA+B7mZvqfiZzXqFSqymypUYs/lHAdgFwAzZyN3t7GAOtV0Sux3Z8kWVeSy+xTJOfnPM66X056shr7LVwAocJ6QPqqgsfqcwTW+JErZ1KWOKgpvsVVK17gGG7LAnggnaDgGc6vxTTWlrkMfJsWtlABYllRlZRnlSr5z9DAC7+io1l1hZs3UrSw4wFXzMEfX+If7CedP6KtTq4ZiVprowcY21ksG+/qMD6l4gRXVFZgd+mBZVVlP4h9qpyeMjkn2BBkbxVWGYeXbsS3yXs2rsWwlQoPq3EEsOQCBnmAWp0AG3zbbXtIWxEDCsBEsxuXKqC3AA5z2hPSem/h6BSHZ1QbU3hcqgGFXKgZwPc8wHXeKFRmVabXCWLSzrsCi1sYT1OCfzLzjHPeMOrdUShVZgzF3CVouNzuQSFXJA7KxySBgGAIPCvh4inTNc9v8Lc60ttCpYSw3dtxwGOASQMxvoeieTZmu6xatzv5GEKbnJLYJXeBuYtjOMznReI6rGRAHDO1leGAG2yobmRsEjOMkYyCB3lTeJ68DYljlnsRFULlhUdtjgswAQHIyTyYAXpekeXQaa7HTLO4cbSwLu1h4YEEZYjkdoInhlBWV8x/MNvn+b6A4txt3gBdoG0YxjBGc9563iasiry0sta5WdUQKGCoQrFtzAAgkDGcxh1Xqa6ehr7A2xACwAywBIHb3PPaAAjw2m0hnd3a2u53bbuZqypUEAABcKBgCMNN09UusuBO60IGHGB5YIGP3GKW8VqGdPw2p3oodk2JkVnOHzv2+x9Od3HaW6jxNUq1lFst82vzlFYXIpwD5jb2UD8w4zk/EAsPh2o6i3UEsWur8pl42gHAZgP6iFQH/AGiVdP8ADFdSadA7t+Gd7AzYLOzhwxc4/wDuHt8CeW+KK8oK0suNlXnp5arzXkAsSzADG4cHnmedP8UVWtUAlqpqM+TYyhVdlUuy4zuU4Vu4AO04gFlnhysi31OGsuGoDggMlqqiqU47egcHOckGF9K6WKd7F3sssYNZY+3cdo2qAFAAUDsAPc/ME0viWp7FQK4Wx3Suwhdjum4sq+rcPytgkAHBxL+qdZWmyury7LHtDlFQA58vbuyWIA/MOSYBXb4eRluXc2LrVtbtwy7MAfT0D+861/Qa7WuLs38apamAwMBSzBh9ct/iCaPxbVZsIquVLH8oOyKFFoJBrYbtwOVIzjGfeFP4grFb2FX213eS3Azv3ivI57ZYQAdPC6EXCyyyw3qiuzFQR5ZJRk2gBSDg8DuMzqnwyubGute421Cl9+0ZQFiAAoAB9R5l9XWw9z1JVY/lsUdxsChwu7b6nDdiBnGMnvOPC3V31NPmvU1fqdRkqQQjsvG1ieNuDn3zjiAE9L6c9WQ19lowAosCekD6qoLH6nMH1XQla22wWOour8u1RtKsAGVW5GQQHbsfvFXS/E5G4XLYw/EvQLQqbFZrNlSHBBP5lGQCBnk9451fW1rtWtq7AHZUW3C7C7D0r+bdz2ztxmAep0RA2nbJP4at61BxhldUUlvrhB/cyvpHRTpyFW+w1KCEqbYVUewDbdxA7DJntfiCtkqcBs22eUq4G4WAsHDc4G3axPPtKun+JarXRVVwtm/yrGC7LCn5tmGLDgEjcBkDiAPpJJIBJJJIBJJJIAj8XWhdHcCAdyisZGVBsIQM2eygsCT7AZma0mmawXaRRWXsrR2uS57x6HVQljPypxkqO3DTW+Idd5Gmut2B/LRm2ns2B2PB4nPSOoaZwy0PVlQC61lfTn3IHt35+kAV6/oV5OpWp0CavHmF925DsWtigHDZVRjPY/PadW+GSdUlm4eQKwHrOctaitWj/GNjkfoI40PVqLiwqtRyn5trA4+p+nHec6frWnsDslyMKwTYVYHaB3J+nB5+kAzmj8J2rSqO6s41VFxbnHladqwi/wC7ZWP1Jh1/QHai2sMu6zUecDzgL5iPg/XCmN9D1jT3MVquR2UZIVgSAff7QPX9aNdz17Vwuna/czbRlW27WODtHvnmAZLUaoLdfqNldirqPTU1rpYXrxXlaB6WckZUtyRt+k1fifov4lasBS1VgtVXGUb0shVwOcEOefYgSmrqlXn3eYlSrVVTabTgn+JvyNxHYbBg++Y0u6vQjrW1qK7YKqWAY57cH59oBmOu6QU6MBVop1AsV9OlfZrdwUAAgFiQxBIHY/SEavwp6dMVWqxtOjVlLgSrh9pZsgHa+5Qc4Pc/M0ddtVjsAUd6jtbsWQkBsH3UkEGGQDKdV6C70JSlWnUqrbWUunk2Nn11bRnjOcZGYy630x7tK1AYF2VRub3KlSScfODHMkASN0tvxF9uRttorqUc5DKbSSfp6x/aJR4TYJpTtotanTpp3S0HYdu071YAkHIPtyDNrJAEOn6Oy2o4CIq6c07EBCqxZW9A9lGILpfD7qmgUsudKxL9/UDU9fp/VxNRJAMn0Xwz5Fi/wtOyozslu0i7DFiB2xuG7G7PI9o21nTmbVae8EbakuUj3Js8vBH7D/eNpIBl6vD9gorr3LuTU+eTzjb5rPgfXDQbXeHtQwtqRqxVZqF1G47t/wCdLGrx27qfV8e02MkAzdnR7W1i3gV1hGJZ0L77U2sq12L+U4JByc9uMQrw10+zT1tS5Uqr2MjKTkrY7v6gexG7HB9o6kgGVfw7YdP5W5d34tdRnnGxdQt2377Rj7wbU+GLn1HmE1kDUpeHbcbAi7f4S+ygYPbvnt7zZyQDNaXoDLq2tLA0g2WVpzkW2hFsJ9seliPrY0H8OeGfwzIvlacrXuCXBSLiDkLkYwGwcE55+JrZIBJJJIBJJJIBJJJIAm8W6V7dFqK0Xcz1uqr8kjAERPoLr7MpU1AXR2UZcKubLCm1V2nlV2Hn/wBwxNtJAMF07ojtWy41KXDSvQpsKCtSwUbUKAZ5UEH4nmm6Qxpt9Gq84aWykLZ5ez1L+RNgG7kDB+s30kAy2l6c66jRMEIWvT2I5AACsRVtU/qrf2lPibp9r23siMwbQ2VqRjmwsSEH1mvkgHz7VdF1H4g3hGZaqtKwqO3Zc1fmb05/nTIK+2SP0t1fSHfUX+YNUa9Q9Tr5WzbhVQbX3DchUqT39/mbySAL9DaC9qipkKsoLlQBb6VO9SOWAztyfiMJJIBJJJIBJJJIBJJJIBJJJIBJJJIBJJJIBJJJIBJJJIBJJJIBJJJIBJJJIBlLfHujVtpZ8/RDPR490f8AU/7GnykaZixwOSeSYalBHaZc2dHtI+n/AOs9L8v+wz3/AFjpvl/2GfMlfb952NUM4I5+kjmyywyfSz4v0w92/YZ5/rHTfL/sM+fK6nkk/rK7NZt/Ksc2T7En0d/F2mAyS37DKG8b6Qe78+2wz5i9jMcnOZ1syOOPr7yebKvCj6S/j3Rjuz/saV/+oei77n/7bT5LqRgnMG3Zz9cyypso4lH2erx9o2GQz/saW/620vy/7DPmHTQuxeOccwl+3xKO2iyxI+kL4z0p/mb9hnR8Y6b5b9hnyhnXOAeZ7v2jO4xzot7Mn1VfGOmPu37DPT4w0w/mb9pnygaon3wJahz2Y/2Jjmx7KPpzeNtKPd/2Ge/610v9T/tM+Yfh3PZif0xPPwbjvJ5sPAj6V/r3R5xuf9jSP4+0Y7s/7GnzB9HzzKNTVgfSSqZV4kj6snjzRldwZ8fVCJB4+0f9T/safIQCRjPpz2HuYXRVkZI+31h0yFiR9br8ZaZhkF8f7DJ/rLTfL/tM+d1D0DjA+DOPNT5xIdsTjln0hfF+mPu37DI3jDTD+Zv2mfPRg8Aj7yFUUeoyObNPYk+gL4y0x7F/2GWN4u0wGcvj/YZ8zt1nsnH14/xCqfVXz/j/AOTLKmzPJjmUtG4/17o/6n/Y0qP/ANQ9F/U//bafLeoMQcdov3cyVTI4I+vf+pOh/qs/7bST4z5Z+JJbZTiaytm54AH+ZzY/3lF+pbJCjJ+fYTxamP5mJ+05zrRybXPCjj5MK0+nb45lmm0/PbMeaPSt9oNJlsTpoHbucQ2rpwH5jn9I6WkicODI2aKUhd+EUdhFOtTY30M0b5ifq9OUJ9xyJMsi56MtrGDHMDZSIdTUGbn5m4q6DS1PAHb82c8zomejgquzJ6fXKEUY5wO09dy/8pA+8uTpu1iAjHB9gYwq6c3uMffiY15OmZbSF1Olz2AjKjQAiMdPoAO7D9IfVWg7SuzaYF9PTE91EY16RAOFAl3EsEg0SSBm04+BANRpgYzsMFtkBozusGxhnsYF1IDbHPUKsj7RD1BuADNJOXItHGg2gcgk59oydvpA9MwRO4PuDPPxDN2X9TIryVnwNHcbPmLtu89iBGemozXzj/mJdp6OeBmH4RXCm6f9Fyhuyr2l1WhdvzDH6zQppT8D+09KfT/EjZ1KPsTp0xQfmFtptleQODmF7PpLmr3VMPoZMvsx9RK49fZguqtloqKnvGeqqy5Bmp6D0Sp68lQze+T2m8ycrowtV+BjEk0+p8Nne23GM8SS3EjmwxOmn5x+kKTpy+5JhyrLwPich6UygarSgdhCEUj3nUgQQaLo7/WVus6AEjiACXQO5SeIzNWYNfge8SVrwYPUnYzDtgn/AMwzpvXHVdhyR7c8TnxFozv3g+k9/vE+nJHE6pfR5mSdM+iaN96K/bcMwlEHxmLul3qKUz/TCH6ig95hXk9CGuKDR/tE7RvpFq9UHssKTVZ9pTRdUgzzJZWcwapt0NSuNFgWzvBrEPzGb1+5izU27ewjRDYHcneZjra4xNDZ1DB5WI+ugNhh2l56OfI00c9M0u9A23OOB8cRtV01scgL/mdeGE/gj/cZoUrH3kV5JiVxTK9FoP4eO88TTlT7CONMvoP6wZtMCecyH4QxJKnr7KgDjvK3U/MJNYAlbJIRvyBXWGadDsP6zgVxhQgCHMmeqOX1NfE+d9ap2WN9eYHoOqtWSAWwe+DND4l0gcBlPI7/AGmOdCrTolnmt9mjr8SMBgLxJM5uMkvs0N+LJLNUFHeBl2JwBLU6fu5Y4nLo9XYPf1QnhRic0WMTljCm0qLBG1CA8RorthyP2hqPmKatQDGND8cQaJ7LrrsDAiTXXfSGaq3AyYnax2OQnESitv8AQLqUYgnBwe4i/pYXc2e8bavVEVtkc9sfWZlaX5O08zaEcWVpG202jLjg4Ht9pd/0ge5nvR7NtCZ77Bn/ADL31XwJRrs6oXxQN+C29iJ2jTm+1sdiIu/EHMqx4H9FmIxTU8czO6bU5jepCRK+DVPZbqNRmKdQ+ZZrrdvEFo0ruc5xCK0/0eJo1b8xi/qWmCfYx4+hKY5iXrrnCjGeZZPsytanYd0Nv4fH9RjcXhYo6GjFAMY5Mfafpm7lu0iujP3fjpBWm1BNZx9YGwYnkx9o9EqpgCCaysLK0+jlxZHze2LHEIrGZQ1gJhemSQn0djtFipxLkX0n/n/PeeomYXpdOSp4I5lo8nD6nNtcV5Mv1TRkiYxkHm4M+j9UBXII7D/9z51q6G3FsHkzeNnIsi0hrRXXjnGZJnbNwOMH/Mk12be4bHeAZy9jNwDiU3Pgyg72BHac2j2N6JqhWAQ74+7GKWwM7TkQX8LYbCD2J5GM9vgx8On4YNkbf5gf/AhooqdeUDaZScTR9OTjBi+pRjIGIw0jyrNZQL1egkqB8zHa+65bGTJxnghsY/Sb7UjIiuzSoTkrk/MtLWjPJDfZnCWTbvJIPzzzHvTuo0BCCVDfOIH4h0m6vIHK8zI/hLCcBTmaw+jkyrTPoVRVsMp9J5H2jFCoHEQ9OrdakBGMKJc2q28EGUrydkV8UPk2sDn4mW11O18Dse0J/HN7CCO7eZuYHPt8SrDewzTUEd4/0T+kRMj8Q3TXcYlWaSV9YQAhyeBJo9YhxhhC7DuGMRc/S1JyOD9JRvRllbT2NdZaCFwcxF1LAdc/HEMr0z8DPA+8r67pjsB9wYiuzK63LGPSNuwEfMd1OTwJmfD7ba+T/MZqun3gnGP1mlLbODLdTKDaKG294o6pWQe+f7cTV14xxFXU9NuPH9uOZNSkjnc8dUnsymDGfTSc8z2yhR/LOK3w0x2d8J12O0CxpWBgYiKps94fRqfSZrjpIwtcK2/2LvEtPpzn7/WZunVVKfXjntn/AJ9DHPV9UzIwz7GfPdZYzHkHJ7YmsrZx0qV8kumNeodQo39x2E8mZs0dmezf8/SSam+zcWaQZ7TxEYdhGZE82zl5HucQMKfYcym+j5h7mcEZkOiykWbMDE6VsSzUOFi42kmCdDNXzOWWVacH4hqU578SpbygK5AVIiBupIhIPf5+MfM0epTacTH9W0vrY/M7PTKaemeb65uUmjYaAB0Rh2IBH9zLn6erd550VcUVj4Qf+TDGaYW9U0dWJbhP/SAm0SL2EAejnMbOcwK3GZTZq50DESI3M41FnOBOaaTmESNKLMwuuBaZFHdozRE2nmUuSldo6TEH1yegzupge08uXKmZy9Uc1LpgvTkDJuHyRxHWhfaRnsIu8PV4q/8AyaNgJ1Nptow485Q2o1GRxBtTafaTSN3lNzTKqeuzCcL5af6AXaUAc5l+oAHOf+f8/wDmLL9VzxMtnVM8VoZLqDC9NZkGIq7I16cScy8vtE1CqWCatu/6zKazXLW5zNV1NSsxfiCjL7vkTswJVWmYZ444+SPbOvV5/wD5JEJ0w+ZJ3+zBwe8z6fvE8LwWu3mWzx2fTJHc5tOAT8TpTK9Sm5SJUs/AkscsTLaiqjJ9p7+BbEHfRsfzMJcoV/8AV3c4rQlR/N2l69RYcHOf7y1UA44/SQ1qM8SSu2iJYznJ4+BFvVdKWbIhlN3M61NgCkzTBTVdHN6qZrH2MOm8VovwAIS0X6C30KfpD0fMyyfkzpxdQv4jxjiKr7cmNnGYA9AzmVRdgWACSYLqdTY52VAfVj7Q/UacEcyqmlV7SyZVopoV1HrcE/QQoaqzacDGfmW1idWnAl1prRSpGHSkKqA3f3hVw4MU0akjENOoyJjWNp7MrnoK6KMIc/1NDi8XaawAYEK3SHT5MpinUpB2jbkzi9p5onwTK9Se80aVSWU/JizW6jLEewgyLk8yt0bJlTo/YY+8yc6Dllmq6mlbbe7H2Ayf1h/S+olsk5A+oxFlFAX2GT7+8N0aKW5z2MmfJnk5cXo61+q3nA7AxF1eksABGertwxHtmDWOMEn4m+FtX0KlVh1Qg/6afmSd26s59pJ6HKvs8zjH0PUfBhlV0WseZbU88tn0KYyLSqzUAd5Xv4zA7Ock9pGiWwh9V8QfJMG/GIO7CRupL/ICf0MnRXew9KiZ2KuDniLRqnbsD/4nhe1uOR9zJ0TovKJk4MF1Izx7TrTafBJJ5EmpYAGTqn1Jyeo6kv0hwoH0jCt4r07ekGFKZV7/AGdEP4r+Bl12BAH1JnbgnuYFqbtrYCk/YSCzoIBJliVxeda/ZUP68SI9h7j/ADLaCexuiD5EluwD1HmLPJc9sf5nbaFyMk4+0ldE6CUdD7zoPgGBafSDJPOfvCLe0uq+zK10wnSX8frGNWpiNH4hFdn1mdTt7K4p+KNFo7Of0lestweTiCaG87oN1C0liJWdolLVHb6se0Fe/PaB7gOCZ0dUi/zczTpmmwtCYfoB6ue8Sf8AUQfyy3TdRfeBzn7fSV49lKhOWF9RrXceYp1HHGZdejs+WJEquAk6f+PkwtKcYAaRPJzZqDnjtJLcM32efuRyy8mepxLWE4xMz2i1BmdvSpGD7ygtidVWHvIJ2efgEHZBPPKUe0KVsyGvMnkxoH3qPaQ6otwBLDpT7GVigg8mTyD2VumBk9zE+qc5PxHeo7RHqbMZmmJ9nL6lfHsZaVfQv2l4aVaFsov2lr9pSvLNo/FfwvRwJ2QCIv8AMOYUjShdM8ZJ4DjsIShBkekSdltAz3MOwnSux7mWNpx3zPa6wJOxplTLiLtZZgGMtS2e0Tat5MfkZZfxZfoM7AfqYWvecaI5Tt7y7bFv5MjCtQgnTH1DmW31DMFp4InVt3OJUtr5Az9KQnJ3E/eeLoUHYD/zDlfMjJmFRfQMlaAQim9AQAOZU1R+k8qrbd7S3Iit6LNRkkk8CJtc+DHVwxEeqfBlofyMMs/B7AHTJzJKnuOff/Ek7P8Ap5PKfo//2Q=='>"
   ]
  },
  {
   "cell_type": "code",
   "execution_count": 28,
   "metadata": {},
   "outputs": [],
   "source": [
    "uplift_data = base.groupby(['user','part']).sum().reset_index(1).rename(columns={'part':'is_ab_test'})\n",
    "uplift_data['is_ab_test'] = uplift_data['is_ab_test'] == 'AB'\n",
    "uplift_data['target'] = uplift_data['click'] / uplift_data['view']\n",
    "uplift_data.drop('click',axis=1,inplace=True)"
   ]
  },
  {
   "cell_type": "code",
   "execution_count": 29,
   "metadata": {},
   "outputs": [],
   "source": [
    "uplift_aa = uplift_data.query('is_ab_test==0').drop('is_ab_test',axis=1)\n",
    "uplift_ab = uplift_data.query('is_ab_test==1').drop('is_ab_test',axis=1)"
   ]
  },
  {
   "cell_type": "code",
   "execution_count": 30,
   "metadata": {},
   "outputs": [],
   "source": [
    "def ci_check_meta_learners(meta_func,df,T,Y,**kwargs):\n",
    "    ates = [meta_func(df.sample(frac=1, replace=True),T,Y,**kwargs).mean() for _ in tqdm(range(333))]\n",
    "\n",
    "    model_stats = sps.norm(loc = np.mean(ates),scale=np.std(ates))\n",
    "\n",
    "    return {'ttest': min(model_stats.cdf(0),model_stats.sf(0)),\n",
    "            'mwtest': None,\n",
    "            'uplift': model_stats.mean(),\n",
    "            'relative_uplift':None,\n",
    "            'ci_left': model_stats.ppf(0.025),\n",
    "            'ci_right': model_stats.ppf(0.975),\n",
    "            'ci_lenght': model_stats.ppf(0.975) - model_stats.ppf(0.025),\n",
    "            }"
   ]
  },
  {
   "cell_type": "code",
   "execution_count": null,
   "metadata": {},
   "outputs": [],
   "source": []
  },
  {
   "cell_type": "code",
   "execution_count": 31,
   "metadata": {},
   "outputs": [],
   "source": [
    "def s_learner(df,Y,T,model=LGBMRegressor()):\n",
    "    \n",
    "    data = df.drop(Y,axis=1)\n",
    "    target = df[Y]\n",
    "    model.fit(data,target)\n",
    "\n",
    "    return model.predict(data.assign(**{T:1})) - model.predict(data.assign(**{T:0}))\n"
   ]
  },
  {
   "cell_type": "code",
   "execution_count": 32,
   "metadata": {},
   "outputs": [],
   "source": [
    "meta_learners_ci = {}"
   ]
  },
  {
   "cell_type": "code",
   "execution_count": 33,
   "metadata": {},
   "outputs": [
    {
     "data": {
      "application/vnd.jupyter.widget-view+json": {
       "model_id": "063e5316dc4445a398e8affbe6d7640d",
       "version_major": 2,
       "version_minor": 0
      },
      "text/plain": [
       "  0%|          | 0/333 [00:00<?, ?it/s]"
      ]
     },
     "metadata": {},
     "output_type": "display_data"
    }
   ],
   "source": [
    "meta_learners_ci.update({'s_learner':ci_check_meta_learners(s_learner,uplift_ab,'target','ab')})"
   ]
  },
  {
   "cell_type": "code",
   "execution_count": 34,
   "metadata": {},
   "outputs": [],
   "source": [
    "meta_learners_result = {}"
   ]
  },
  {
   "cell_type": "code",
   "execution_count": 35,
   "metadata": {},
   "outputs": [],
   "source": [
    "meta_learners_result['s_learner'] = {\n",
    "                                    'AA':s_learner(uplift_aa,Y='target',T='ab',model=LGBMRegressor(n_estimators=1000)).mean(),\n",
    "                                    'AB':s_learner(uplift_ab,Y='target',T='ab',model=LGBMRegressor(n_estimators=1000)).mean(),\n",
    "                                        }"
   ]
  },
  {
   "cell_type": "code",
   "execution_count": 36,
   "metadata": {},
   "outputs": [],
   "source": [
    "from copy import copy"
   ]
  },
  {
   "cell_type": "code",
   "execution_count": 37,
   "metadata": {},
   "outputs": [],
   "source": [
    "def t_learner(df,Y,T,model=LGBMRegressor()):\n",
    "    X0 = df.query(f'{T}==0').drop([Y,T],axis=1)\n",
    "    Y0 = df.query(f'{T}==0')[Y]\n",
    "\n",
    "    X1 = df.query(f'{T}==1').drop([Y,T],axis=1)\n",
    "    Y1 = df.query(f'{T}==1')[Y]\n",
    "\n",
    "    m0 = copy(model)\n",
    "    m1 = copy(model)\n",
    "\n",
    "    m0.fit(X0,Y0)\n",
    "    m1.fit(X1,Y1)\n",
    "\n",
    "    return m1.predict(df.drop([Y,T],axis=1)) - m0.predict(df.drop([Y,T],axis=1))\n"
   ]
  },
  {
   "cell_type": "code",
   "execution_count": 38,
   "metadata": {},
   "outputs": [
    {
     "data": {
      "application/vnd.jupyter.widget-view+json": {
       "model_id": "50b975b77ba24a13b1cbf5ae2b356b52",
       "version_major": 2,
       "version_minor": 0
      },
      "text/plain": [
       "  0%|          | 0/333 [00:00<?, ?it/s]"
      ]
     },
     "metadata": {},
     "output_type": "display_data"
    }
   ],
   "source": [
    "meta_learners_ci.update({'t_learner':ci_check_meta_learners(t_learner,uplift_ab,'target','ab')})"
   ]
  },
  {
   "cell_type": "code",
   "execution_count": 39,
   "metadata": {},
   "outputs": [],
   "source": [
    "meta_learners_result['t_learner'] = {\n",
    "                                    'AA':t_learner(uplift_aa,Y='target',T='ab',model=LGBMRegressor(n_estimators=1000)).mean(),\n",
    "                                    'AB':t_learner(uplift_ab,Y='target',T='ab',model=LGBMRegressor(n_estimators=1000)).mean(),\n",
    "                                        }"
   ]
  },
  {
   "cell_type": "code",
   "execution_count": 40,
   "metadata": {},
   "outputs": [],
   "source": [
    "from sklearn.model_selection import cross_val_predict"
   ]
  },
  {
   "cell_type": "code",
   "execution_count": 41,
   "metadata": {},
   "outputs": [],
   "source": [
    "def dd_learner(df,Y,T,model=LGBMRegressor()):\n",
    "\n",
    "    data = df.drop([Y,T],axis=1)\n",
    "    target = df[Y]\n",
    "    threatment = df[T]\n",
    "    \n",
    "    debaise = copy(model)\n",
    "    denoise = copy(model)\n",
    "\n",
    "\n",
    "    T_res = threatment - cross_val_predict(debaise,data,threatment,cv=5)\n",
    "    Y_res = target - cross_val_predict(denoise,data,target,cv=5)\n",
    "\n",
    "    W = T_res **2\n",
    "    Y_star = Y_res / T_res\n",
    "\n",
    "    final_model = copy(model)\n",
    "\n",
    "    final_model.fit(data,Y_star,sample_weight=W)\n",
    "\n",
    "    return final_model.predict(data).mean()\n"
   ]
  },
  {
   "cell_type": "code",
   "execution_count": 42,
   "metadata": {},
   "outputs": [
    {
     "data": {
      "application/vnd.jupyter.widget-view+json": {
       "model_id": "784f26f9aa4d48f187eed1588739609a",
       "version_major": 2,
       "version_minor": 0
      },
      "text/plain": [
       "  0%|          | 0/333 [00:00<?, ?it/s]"
      ]
     },
     "metadata": {},
     "output_type": "display_data"
    }
   ],
   "source": [
    "meta_learners_ci.update({'dd_learner':ci_check_meta_learners(dd_learner,uplift_ab,'target','ab')})"
   ]
  },
  {
   "cell_type": "code",
   "execution_count": 43,
   "metadata": {},
   "outputs": [],
   "source": [
    "# Для цисленных переменных влияния (сикдки , бонусы, баллы и тд)\n",
    "meta_learners_result['dd_learner'] = {\n",
    "                                    'AA':dd_learner(uplift_aa,Y='target',T='ab',model=LGBMRegressor(n_estimators=1000)).mean(),\n",
    "                                    'AB':dd_learner(uplift_ab,Y='target',T='ab',model=LGBMRegressor(n_estimators=1000)).mean(),\n",
    "                                        }"
   ]
  },
  {
   "cell_type": "code",
   "execution_count": 76,
   "metadata": {},
   "outputs": [],
   "source": [
    "def dr_learner(df,Y,T):\n",
    "    \n",
    "    X = df.drop([T,Y],axis=1).columns\n",
    "\n",
    "    ps = LogisticRegression(C=1e6, max_iter=1000).fit(df[X], df[T].astype(bool)).predict_proba(df[X])[:, 1]\n",
    "\n",
    "    mu0 = LGBMRegressor().fit(df.query(f\"{T}==0\")[X], df.query(f\"{T}==0\")[Y]).predict(df[X])\n",
    "    mu1 = LGBMRegressor().fit(df.query(f\"{T}==1\")[X], df.query(f\"{T}==1\")[Y]).predict(df[X])\n",
    "    return (\n",
    "        (df[T]*(df[Y] - mu1)/ps + mu1) -\n",
    "        ((1-df[T])*(df[Y] - mu0)/(1-ps) + mu0)\n",
    "    )"
   ]
  },
  {
   "cell_type": "code",
   "execution_count": 78,
   "metadata": {},
   "outputs": [
    {
     "data": {
      "application/vnd.jupyter.widget-view+json": {
       "model_id": "581f4c9374cf475e95fea13e532ccec5",
       "version_major": 2,
       "version_minor": 0
      },
      "text/plain": [
       "  0%|          | 0/333 [00:00<?, ?it/s]"
      ]
     },
     "metadata": {},
     "output_type": "display_data"
    }
   ],
   "source": [
    "meta_learners_ci.update({'dr_learner':ci_check_meta_learners(dr_learner,uplift_ab,'target','ab')})"
   ]
  },
  {
   "cell_type": "code",
   "execution_count": 79,
   "metadata": {},
   "outputs": [
    {
     "data": {
      "text/html": [
       "<div>\n",
       "<style scoped>\n",
       "    .dataframe tbody tr th:only-of-type {\n",
       "        vertical-align: middle;\n",
       "    }\n",
       "\n",
       "    .dataframe tbody tr th {\n",
       "        vertical-align: top;\n",
       "    }\n",
       "\n",
       "    .dataframe thead th {\n",
       "        text-align: right;\n",
       "    }\n",
       "</style>\n",
       "<table border=\"1\" class=\"dataframe\">\n",
       "  <thead>\n",
       "    <tr style=\"text-align: right;\">\n",
       "      <th></th>\n",
       "      <th>s_learner</th>\n",
       "      <th>t_learner</th>\n",
       "      <th>dd_learner</th>\n",
       "      <th>dr_learner</th>\n",
       "    </tr>\n",
       "  </thead>\n",
       "  <tbody>\n",
       "    <tr>\n",
       "      <th>ttest</th>\n",
       "      <td>0.229536</td>\n",
       "      <td>0.407425</td>\n",
       "      <td>0.369144</td>\n",
       "      <td>0.434526</td>\n",
       "    </tr>\n",
       "    <tr>\n",
       "      <th>mwtest</th>\n",
       "      <td>NaN</td>\n",
       "      <td>NaN</td>\n",
       "      <td>NaN</td>\n",
       "      <td>NaN</td>\n",
       "    </tr>\n",
       "    <tr>\n",
       "      <th>uplift</th>\n",
       "      <td>0.000479</td>\n",
       "      <td>0.000308</td>\n",
       "      <td>0.000412</td>\n",
       "      <td>0.000209</td>\n",
       "    </tr>\n",
       "    <tr>\n",
       "      <th>relative_uplift</th>\n",
       "      <td>NaN</td>\n",
       "      <td>NaN</td>\n",
       "      <td>NaN</td>\n",
       "      <td>NaN</td>\n",
       "    </tr>\n",
       "    <tr>\n",
       "      <th>ci_left</th>\n",
       "      <td>-0.000788</td>\n",
       "      <td>-0.002271</td>\n",
       "      <td>-0.002004</td>\n",
       "      <td>-0.002272</td>\n",
       "    </tr>\n",
       "    <tr>\n",
       "      <th>ci_right</th>\n",
       "      <td>0.001746</td>\n",
       "      <td>0.002887</td>\n",
       "      <td>0.002828</td>\n",
       "      <td>0.002689</td>\n",
       "    </tr>\n",
       "    <tr>\n",
       "      <th>ci_lenght</th>\n",
       "      <td>0.002534</td>\n",
       "      <td>0.005158</td>\n",
       "      <td>0.004832</td>\n",
       "      <td>0.004961</td>\n",
       "    </tr>\n",
       "  </tbody>\n",
       "</table>\n",
       "</div>"
      ],
      "text/plain": [
       "                 s_learner  t_learner  dd_learner  dr_learner\n",
       "ttest             0.229536   0.407425    0.369144    0.434526\n",
       "mwtest                 NaN        NaN         NaN         NaN\n",
       "uplift            0.000479   0.000308    0.000412    0.000209\n",
       "relative_uplift        NaN        NaN         NaN         NaN\n",
       "ci_left          -0.000788  -0.002271   -0.002004   -0.002272\n",
       "ci_right          0.001746   0.002887    0.002828    0.002689\n",
       "ci_lenght         0.002534   0.005158    0.004832    0.004961"
      ]
     },
     "execution_count": 79,
     "metadata": {},
     "output_type": "execute_result"
    }
   ],
   "source": [
    "pd.DataFrame(meta_learners_ci)"
   ]
  },
  {
   "cell_type": "markdown",
   "metadata": {},
   "source": [
    "# IPV & Double robust\n",
    "<img src = 'data:image/jpeg;base64,/9j/4AAQSkZJRgABAQAAAQABAAD/2wCEAAkGBxISEhUSEBMVFRUVFhYVFhcVFxUVFRYXFRUWFhgVFRUYHSggGBolGxUVITEhJSkrLjEuFx8zODMsNygtLisBCgoKDg0OGhAQGy0lICYrLS0tLS0tLS0tLSstNS0vLS0tLS0tLSstLS0tLS0tLS0tLS0rLS0tLS0tLS0tLS0tLf/AABEIAKgBLAMBIgACEQEDEQH/xAAcAAAABwEBAAAAAAAAAAAAAAAAAQIDBAUGBwj/xABDEAACAQMBBQUFBQYDBwUAAAABAgMABBEhBRIxQVEGE2FxgQciMpGhFEJSscFicoKy0fAjM5IVJEOTouHxFlRz0uL/xAAaAQACAwEBAAAAAAAAAAAAAAABBAACAwUG/8QAMxEAAQMDAgMGBgICAwEAAAAAAQACEQMhMQQSQVFxImGBkdHwBRMyobHB4fEUQjNSYiP/2gAMAwEAAhEDEQA/AOLNRUZoqKiFChQqKI6AoCiqKIxQFEKOgohQoChURQoqOjqKJNHijoUFEWKLFKoYqKJsikkU6RSTUUTVFSzSTRQSaFHU/Z1pve83wj6n+lAkASUWiTASrCxz7z8OQ6+J8Ks6WaQaVc4uN021oaLIU9a2rSHCjzPIedSNn7OMmp0XrzPl/Wr+KIKN1RgCl6tYNsMp/TaJ1XtOsPuffNR7OwSPXi34j+g5VKoUKTLibldljGsENEBChQoUFZCmnuFDbg1IGW6KvVjyzyFRtq3pjARMGR/hB4ADi7fsiqaSXTcQkgnJJ+KRz95v0HLStqdHcJPvv956SlNRq20jAz7t1593eVoLa5D5K/CDjP4j4eFP03awhECjkNfPmfnTlZOibJlm7aN2eKFUfaDYQlBkiGJBxH4//wBfnV5R1anUcx25qpXosqs2vwuWFccaGK13anZGQZ4xqP8AMA5j8f8AX51kq7NKqKjdwXlK9B1F+x3nzTx40KNqImtVihRUZoGooiFChQoKICjoUYqIohRijoUFEVHGmT8/oM0dLh4+h/I0CiLojGPGh3dFcHT1pC5PM0JKJhLKUkrRHOmppbVJUykGmzSzSCasqpBpJozRAUUFIs7cu2OXM9BV8qgAAcBTVrEI1C8zqfP+lPE0tUfuPcm6bNo70Rqw2Zs7f99/h5D8X/akbKse8O83wj6npWgpOrVizV1NHpN/bfjgOfv79MgChQoUouuhQoUKiiFJkkVFLMQFAySeVFPKqKWc4UDJJqONlS3EMlxKpCLG5ghx7ztundkkHnjC/wBnSnT3G+FnUqFtm3MY/Zjh+cBZmW876R2GfeOCekYPuoOmcbx9PGrHY0W9KM/dBb8gPqaqbS3MYZTxDspx1U7v6VcbCOJf4T+YP6U9WhrXAclwdKS+s0v4n9z+bq+oUxZXQkBI4BiB5DGDT9c4ggwV6Frg4AjCFKpCsCMg5FHQRylYzoa5ztO3MUrxjgrHHkdR9CK6KKz+39gtNLvoQPdAOnMZ1+WKb0lYU3GcQuZ8R05qtG3IP2WTYa0DRtxpNdZecR0VHQoKIKKFCjqIoCjohShUURUdAChigogKdhGvo38ppsU7APe9G/lNB2ERcpq54CmFNSLkaetNKh6UG4RKVmjam+dONUUTZNIJpRppqsqojVhsqDLbx4L+dV9XgTu4gPvHT+Jv6fpVXm0DirUxeTwTsBzl+vD90cPnxp+KIuwUcScf96bVcAActKlWNyIyWxk4wvTXmf750q45ITtNokBxtx/a0SqsagZAUDnSLe5V87moGmcaenWs9l5nAJyT8h6chWkghCKFXgPr40lUYGC+V29PXdVPZENHvoEuhQoVinEKaubhY13nOBw6knkAOZ8Kbe7Jbu4FM0nDdX4V/ffgPLjU+xtba1kEu0LiPvwMqOKxZ/BGNc/tGtW0jl3lxPv+gUvUrAfT5nA9T3C/OErY+w2lYT3a7oBzFAfu9HlHNui8vOtXmqiDtrsvOGnJPUpKBn/TV7Zy29yu/ayq4HHdOQD0YcVNF7iPqaQOllWjqaIMNdJ4m1/L0gcFx3bcBguJ4zydpF8Uc7wx14486aR+YPEcuYNdD7XdnDcKGX3Z487hPBgeKN4HkeR9a5pCjxs0UqlHQ/C3HH6+dPMcHs3ea4+pouo1O43B+8dfTyvez8urJ194emh/T5Vc1lLabccMOR+nMfKr3al0yCIxguzP7ij75MbqvpvFaUrUyX24ro6GuBSId/r+D7j+03sy0upO/a27pkSZxuybwYtgMwU8OJ59akbOvRKGBUpIh3XRuKn+lXlgyWccVqMyTsCxVeLMxy8jE/CgOdTyGmaqu00HdXsEoAH2hGjkxw3kwQfE6qPIVZzA6YHQ849QrgmkASeIDhkDcbRygkW5cBZOClUmia4VdGIzxpSJwmHkDK5qeNJo2o816BeORYoyKVQY1EUkUKOgKiiOjoUAKCiFAUKUKigR4pduPe9G/lNIAp60HvejfyNVHYVxlNXQ09f0NMJJjyqRdjT1/rUSozCjsoc6ccU2vGnnFFBMNTbU6wpsirKpSRVhLdmSRNMAMNPHI1qvNGpxUIBUBIWmNINNwT7xHQqD6gkN+YpwNqR0x9f7+tKQQnAQrPZL4IVB7zfEx+6o5Dx/qKvKq9gQ6M/XQeQ4/X8qtKQrkb13tC0ikJ446IVAjgkvJO7iZhEDh2XTeP4E5nxPAUkFrpzHGSsKnEkg+91jjP5n+z0bstsyOOMEKowAFH4R/U8aP/C3c7PAckajxUFvp657rcJyZvwTuwdgRwRhQoGnADhry/XrS4dgWkeWWCPeJJZyoZ2J1JZmySSfGrc1Eum0pF1V5JJOVhAcRP8AXRMSGMabi46boxUK3srdZRLHGqSagsg3N4Hk4GjDz6VUbb2m6HCDjzPD0HOodjtZ94BxnPMafQ0QHAWKfboi9m6MLbOqyDB9DzFZTtj2PNyoZCBMme7fqOO446cdeXqRWhsJc1aJRpVnUzLUnVbYsdcHgvP13FJA3d3KGNuWR7reKtwIqy2BfEzo51js4ZZGI55QqB0zqAPWuzX+zo5l3ZUVh0YBh8jpWfn2Pb2qsAkccZ95iBuqQpzlj0HyroM1TKgiL+/HCUo6VwdIdbN+64ngbgEnlwWc2d2VEv8AvN40n2hzvncYp3fRFx0GB6Uz2xkD3VrCupj35X8BoFz5lT8xWi2ttmK3h792BUj3ADnvCRoF6561kNlwuS883+dMd5v2V+6g8hj5DpVnPdtL3d4HU2t0CcdTpgilT4w53OAZk97j9pOAp5ONToBqTXPts3vfys/L4V/dHD56n1q57U7Y4wRn/wCQj+Qfr8utZULW+ko7RvcMrl/EtVud8thxk9/LwTxoqM0VOrlJVAiiFGaiiKlUVGaiKFGKIUsUEUBSgKe2dYyTyCOFGkdvhVASx9K6n2b9i1xIFe9lWAHUxoA8mOhbO6p8t6iAouTqKetdG9G/lNej9n+yfZUYGYWkI+9JI5J8wpC/SrlOw2zBwsbb1iQ/Uis3AlXlo4/b3+F5Yli3hTJsx1Nerz2J2b/7G1/5MY/Sq669mmy5M/7qqn9hpEx5BWx9KoBUH9/wrTTOZ8v5XmD7KBzoSJXc9t+xOI5NncOh/BMN9T/EuCvyNcr7TdlbuwfduYioJO6496N8fhYfkcHwqSePvxx91C0f6398jB/SzLLTbCpbpTTpWsrJRCKKnWWmyKKqpFpPusvQH89D/fhVtaHPefvn6AYqgq32LJklDzIP6H9KzqttK1pOvC29jFuxqPDXzOp/OqTbe0Xk/wAG34M4iZ+W8+cIp9Dk052i2tu4hRt1mxvtx3EOmPM/lUi0AhWOOVR3KOJI50Gmeso5ZBI3uGopCkzb23C5wP339F36lXeDRpmAAAT+u7vdjhPEaHZ1sI0jiGNAFO6N0HqQK2ezJxu4H/nPA/KsZJdBMMdemNc+VNWm0XictCGKkkmFup1LQkcDz3eB86Uq9tdF1HsQBYLpCvTFyuRUDYm00nQSRnIOnQg81I5GrXFJkEWKR+kysrtfZ+/4EcKrrLZLBwWPDhgVs5LbNIW0FW3J5msc1m1M2MWKtEpuKLFPCqpF7txQqDtdwFG8cZOPoT+lTqyHtPmK2MuCQQIyCNDkzRjT5GtqDN9QNVN+yXcgT5CVz7YlrHKzz7uF71zCn3EXPELwB/8ArSu0+1zEvdoffcan8K/1NTNkKsVsm9oBHvnwyN4n61hby4MsjSNxY58hyHoMD0rqUmfNqlzrgY/SV1FU6fTtYLOdmOfH8wOQxhMKKfCUcUdSRHTxcuNChtQFA8aFXQR4oqOgKiKOjFJFHQUhGKnbG2VLdTpbwLvSOcAfmSeQA1J8Khxvg5xk+PCvQHsU2GnctfsgV5R3Y6bqn3mHmwx/DVHOMgRlM06TTTdULriLXvPfjqOUwtL2B7EQbMhwuHmYDvZSNSfwr+FB0+daqZsKSNcAmq277RWkTmOWeJHGMgsBjPDPTiPnU8XCEZDLjJXORjOcEeedKtINgsHNeILge6yyadtl/wAMMo3nikcje4Omfd4a/C1V+0O2d2jlUS0XdWPPfTFDvOATgY1Az9KjzbFspDIq3cG883fAB1JVFyXXj0Zj6Uzf7KM9xLPb3NgYi6M3ehZWQAKvxcF1HWua1+otuK9B8jQz2RwOQcyIiRHEiL/StvsHbBnilkZQvdyyx6HORHjXzNL7M7UN1bJOwCl97QHIGHZR9AKxuzu/SQrFe2zQST6qp7xz3zaDRdCcEcepp7spb3cZEEd5bSJFv5jQhm4tj7mfiIzr4VqzUOloMngcZ80tqNBSDKha5ouCJ3Dsw6RcZnbz68+h1E2ls+KeNopkDo4wysMg/wBD41A2E25Aiyyq7g7rMXDZkLHKb3MgnGPDFS49rQNIYlljMg0Khhvafs8abD2loJ4rlOpua9wbeCbjFuPRecvaJ2LbZ04VSWgkyYmPEY4xsfxDTzHrWRkhxXqD2lbEF3YTKBl4x30fXfj1wPNd5f4q81tHmsiYMI/UJ9yql46ZZKtXgph4au16oQq0rSo3KkMpwRwqS8NMtHWgcqoXVw0js7cWOT08vKpeztoSx6I5A6aFfkdKr2WjRtajmgiIsr06ha7cDdbvs/c94DGeXvL0GuCo8NeHnWisLNt5WOPDHjWB7K3m7cxjOjEp/qBx9cV02xkAOD6edcnU0YcvXfDtYXUNs8YRezobyXLjg9y5Xy3V1+v0rZuhZSAxUnQMApIPUBgQfUVjey9tdWebcQGeDfZklR41dQ33ZEdhkjqK2wGRqOI1B/I0nXEVCRjgkd0i4vxVP2U2hJcQF5t0sssse+gwsgjcqJFXJxnHXiDVxiijQKAFAAAwABgADgABwFVnaDaHcxgIoeWU91Ch1DOw4sPwKMsx6A1mRvd2Rkqg7Le0rRSDqKOqjs32ejso9yJmO8F38k7pcA70ir9wtnUDT3V9beg8NBhpkdIVmkkXEIGuZ+2DaO7EkIIJkbJx+CMk4P8AEy/I10ieUIpZiAqgsSdAABkkmuN9uA08BvnBHfTokOeK26pNunhkFzvMR5U7oW//AFDj7Ky1BPy3Acj5cfTqVm7rbjSBgQF3ohH7ucaPvZ1/ZyKrYY6aRasbeOuvtawQ0QuM+o6oZcU7FDT4ipyGOn9ysS5BZw8aFOOhpPdnpTazRUKV3Z6UfdnpURSVFLoxEehoCI9DQKKKvVfs9CR7NtFU/wDATP7zDeb6sa8qSIRxr092GnU2Ntg5/wAGP09xRj51yvievfpWtcwAzOZ/UJltKWTPL9qHt3Y9vJtW1LQRtvLI7llz7yhmVj5FR9KyVpFf9xFkobQ3rsMFu/3i0h15YycehrpfaTaX2WFpwm8yjdUaas+MePn4elZfZva2dEuBO9pNIhjWJIDqJJH3Asg5AMw1860ZD2y4iTcwLX8evjK6VCvVNJhDZAhok5LS4mLGDD29APLDdn0WSCREktC/2d1xDCwnBIA1cjqdetSrzZbQidZ0SOUfZxiJCsTxCRWDMBx97dz61rl2te2rzQXMduZGhMsEkabqEhlVlkXOdC6HyzV7siedpZYL5InYRLIpRcqy5+Eg+NQ05MT9uv3TbNYWA1NgLc/VciW4sRAweMHkFRdk7KK4ilLvHiNlcdxGYyCsbqCcoN7iSByIPWm/ZjKouJY1UOoRiJihVgCwwh8/04nlPXtoghj+zrF3ziQyRqN0JuJIRp5qB6Gq6DtdOI5JBLbkhASqxuN0s6LvOca7u8eFYtdTYWGcd3lxWr6erqtrM2EB8AAuwQYmzb3niB1yqizguo2h3d4xz3HeAYPuSRyOo+Yx8vCrLZf2aVbVYVZb1J0EmhDHBy7SHmvP6VI/9X3QjckwFRKkYmVX7pd5XJyOJwMfOtL2NnE4eZjA7lsF4oyhxgHDFgCapRpsc4Nacjl+L5Wmr1VZlJ1WoyIP+rrGZgOtcbXAGYJINr21DLkYNeVJrcBmUcmI+RIr1YTXmSeAlmOOLMfmTXR1BAI8f0vJ05g++aqHhqO8FXBtW/CaS1selYB6tCo5IKjSQ1evbHpUOaDwrVr1QhUcsdRmWraeHwqFLFTDXKsFMwyFGDLxUgg+IOR+VdY2TfpcRCROejDmrc1P98K5Z9nbdLAHdBCk8gWDFQT1IRv9Jp/Zm0pbZ9+I4z8QOqsOhFUq0w8d6d0eoNAmRY59V2fZ21Gj0bJXh4geGat37SWa6SXESHG9uu4VseRrm9h2wgcYlzE3iCV9GH61PgltZJO9R42fdC53lJABJGAdQdTrXOqaaT2gQuv8ynVuwiffDK179qVfItIZrg8iqGOLzM0gA3fEZo9h2u9M81xKklyoClUz3dsr+8I0B1ycZLHU6cBVFfzTygAXEiLz3N3eI4aOQSPMVY7Du4bZCkcRUEliclmdjxZ2OrE9axNINadufeTb7CTzVfkP3XwOg8hJPn4BayhVam2ocZLgDGTve7j1OlZfbfbB5yYNna8nuT8CDpF+N/Hhw8wuyg95gBB52WOeA4lSttXP2+4+wRE9zGd67dTjexwt1YcySN4jhw6io3tRsR/s9iAMRmI4AwB7wTQchhqs+xGzlhjYINMgZPEnizE8ycinu3c0a2Fx3pwDGyr4uwwgA/ex9TTLH7KrWtwCPGc++ULOowtY8OyQZ5YNvD7rgENWlqKtdvdgrqztIrx8MjhDIoBDQlwCof5gZ66VU2bV2KgXCaVaxpS92jtxmnyg60qMrRZc0oUg0sU+sEYpdIFLoIpQoxRCligVdR7saiu4exvbSPZCAkB4ZCuOqtgof9RYfLrXELzl61edgu0n2C6ErDMbDu5BzCkg7w8QQD5ZFc34lpjXoFrci48P4TtIjZB9keyvSG3tli7geAtu7wGGxnDKQwJHMafImsg3YCKC3uHvbn4o1HeoqxCIRPvo+nxMGwcnpW02XteKVQ8Tq6EZDId4Y9OelWVxEroVYBgRwIyD5iq/DalOtSt9TbRcR5qg1Vak35YMNmeGbA/aFy/ZU8M9tcPcbUjmdIxEJlUIIVc6H3uLsVXOv3RV/sG+tYoGupL0T95iIysV+7nEYVQMcSetZhE+x2tpPNbMYY7q4adVT3grNKIpGX7wXJ49RTDiESi+ihkNpJeRuEWJm3isLq7rFj4WLKPNc0xYHdF/d10nUt0s3HbcWjgYLRyJgGMc7rXx7GspLRHikj3UVx3wC+9vIyEsf4s+lMWXZ9QrpNeKyKELKFjG6FZXBYjXULz61R7QsrqSFo7W3kVLmZ5hGU3Csa7u6GB0TeJHu8fcqbs/ZckhsZHR1Zi0NwCrDeEfwmT5c/w0q5rSQAzhGSO708/JrZUa3e6tN3HDHERLuoJh4sYkDgrq87HK4fuJjGskiTKu6GRXGdQD4Hh4Vd9ndmPBGVkl7wls53VTGg0wtTLW7R2dEz/hkI2hAzgHQ89COFTa6FPT02u3t/hcKtrK9Rny6htY3AnzievPOVX7aSVoJFg/zGRlXOgBIwDnwzmsLY+zI7v+NPg9EUYHqTXSqKrPote6T7/f3SwqENge/wBLn0nswjx7tw+fFVrN7a7B3MALKBMo4lNGHmp4+ldloqo7TM4W+/5RFTmF5ukg8KgTwca7L237Gd7me1X/ABPvIMAP4jo1ZvZns2upTmcrAvPJDv6Kpx8zWIpvBiESQuWXEFansP7NZr5xJOrRWo1LEbry/sxA8v2+HTPLsuw+w9ja4ZYhJIP+JLh2z1UHRfQCqH2idvltka3tGDXBGC4wVh6noX6DlxPQsBu27lN02aube1q5tlkj2dYIkcFrkuE4NO2Ad48WZVGN4knLMOVc7mg/SrvuCRk5JOpJ1JJ1JJPEmmrm1wB6VU1Lp1lJoYq+SKmHtv2atpodT5n86dnhwi/uj8qqKhEJp1Jj8qmjkkj+B5F/dZh+VS17R3i6CYnzVT9SKjTnFWHZTszPtKcQ24wBgySH4I16nqTyXifmRsBuyEnVd8qzHEdCQo9nfSXFzEs7mRTIoKn4cZ/CNK6UqBQAoAA4AaAeQpjtt2Tttny7Lht11Z52kkbV5CohwWPID3sAaDJ8TUiltVkDuXQ+EkuY5xzOeOAthsKHdgTqfe/1HI+mKorS3/2ptDJ1srB9fwzXI5eKr/eQ1I2ptOWYQ7OsT/vEsSmSQcLeHADOxHBiOHPUcyK3/ZrYkVpBHbwj3IxxPFm4l28Sdaz0Onuaru+PVJa/USTTHj6KXtHZqTwSQSjKyoyN/GMZ8xofMV5Xt4WikeKTRo3ZGHQqSD9Qa9bGvMvtDgEW17xVGAZA/rIqyE/NzXQcJC5oSbRtKkkCoNk1Ts0oRdXWVNKFJNKFOrJOChSBS6iKWKcFNClLQKITV5wHnUYVJu+A8/0NRqzITlI9lX/ZftVc2D70De6fiRtUbzHXxFdl7Le1q0mwlxmBj+LVMnow4DzFefRSlpZ1BnzBVFncxx68/wCAti1rhDh6++sr13a7YtJ19yeKQcDh1P0zU5NzAAxjljh6V5Dt4iVLbzccY/7+taKwuJFGFlm/5r/oalXUPbiD5haM+F7xIdHUT9wf0vTw9ajz3kSAs8iKBzZgB8zXneXakgQ78spAHBpHI8sE1m7eTmdT461rpq7qzoIhLa3RjTUy8uk8o/cr0jc9sLVSVjcSPgkBeBx0Y6H0q9spWaNWcYJAJHTPKuEPOomjIKsUjkbGRpgwkeXA13yHgPIVnpq7qriTw/c+PBTV6dlENDePoPVMXs+4jMMZCkgeVUdvt92iuW3QWhQMo6kx7+vrUrbuxmnZXSUxlQVbAyGU8RiqO52dAzNLFdd3Eu7DOARutuabuTwOuNOtVrvrbrWAB4i9jfwNz7jXS09OWjeZNuBtcWMf9rxzMTGUi27RXEl4sJaOIYXCur5lBXVkbh6eFWHZye8knmE0iGOFzHuqmCThWBz0wcVT38tml4ry3bnu2VlixlVbGgBA045xWz2bYLG0siknvn7w55ZVRgeiiqUN7n9p0weYxHId4/KY1bqLKI2sjcwRLTmbwSL2NzfqrGqXbvaO3tNJWJcjIRRliNRnoBkHU9Kua5v7UVHfQnmY2B8g2n5mnqrixshcZtyqXtD20ubkFEPcxnkhO+R+0/H0GPWsPdW2lXZUVHuIwRSO8uN1qLKrgtPdHlRX1poP4P0rQWdnmNfL9Kb2ja6esY+q1AbpgPgLLXsGCfM/nUO8kG6B0A/KrfbK4J8zWY2rcYXHPh/Wt2tmEHV4lK2NsqW/uUtrcZZzqfuqo+J2PJQNfoNSK9M9lOzkOz7dbeAaDV3PxSORq7ePhyGBXJOyG0Ytj2sbLF9o2heqsqxg4EcB1j32+6GGXwOORnGAa1Gz/aXPG6/7StUjhYhe+hcusZJAHeIdd3Xjn50xua0hpN0qQ98uhQ/atKH2nYRjikU0p8A+VB+aVQNPLPL9lsVEk5+In/LhH43bl5f+C9tGOTbG1ZprWQx2sSLD34GpUe8yx5+8WLHPIYPMA3Gz9h32yVY2DJdRE70kEiLHM3UpKvxN4H0BpGtqdM2uGVHgGBb1OPBPUK1WlQLabbkzPp6+S13ZHsxFYRFVJklkIaaZvjlb9FGTheXmSa1ESYFU/ZTbUN9D38ORglHRhh43HxI45EZ+tXddIrmpMjAAkkAAEknQADUknkK8sdr9rJd7RubmP4HfCZ5qoCK2OWQoOPGuydodqNtSRrK0ci0RsXc6n/NI1+zQtzH4m6eHxcn9onZn7Dc70SnuJctHzCn70eeOnEZ5EdDSv+VSNb5APaif46xeFoKbtm/goVk9WG9VFZy1aCWo5t0FRkjrRhh1qMW1og1NKimBh1oww61D36MNQUU0OOopYkHUVABpWTQUUq5YEetMd2fD5igp1G9wyM+VGX6cKqRJW7X7W2ScGlKaITHrSu98aqWrRtfmFZWKbyY1+PX5VZxoOrfPH5VRRzkJoce8fyFOrfv+L6ClnUXOOV0hrmU2gQSYClXzAthd7HAg7xGc8eNT91FiQDdJDDJA1IIJ1zVUm0n/ABn5U+1+WABbI4+vD9a3pUTubfC5+q125j+zkRnC1YnR5zulc90y5GQdWHHljXzrufZLai3NrHIhzpuN+8nun8s+ted7LaCswLsAdxlyd45JZSOfQGt32G7SrZOUdl7iQ5bCkbjcN/jw6+Q6VhTpnTvIOLBSvqBqGtNpv5/z6Lrt7LuRu34VY/IZrjGy7S6OInDCJ7iGQjDe8ZBvD5Lx8hXa4ZVdQykMrDIIOQQeYNObo6VfUab5xBmI7v57ltoPiP8AiNeAwEmL8ox+VxzZFz3l2R3pUvOW3e5DnWTT/ExpoBpyrq+zL+OZN+IkqGZckEaqSDjPLSn1t0ByFAPkKcVQNBpU0+ndROVXX61mqIIaRHTxw0HlEknqlZrjnb/bCy3jhSCsQEQ15qSW/wCpiPStt207VraoY4jvTsNBxEYP32/QVzVdry88den60NRVB7I8Usyi6A5V/wBpHUVO2bZvOrd33ejAe+6JyOcb3HlT0u1i6lX3GBxkMSRpqNAetFBtBF/4cQ9G/LNKwrbCru2sAiIryQhsDIEqHlywarNqw8gVwHXXeXgN0kjXXnUSfbKjhHEPJG/rVFtLbwP3V9Bj9a0a2SgQRlRNug7xIwRk8xWSu91pER23RvAM3HdUkAn5a1O2ltfjgCtR7P8AsSLlJJLnPvxsF6rvghX/AHufkB1rapWZp6ZqVMINpuqna1XPZPZL3jy38g3BOxKkge5Cvuxxr4BVUZ6AVN7f7K7q0EcRzJcSx2672NTIeoHQH51dWNyriKGAAQDcVMfejTADeTYyOq7p+9gTdtWveT2eeCSySn+GF1X/AKnFeXrayo7UiocXMdwEifLHBdL6aWxp9nJUrYWyY7SCOCIe6gAzzZvvOfEnWrChQrkuc57i5xknK1AAEBZjYkv2bbksYwsd3aCd+Q72Fyu90HuBifOmNtban2u7Wtg5islJW4uho0/WG3/Z6tz8tHY7Sdk5L2/V3do7ZIBG+62HmLSOzRLjgmNzJPkM8tdaWqRIscShEUYVVGAAOlegPxc0dIymwy/bc8uXjEQPE8kiNNvqEnEprZmz4reJYYUCIgwoH1JPMk6k8yahdqdgpe27wPgE6o2M7jjO6w+eD4EiriiNcFtV7X/MB7UzPfzTu0EbeC8x3NtJbyvBKCrxsVIPUdOoPEHmDTouK7B7ROxIvV76DAuEGByEqj7jHk3Q+h01HFTLJGSjKQykqQdCCNMEda91o9WzV097cj6hyPoeC5FWkaboOOCYZDngflQ3D0PyoUKfWCG4eh+Rod2eh+VChQUShGehowh6H60dCoojCN0PyNK7s9D8qFCgojER6H5UYh8/lRUKiKdCnGMHGc86UIh+E/WioVRWknKdWIfh+lOIgH3fpRUKBsoVISTH3R8qkJcmhQqpJUDQrzs/25vLFgIW3o9SYnBZD+7zU+Rro2zPbHbMB9ot5kbn3ZSRfPUqfpQoVQktFk7RptqDtDxVg/tcsBwW4b+BR/MwrL7b9qlxMCtsggU6bxO9KfLTC/XzoqFUfUcQbrb/ABqbDYT1usO0zMSWfeJOSxySSeJJ40pH/vSjoUsVcmU6Jz1H0oPceR+n5UKFCFQ4UG6uKo7y48aFCmaQSdQqT2V2P9pk7yQf4UZ1B4M3EL+p9OtdW2rN3MEVopxJc5aQjQpCAO8ORwJBWMeLk8qFCuX8RcX6lrDgSY6CfzlO6dgFJv8A6N/OPwrTYMPvgkAELnQYA5AemavmiBYNzAIH8WM/yiioV5zUOO/PsrZpkSnaFChWCshQoUKiiFFQoVFERrPbX7F2N1J308G85ABZXZM44bwHE8snXAA5UKFa0qj6ZlhI6IFodYhf/9k='>"
   ]
  },
  {
   "cell_type": "code",
   "execution_count": 80,
   "metadata": {},
   "outputs": [],
   "source": [
    "drdd_data = base.groupby(['user','part']).sum().reset_index(1).rename(columns={'part':'is_ab_test'})"
   ]
  },
  {
   "cell_type": "code",
   "execution_count": 81,
   "metadata": {},
   "outputs": [],
   "source": [
    "drdd_data['is_ab_test'] = drdd_data['is_ab_test'] == 'AB'\n",
    "drdd_data['target'] = drdd_data['click'] / drdd_data['view']\n",
    "drdd_data.drop('click',axis=1,inplace=True)"
   ]
  },
  {
   "cell_type": "markdown",
   "metadata": {},
   "source": [
    "## IPV"
   ]
  },
  {
   "cell_type": "code",
   "execution_count": 83,
   "metadata": {},
   "outputs": [
    {
     "data": {
      "text/plain": [
       "0.00046526603623235727"
      ]
     },
     "execution_count": 83,
     "metadata": {},
     "output_type": "execute_result"
    }
   ],
   "source": [
    "IPV(drdd_data.query('is_ab_test==True'),'ab','target')"
   ]
  },
  {
   "cell_type": "code",
   "execution_count": 95,
   "metadata": {},
   "outputs": [],
   "source": [
    "ols_data = drdd_data.query('is_ab_test==True').astype(int)"
   ]
  },
  {
   "cell_type": "code",
   "execution_count": 101,
   "metadata": {},
   "outputs": [],
   "source": [
    "ps_ols = sm.OLS(ols_data['target'].values,ols_data[['ab']].assign(const=1,ps=IPV(ols_data,'ab','target',is_raw_ps=True))).fit()\n",
    "raw_ols = sm.OLS(ols_data['target'].values,ols_data.drop(['is_ab_test','target'],axis=1).assign(const=1)).fit()"
   ]
  },
  {
   "cell_type": "code",
   "execution_count": 102,
   "metadata": {},
   "outputs": [
    {
     "data": {
      "text/plain": [
       "ab\n",
       "0    AxesSubplot(0.125,0.125;0.775x0.755)\n",
       "1    AxesSubplot(0.125,0.125;0.775x0.755)\n",
       "Name: ps, dtype: object"
      ]
     },
     "execution_count": 102,
     "metadata": {},
     "output_type": "execute_result"
    },
    {
     "data": {
      "image/png": "[encoded data removed]",
      "text/plain": [
       "<Figure size 1080x432 with 1 Axes>"
      ]
     },
     "metadata": {},
     "output_type": "display_data"
    }
   ],
   "source": [
    "ols_data.assign(ps=IPV(ols_data,'ab','target',is_raw_ps=True)).groupby('ab')['ps'].hist(alpha=0.4,bins=100)"
   ]
  },
  {
   "cell_type": "code",
   "execution_count": 103,
   "metadata": {},
   "outputs": [
    {
     "name": "stdout",
     "output_type": "stream",
     "text": [
      "                            OLS Regression Results                            \n",
      "==============================================================================\n",
      "Dep. Variable:                      y   R-squared:                       0.022\n",
      "Model:                            OLS   Adj. R-squared:                  0.021\n",
      "Method:                 Least Squares   F-statistic:                     80.17\n",
      "Date:                Tue, 02 Aug 2022   Prob (F-statistic):          3.95e-212\n",
      "Time:                        10:16:26   Log-Likelihood:                 14469.\n",
      "No. Observations:               46984   AIC:                        -2.891e+04\n",
      "Df Residuals:                   46970   BIC:                        -2.879e+04\n",
      "Df Model:                          13                                         \n",
      "Covariance Type:            nonrobust                                         \n",
      "==========================================================================================\n",
      "                             coef    std err          t      P>|t|      [0.025      0.975]\n",
      "------------------------------------------------------------------------------------------\n",
      "ab                         0.0004      0.002      0.230      0.818      -0.003       0.004\n",
      "cov_has_flat               0.0046      0.003      1.534      0.125      -0.001       0.010\n",
      "cov_has_auto              -0.0109      0.002     -6.362      0.000      -0.014      -0.008\n",
      "cov_uniq_dates            -0.0020      0.000     -6.579      0.000      -0.003      -0.001\n",
      "cov_uniq_sessions          0.0004   7.85e-05      5.104      0.000       0.000       0.001\n",
      "cov_home_events           -0.0017   9.35e-05    -17.788      0.000      -0.002      -0.001\n",
      "cov_health_events         -0.0005   7.52e-05     -6.410      0.000      -0.001      -0.000\n",
      "cov_kids_events           -0.0009      0.000     -3.471      0.001      -0.001      -0.000\n",
      "cov_uniq_events_types      0.0046      0.000     24.092      0.000       0.004       0.005\n",
      "cov_uniq_events_groups    -0.0083      0.000    -20.777      0.000      -0.009      -0.007\n",
      "cov_uniq_profiles         -0.0025      0.002     -1.600      0.110      -0.006       0.001\n",
      "cov_pushs                  0.0005      0.000      2.264      0.024    6.53e-05       0.001\n",
      "view                      -0.0014      0.000    -13.561      0.000      -0.002      -0.001\n",
      "const                      0.0650      0.004     14.955      0.000       0.057       0.074\n",
      "==============================================================================\n",
      "Omnibus:                    47362.287   Durbin-Watson:                   1.997\n",
      "Prob(Omnibus):                  0.000   Jarque-Bera (JB):          1740284.186\n",
      "Skew:                           5.284   Prob(JB):                         0.00\n",
      "Kurtosis:                      30.880   Cond. No.                         310.\n",
      "==============================================================================\n",
      "\n",
      "Notes:\n",
      "[1] Standard Errors assume that the covariance matrix of the errors is correctly specified.\n"
     ]
    }
   ],
   "source": [
    "print(raw_ols.summary())"
   ]
  },
  {
   "cell_type": "code",
   "execution_count": 104,
   "metadata": {},
   "outputs": [
    {
     "name": "stdout",
     "output_type": "stream",
     "text": [
      "                            OLS Regression Results                            \n",
      "==============================================================================\n",
      "Dep. Variable:                      y   R-squared:                       0.001\n",
      "Model:                            OLS   Adj. R-squared:                  0.001\n",
      "Method:                 Least Squares   F-statistic:                     14.08\n",
      "Date:                Tue, 02 Aug 2022   Prob (F-statistic):           7.68e-07\n",
      "Time:                        10:16:27   Log-Likelihood:                 13968.\n",
      "No. Observations:               46984   AIC:                        -2.793e+04\n",
      "Df Residuals:                   46981   BIC:                        -2.790e+04\n",
      "Df Model:                           2                                         \n",
      "Covariance Type:            nonrobust                                         \n",
      "==============================================================================\n",
      "                 coef    std err          t      P>|t|      [0.025      0.975]\n",
      "------------------------------------------------------------------------------\n",
      "ab             0.0004      0.002      0.220      0.826      -0.003       0.004\n",
      "const         -0.2037      0.045     -4.569      0.000      -0.291      -0.116\n",
      "ps             0.4731      0.089      5.298      0.000       0.298       0.648\n",
      "==============================================================================\n",
      "Omnibus:                    48299.872   Durbin-Watson:                   1.999\n",
      "Prob(Omnibus):                  0.000   Jarque-Bera (JB):          1869214.113\n",
      "Skew:                           5.439   Prob(JB):                         0.00\n",
      "Kurtosis:                      31.922   Cond. No.                         150.\n",
      "==============================================================================\n",
      "\n",
      "Notes:\n",
      "[1] Standard Errors assume that the covariance matrix of the errors is correctly specified.\n"
     ]
    }
   ],
   "source": [
    "print(ps_ols.summary())"
   ]
  },
  {
   "cell_type": "markdown",
   "metadata": {},
   "source": [
    "## DID"
   ]
  },
  {
   "cell_type": "code",
   "execution_count": 89,
   "metadata": {},
   "outputs": [],
   "source": [
    "idx = drdd_data.groupby(level=0)['is_ab_test'].nunique().where(lambda x: x==2).dropna().index\n",
    "drdd_data = drdd_data.loc[idx]"
   ]
  },
  {
   "cell_type": "code",
   "execution_count": 90,
   "metadata": {},
   "outputs": [],
   "source": [
    "def DRDID ( df,X,W,T,Y):\n",
    "\n",
    "    ps = LogisticRegression(penalty='none').fit(df.query(f'{W}==0')[X],df.query(f'{W}==0')[T]).predict_proba(df.query(f'{W}==0')[X])[:,1]\n",
    "    wp_tr = df.query(f'{W}==0')[T] / df.query(f'{W}==0')[T].mean()\n",
    "    wp_count = ps * (1 - df.query(f'{W}==0')[T]) / (1 - ps)\n",
    "    wp_pr = wp_count / wp_count.mean()\n",
    "    ipv = wp_tr - wp_pr\n",
    "\n",
    "    mu_0_p = LinearRegression().fit(df.query(f'{T}==0 & {W}==1')[X], df.query(f'{T}==0 & {W}==0')[Y]).predict(df.query(f'{W}==1')[X])\n",
    "\n",
    "    mu_1_p = LinearRegression().fit(df.query(f'{T}==0 & {W}==1')[X], df.query(f'{T}==0 & {W}==1')[Y]).predict(df.query(f'{W}==1')[X])\n",
    "\n",
    "\n",
    "\n",
    "    mu_delta = mu_1_p - mu_0_p\n",
    "\n",
    "    Y_delta = df.query(f'{W}==1')[Y] - df.query(f' {W}==0')[Y]\n",
    "\n",
    "\n",
    "    ATT = np.mean(ipv * (Y_delta - mu_delta))\n",
    "\n",
    "    return ATT"
   ]
  },
  {
   "cell_type": "code",
   "execution_count": 91,
   "metadata": {},
   "outputs": [],
   "source": [
    "did_result = DRDID(drdd_data, X=drdd_data.filter(regex='cov').columns,W='is_ab_test',T='ab',Y='target')"
   ]
  },
  {
   "cell_type": "code",
   "execution_count": 105,
   "metadata": {},
   "outputs": [
    {
     "data": {
      "text/plain": [
       "0.0007777269685631949"
      ]
     },
     "execution_count": 105,
     "metadata": {},
     "output_type": "execute_result"
    }
   ],
   "source": [
    "did_result"
   ]
  },
  {
   "cell_type": "code",
   "execution_count": null,
   "metadata": {},
   "outputs": [],
   "source": []
  },
  {
   "cell_type": "code",
   "execution_count": null,
   "metadata": {},
   "outputs": [],
   "source": []
  },
  {
   "cell_type": "code",
   "execution_count": 10,
   "metadata": {},
   "outputs": [],
   "source": [
    "data_aa = base.query('part == \"AA\"').drop(['part','cov_device'],axis=1).iloc[:,:-2]\n",
    "target_aa = base.query('part == \"AA\"')['click'] / base.query('part == \"AA\"')['view']"
   ]
  },
  {
   "cell_type": "code",
   "execution_count": 51,
   "metadata": {},
   "outputs": [],
   "source": [
    "data_ab = base.query('part == \"AB\"').drop(['part','cov_device'],axis=1).iloc[:,:-2]\n",
    "target_ab = base.query('part == \"AB\"')['click'] / base.query('part == \"AB\"')['view']"
   ]
  },
  {
   "cell_type": "code",
   "execution_count": 15,
   "metadata": {},
   "outputs": [],
   "source": [
    "from sklearn import linear_model\n",
    "from sklearn import model_selection\n",
    "from sklearn import metrics "
   ]
  },
  {
   "cell_type": "code",
   "execution_count": 63,
   "metadata": {},
   "outputs": [
    {
     "data": {
      "text/plain": [
       "2    0.0\n",
       "2    0.0\n",
       "dtype: float64"
      ]
     },
     "execution_count": 63,
     "metadata": {},
     "output_type": "execute_result"
    }
   ],
   "source": [
    "target_aa.loc[[2,2]]"
   ]
  },
  {
   "cell_type": "code",
   "execution_count": 71,
   "metadata": {},
   "outputs": [],
   "source": [
    "from collections import defaultdict"
   ]
  },
  {
   "cell_type": "code",
   "execution_count": 76,
   "metadata": {},
   "outputs": [
    {
     "data": {
      "application/vnd.jupyter.widget-view+json": {
       "model_id": "205325d2ea6044649f4e766b26d2ecef",
       "version_major": 2,
       "version_minor": 0
      },
      "text/plain": [
       "  0%|          | 0/1000 [00:00<?, ?it/s]"
      ]
     },
     "metadata": {},
     "output_type": "display_data"
    }
   ],
   "source": [
    "result = defaultdict(list)\n",
    "\n",
    "for _ in tqdm(range(1000)):\n",
    "    idx = np.random.choice(data_aa.index,size=data_aa.shape[0],replace=True)\n",
    "    model = linear_model.BayesianRidge(n_iter=1000)\n",
    "    model.fit(data_aa.loc[idx],target_aa.loc[idx])\n",
    "\n",
    "    y_hat = model.predict(data_ab)\n",
    "\n",
    "    result['mse'].append(metrics.mean_squared_error(y_hat,target_ab))\n",
    "    result['diff'].append((y_hat - target_ab).mean())"
   ]
  },
  {
   "cell_type": "code",
   "execution_count": 81,
   "metadata": {},
   "outputs": [
    {
     "data": {
      "text/plain": [
       "<AxesSubplot:>"
      ]
     },
     "execution_count": 81,
     "metadata": {},
     "output_type": "execute_result"
    },
    {
     "data": {
      "image/png": "[encoded data removed]",
      "text/plain": [
       "<Figure size 1080x432 with 1 Axes>"
      ]
     },
     "metadata": {},
     "output_type": "display_data"
    }
   ],
   "source": [
    "pd.DataFrame(result)['mse'].hist(bins=100)"
   ]
  },
  {
   "cell_type": "code",
   "execution_count": 82,
   "metadata": {},
   "outputs": [
    {
     "data": {
      "text/plain": [
       "<AxesSubplot:>"
      ]
     },
     "execution_count": 82,
     "metadata": {},
     "output_type": "execute_result"
    },
    {
     "data": {
      "image/png": "[encoded data removed]",
      "text/plain": [
       "<Figure size 1080x432 with 1 Axes>"
      ]
     },
     "metadata": {},
     "output_type": "display_data"
    }
   ],
   "source": [
    "pd.DataFrame(result)['diff'].hist(bins=100)"
   ]
  }
 ],
 "metadata": {
  "kernelspec": {
   "display_name": "Python 3.8.10 64-bit",
   "language": "python",
   "name": "python3"
  },
  "language_info": {
   "codemirror_mode": {
    "name": "ipython",
    "version": 3
   },
   "file_extension": ".py",
   "mimetype": "text/x-python",
   "name": "python",
   "nbconvert_exporter": "python",
   "pygments_lexer": "ipython3",
   "version": "3.8.10"
  },
  "orig_nbformat": 4,
  "vscode": {
   "interpreter": {
    "hash": "916dbcbb3f70747c44a77c7bcd40155683ae19c65e1c03b4aa3499c5328201f1"
   }
  }
 },
 "nbformat": 4,
 "nbformat_minor": 2
}
