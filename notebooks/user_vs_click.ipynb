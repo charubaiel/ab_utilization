{
 "cells": [
  {
   "cell_type": "code",
   "execution_count": 1,
   "metadata": {},
   "outputs": [
    {
     "name": "stderr",
     "output_type": "stream",
     "text": [
      "/home/charubaiel/.local/lib/python3.8/site-packages/statsmodels/compat/pandas.py:65: FutureWarning: pandas.Int64Index is deprecated and will be removed from pandas in a future version. Use pandas.Index with the appropriate dtype instead.\n",
      "  from pandas import Int64Index as NumericIndex\n"
     ]
    }
   ],
   "source": [
    "from mm_ab import *"
   ]
  },
  {
   "cell_type": "code",
   "execution_count": null,
   "metadata": {},
   "outputs": [],
   "source": [
    "\n",
    "@dataclass\n",
    "class User:\n",
    "    '''\n",
    "    Имитируем создание типичного пользователя, который будет генерировать клики\n",
    "    ctr - Наш \"настоящий\" кликрейт по этому типу пользователя\n",
    "    actions - Наше кол-во действий пользователя\n",
    "    '''\n",
    "    ctr:float = 0.1\n",
    "    actions:int = 10\n",
    "    def _generate_binary(self):\n",
    "        self.binary_stats = sps.bernoulli(self.ctr).rvs(self.actions)\n",
    "        return self.binary_stats"
   ]
  },
  {
   "cell_type": "code",
   "execution_count": null,
   "metadata": {},
   "outputs": [],
   "source": [
    "def generate_data_bts():\n",
    "    '''\n",
    "    функция для генерации пользовательских псевдо АБ групп\n",
    "    '''\n",
    "    by_user_diff = []\n",
    "    by_events_diff = []\n",
    "    control_base = User(0.1,10)\n",
    "    control_active = User(0.1,100)\n",
    "    threatment_base = User(0.1,10)\n",
    "    threatment_active = User(0.11,100)\n",
    "    for _ in tqdm(range (1000)):\n",
    "        control_group = [control_base._generate_binary() for _ in range(900)] + [control_active._generate_binary() for _ in range(100)]\n",
    "        threatment_group = [threatment_base._generate_binary() for _ in range(900)] + [threatment_active._generate_binary() for _ in range(100)]\n",
    "\n",
    "        by_events_diff.append( pd.Series(control_group).explode().mean() - pd.Series(threatment_group).explode().mean())\n",
    "        by_user_diff.append( pd.Series(control_group).apply(np.mean).mean() - pd.Series(threatment_group).apply(np.mean).mean())\n",
    "\n",
    "    return pd.DataFrame({'by_user_diff':by_user_diff,'by_events_diff':by_events_diff})"
   ]
  },
  {
   "cell_type": "code",
   "execution_count": null,
   "metadata": {},
   "outputs": [],
   "source": [
    "zz = generate_data_bts()"
   ]
  },
  {
   "cell_type": "code",
   "execution_count": null,
   "metadata": {},
   "outputs": [],
   "source": [
    "sps.ttest_ind(*zz.values.T)"
   ]
  },
  {
   "cell_type": "code",
   "execution_count": null,
   "metadata": {},
   "outputs": [],
   "source": [
    "zz.plot.kde()"
   ]
  }
 ],
 "metadata": {
  "kernelspec": {
   "display_name": "Python 3.8.10 64-bit",
   "language": "python",
   "name": "python3"
  },
  "language_info": {
   "codemirror_mode": {
    "name": "ipython",
    "version": 3
   },
   "file_extension": ".py",
   "mimetype": "text/x-python",
   "name": "python",
   "nbconvert_exporter": "python",
   "pygments_lexer": "ipython3",
   "version": "3.8.10"
  },
  "orig_nbformat": 4,
  "vscode": {
   "interpreter": {
    "hash": "916dbcbb3f70747c44a77c7bcd40155683ae19c65e1c03b4aa3499c5328201f1"
   }
  }
 },
 "nbformat": 4,
 "nbformat_minor": 2
}
