{
 "cells": [
  {
   "cell_type": "code",
   "execution_count": 34,
   "metadata": {},
   "outputs": [],
   "source": [
    "import numpy as np\n",
    "import pandas as pd\n",
    "from scipy import stats as sps\n",
    "from sklearn import linear_model\n",
    "import seaborn as sns\n",
    "from tqdm import tqdm\n",
    "import matplotlib.pyplot as plt \n",
    "import warnings\n",
    "from dataclasses import dataclass\n",
    "import statsmodels.api as sm\n",
    "tqdm.pandas()\n",
    "plt.style.use('ggplot')\n",
    "pd.set_option('use_inf_as_na', True)\n",
    "plt.rcParams['figure.figsize'] = (15,6)\n",
    "from lightgbm import LGBMRegressor\n",
    "from sklearn.model_selection import cross_val_predict\n",
    "from copy import copy\n",
    "\n",
    "warnings.simplefilter('ignore')\n"
   ]
  },
  {
   "cell_type": "code",
   "execution_count": 2,
   "metadata": {},
   "outputs": [],
   "source": [
    "base_data = pd.read_pickle('../data/expN34.pkl')\n",
    "data = base_data.query('click < view & view < view.quantile(.99)').drop('cov_device',axis=1)\n",
    "data['ctr'] = data['click'] / data['view']"
   ]
  },
  {
   "cell_type": "code",
   "execution_count": 3,
   "metadata": {},
   "outputs": [],
   "source": [
    "data_ab = data.query('part == \"AB\"').drop(['part'],axis=1)\n",
    "data_aa = data.query('part != \"AB\"').drop(['part'],axis=1)"
   ]
  },
  {
   "cell_type": "code",
   "execution_count": 4,
   "metadata": {},
   "outputs": [],
   "source": [
    "Y = 'ctr'\n",
    "T = 'ab'\n",
    "X = data.filter(regex='cov').columns.tolist()"
   ]
  },
  {
   "cell_type": "code",
   "execution_count": 23,
   "metadata": {},
   "outputs": [],
   "source": [
    "params = {\n",
    "    'X':X,\n",
    "    'T':T,\n",
    "    'Y':Y\n",
    "}"
   ]
  },
  {
   "attachments": {},
   "cell_type": "markdown",
   "metadata": {},
   "source": [
    "# OLS as stat test"
   ]
  },
  {
   "cell_type": "code",
   "execution_count": 14,
   "metadata": {},
   "outputs": [],
   "source": [
    "def bootstrap_func(func,data,params,n_bootstraps=500):\n",
    "    \n",
    "    return [func(data=data.sample(frac=1,replace=True),**params) for _ in tqdm(range(n_bootstraps),position=0)]"
   ]
  },
  {
   "cell_type": "code",
   "execution_count": null,
   "metadata": {},
   "outputs": [],
   "source": []
  },
  {
   "cell_type": "code",
   "execution_count": 145,
   "metadata": {},
   "outputs": [],
   "source": [
    "def ols_ttest(data:pd.DataFrame,\n",
    "              T:str,\n",
    "              Y:str,\n",
    "              X:list=[]):\n",
    "    lm = sm.formula.ols(f'{Y}~{T}',data=data.astype(float)).fit()\n",
    "    return lm.summary2().tables[1].loc[T,'Coef.']"
   ]
  },
  {
   "cell_type": "code",
   "execution_count": 146,
   "metadata": {},
   "outputs": [],
   "source": [
    "def IPV(data,\n",
    "        X:list,\n",
    "        T:str,\n",
    "        Y:str,\n",
    "        is_raw_ps=False):\n",
    "    ps = linear_model.LogisticRegression(C=1e-6,penalty='none').fit(data[X], data[T]).predict_proba(data[X])[:, 1]\n",
    "    weight = (data[T]-ps) / (ps*(1-ps)) # define the weights\n",
    "    if is_raw_ps:\n",
    "        return ps\n",
    "    return (weight * data[Y]).mean() # compute the ATE"
   ]
  },
  {
   "cell_type": "code",
   "execution_count": 147,
   "metadata": {},
   "outputs": [],
   "source": [
    "def s_learner(data:pd.DataFrame,\n",
    "        X:list,\n",
    "        T:str,\n",
    "        Y:str,\n",
    "        model=LGBMRegressor()):\n",
    "    \n",
    "    x0 = data[X+[T]]\n",
    "    y0 = data[Y]\n",
    "    model.fit(x0,y0)\n",
    "\n",
    "    return model.predict(x0.assign(**{T:1})).mean() - model.predict(x0.assign(**{T:0})).mean()\n"
   ]
  },
  {
   "cell_type": "code",
   "execution_count": 148,
   "metadata": {},
   "outputs": [],
   "source": [
    "def t_learner(data:pd.DataFrame,\n",
    "        X:list,\n",
    "        T:str,\n",
    "        Y:str\n",
    "        ,model=LGBMRegressor()):\n",
    "    X0 = data.query(f'{T}==0')[X]\n",
    "    Y0 = data.query(f'{T}==0')[Y]\n",
    "\n",
    "    X1 = data.query(f'{T}==1')[X]\n",
    "    Y1 = data.query(f'{T}==1')[Y]\n",
    "\n",
    "    m0 = copy(model)\n",
    "    m1 = copy(model)\n",
    "\n",
    "    m0.fit(X0,Y0)\n",
    "    m1.fit(X1,Y1)\n",
    "\n",
    "    return m1.predict(data[X]).mean() - m0.predict(data[X]).mean()\n"
   ]
  },
  {
   "cell_type": "code",
   "execution_count": 149,
   "metadata": {},
   "outputs": [],
   "source": [
    "def r_learner(data:pd.DataFrame,\n",
    "                X:list,\n",
    "                T:str,\n",
    "                Y:str,\n",
    "                model=LGBMRegressor()):\n",
    "\n",
    "    train_data = data[X]\n",
    "    target = data[Y]\n",
    "    threatment = data[T]\n",
    "    \n",
    "    debaise = copy(model)\n",
    "    denoise = copy(model)\n",
    "\n",
    "\n",
    "    T_res = threatment - cross_val_predict(debaise,train_data,threatment,cv=10)\n",
    "    Y_res = target - cross_val_predict(denoise,train_data,target,cv=10)\n",
    "\n",
    "    W = T_res **2\n",
    "    Y_star = Y_res / T_res\n",
    "\n",
    "    final_model = copy(model)\n",
    "\n",
    "    final_model.fit(train_data,Y_star,sample_weight=W)\n",
    "\n",
    "    return final_model.predict(train_data).mean()\n"
   ]
  },
  {
   "cell_type": "code",
   "execution_count": 150,
   "metadata": {},
   "outputs": [],
   "source": [
    "def doubly_robust(data:pd.DataFrame,\n",
    "                X:list,\n",
    "                T:str,\n",
    "                Y:str):\n",
    "    ps = linear_model.LogisticRegression(C=1e6,penalty='none').fit(data[X], data[T]).predict_proba(data[X])[:, 1]\n",
    "    mu0 = linear_model.LinearRegression().fit(data.query(f\"{T}==0\")[X], data.query(f\"{T}==0\")[Y]).predict(data[X])\n",
    "    mu1 = linear_model.LinearRegression().fit(data.query(f\"{T}==1\")[X], data.query(f\"{T}==1\")[Y]).predict(data[X])\n",
    "\n",
    "    control_metric = np.mean(\n",
    "        (data[Y] - mu0)\n",
    "        *(1-data[T])/(1-ps))\n",
    "\n",
    "    treatment_metric = np.mean(\n",
    "        (data[Y] - mu1)\n",
    "        * data[T]/ps)\n",
    "\n",
    "    return treatment_metric - control_metric"
   ]
  },
  {
   "cell_type": "code",
   "execution_count": 152,
   "metadata": {},
   "outputs": [
    {
     "name": "stderr",
     "output_type": "stream",
     "text": [
      "100%|██████████| 500/500 [01:07<00:00,  7.37it/s]\n",
      "100%|██████████| 500/500 [07:25<00:00,  1.12it/s]\n",
      "100%|██████████| 500/500 [03:10<00:00,  2.63it/s]\n",
      "100%|██████████| 500/500 [03:55<00:00,  2.13it/s]\n",
      "100%|██████████| 500/500 [44:23<00:00,  5.33s/it]\n",
      "100%|██████████| 500/500 [09:03<00:00,  1.09s/it]\n"
     ]
    }
   ],
   "source": [
    "result = {}\n",
    "for method in (ols_ttest,IPV,s_learner,t_learner,r_learner,doubly_robust):\n",
    "    result[method.__name__]= bootstrap_func(method,data_ab,params=params,n_bootstraps=500)"
   ]
  },
  {
   "cell_type": "code",
   "execution_count": 153,
   "metadata": {},
   "outputs": [],
   "source": [
    "zz = pd.DataFrame(result)"
   ]
  },
  {
   "cell_type": "code",
   "execution_count": 173,
   "metadata": {},
   "outputs": [
    {
     "data": {
      "text/plain": [
       "ols_ttest        0.974\n",
       "IPV              0.850\n",
       "s_learner        0.860\n",
       "t_learner        0.780\n",
       "r_learner        0.752\n",
       "doubly_robust    0.858\n",
       "dtype: float64"
      ]
     },
     "execution_count": 173,
     "metadata": {},
     "output_type": "execute_result"
    }
   ],
   "source": [
    "zz.apply(lambda x: x>=0.000).mean()"
   ]
  },
  {
   "cell_type": "code",
   "execution_count": 163,
   "metadata": {},
   "outputs": [],
   "source": [
    "def bts_ttest(bts_data:list,threshold=0) -> float:\n",
    "    bool_data = np.array(bts_data) <= threshold\n",
    "    agg_data = bool_data.mean()\n",
    "    result = min(agg_data,1-agg_data) * 2\n",
    "    return result"
   ]
  },
  {
   "cell_type": "code",
   "execution_count": 167,
   "metadata": {},
   "outputs": [
    {
     "data": {
      "text/plain": [
       "ols_ttest        0.052\n",
       "IPV              0.300\n",
       "s_learner        0.280\n",
       "t_learner        0.440\n",
       "r_learner        0.496\n",
       "doubly_robust    0.284\n",
       "dtype: float64"
      ]
     },
     "execution_count": 167,
     "metadata": {},
     "output_type": "execute_result"
    }
   ],
   "source": [
    "zz.apply(bts_ttest,threshold=0)"
   ]
  },
  {
   "cell_type": "code",
   "execution_count": 169,
   "metadata": {},
   "outputs": [
    {
     "data": {
      "text/plain": [
       "ols_ttest        0.004\n",
       "IPV              0.060\n",
       "s_learner        0.008\n",
       "t_learner        0.084\n",
       "r_learner        0.084\n",
       "doubly_robust    0.032\n",
       "dtype: float64"
      ]
     },
     "execution_count": 169,
     "metadata": {},
     "output_type": "execute_result"
    }
   ],
   "source": [
    "zz.apply(bts_ttest,threshold=-0.001)"
   ]
  },
  {
   "cell_type": "code",
   "execution_count": null,
   "metadata": {},
   "outputs": [],
   "source": []
  }
 ],
 "metadata": {
  "kernelspec": {
   "display_name": "Python 3",
   "language": "python",
   "name": "python3"
  },
  "language_info": {
   "codemirror_mode": {
    "name": "ipython",
    "version": 3
   },
   "file_extension": ".py",
   "mimetype": "text/x-python",
   "name": "python",
   "nbconvert_exporter": "python",
   "pygments_lexer": "ipython3",
   "version": "3.8.10"
  },
  "orig_nbformat": 4
 },
 "nbformat": 4,
 "nbformat_minor": 2
}
