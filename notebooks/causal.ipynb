{
 "cells": [
  {
   "cell_type": "code",
   "execution_count": 17,
   "metadata": {},
   "outputs": [],
   "source": [
    "import numpy as np\n",
    "import pandas as pd\n",
    "from scipy import stats as sps\n",
    "from sklearn import linear_model\n",
    "import seaborn as sns\n",
    "from tqdm import tqdm\n",
    "import matplotlib.pyplot as plt \n",
    "import warnings\n",
    "from dataclasses import dataclass\n",
    "import statsmodels.api as sm\n",
    "tqdm.pandas()\n",
    "plt.style.use('ggplot')\n",
    "pd.set_option('use_inf_as_na', True)\n",
    "plt.rcParams['figure.figsize'] = (15,6)\n",
    "\n",
    "\n",
    "warnings.simplefilter('ignore')\n"
   ]
  },
  {
   "cell_type": "code",
   "execution_count": 2,
   "metadata": {},
   "outputs": [],
   "source": [
    "base_data = pd.read_pickle('../data/expN34.pkl')"
   ]
  },
  {
   "cell_type": "code",
   "execution_count": 5,
   "metadata": {},
   "outputs": [],
   "source": [
    "data = base_data.query('click < view & view < view.quantile(.99)').drop('cov_device',axis=1)"
   ]
  },
  {
   "cell_type": "code",
   "execution_count": 7,
   "metadata": {},
   "outputs": [],
   "source": [
    "data['ctr'] = data['click'] / data['view']"
   ]
  },
  {
   "attachments": {},
   "cell_type": "markdown",
   "metadata": {},
   "source": [
    "# 1 OLS as stat test"
   ]
  },
  {
   "cell_type": "code",
   "execution_count": 178,
   "metadata": {},
   "outputs": [],
   "source": [
    "data_ab = data.query('part == \"AB\"').drop(['part'],axis=1)\n",
    "data_aa = data.query('part != \"AB\"').drop(['part'],axis=1)"
   ]
  },
  {
   "cell_type": "code",
   "execution_count": 179,
   "metadata": {},
   "outputs": [],
   "source": [
    "Y = 'ctr'\n",
    "T = 'ab'\n",
    "X = data.filter(regex='cov').columns.tolist()"
   ]
  },
  {
   "cell_type": "code",
   "execution_count": 236,
   "metadata": {},
   "outputs": [],
   "source": [
    "def bootstrap_func(func,data,params,n_bootstraps=500):\n",
    "    \n",
    "    return [func(data=data.sample(frac=1,replace=True),**params) for _ in tqdm(range(n_bootstraps),position=0)]"
   ]
  },
  {
   "cell_type": "code",
   "execution_count": 243,
   "metadata": {},
   "outputs": [],
   "source": [
    "def ols_ttest(data:pd.DataFrame,\n",
    "              T:str,\n",
    "              Y:str,\n",
    "              X:list=[]):\n",
    "    lm = sm.formula.ols(f'{Y}~{\"+\".join(X+[T])}',data=data.astype(float)).fit()\n",
    "    return lm.summary2().tables[1].loc[T,'Coef.']"
   ]
  },
  {
   "cell_type": "code",
   "execution_count": 244,
   "metadata": {},
   "outputs": [],
   "source": [
    "def IPV(data,\n",
    "        X:list,\n",
    "        T:str,\n",
    "        Y:str,\n",
    "        is_raw_ps=False):\n",
    "    ps = linear_model.LogisticRegression(C=1e-6,penalty='none').fit(data[X], data[T]).predict_proba(data[X])[:, 1]\n",
    "    weight = (data[T]-ps) / (ps*(1-ps)) # define the weights\n",
    "    if is_raw_ps:\n",
    "        return ps\n",
    "    return (weight * data[Y]).mean() # compute the ATE"
   ]
  },
  {
   "cell_type": "code",
   "execution_count": 254,
   "metadata": {},
   "outputs": [],
   "source": [
    "def doubly_robust(data, X, T, Y):\n",
    "    ps = linear_model.LogisticRegression(C=1e6,penalty='none').fit(data[X], data[T]).predict_proba(data[X])[:, 1]\n",
    "    mu0 = linear_model.LinearRegression().fit(data.query(f\"{T}==0\")[X], data.query(f\"{T}==0\")[Y]).predict(data[X])\n",
    "    mu1 = linear_model.LinearRegression().fit(data.query(f\"{T}==1\")[X], data.query(f\"{T}==1\")[Y]).predict(data[X])\n",
    "\n",
    "    control_metric = np.mean((1-data[T])*(data[Y] - mu0)/(1-ps) + mu0)\n",
    "    treatment_metric = np.mean(data[T]*(data[Y] - mu1)/ps + mu1)\n",
    "\n",
    "    return treatment_metric - control_metric"
   ]
  },
  {
   "cell_type": "code",
   "execution_count": 246,
   "metadata": {},
   "outputs": [],
   "source": [
    "params = {\n",
    "    'X':X,\n",
    "    'T':T,\n",
    "    'Y':Y\n",
    "}"
   ]
  },
  {
   "cell_type": "code",
   "execution_count": 247,
   "metadata": {},
   "outputs": [],
   "source": [
    "ols_params = {\n",
    "    'X':[],\n",
    "    'T':T,\n",
    "    'Y':Y\n",
    "}"
   ]
  },
  {
   "cell_type": "code",
   "execution_count": 261,
   "metadata": {},
   "outputs": [
    {
     "name": "stderr",
     "output_type": "stream",
     "text": [
      "100%|██████████| 100/100 [00:14<00:00,  6.74it/s]\n"
     ]
    }
   ],
   "source": [
    "base_ols_result = bootstrap_func(ols_ttest,data_aa,ols_params,n_bootstraps=100)"
   ]
  },
  {
   "cell_type": "code",
   "execution_count": 262,
   "metadata": {},
   "outputs": [
    {
     "name": "stderr",
     "output_type": "stream",
     "text": [
      "100%|██████████| 100/100 [01:24<00:00,  1.19it/s]\n"
     ]
    }
   ],
   "source": [
    "ipv_result = bootstrap_func(IPV,data_aa,params,n_bootstraps=100)"
   ]
  },
  {
   "cell_type": "code",
   "execution_count": 263,
   "metadata": {},
   "outputs": [
    {
     "name": "stderr",
     "output_type": "stream",
     "text": [
      "100%|██████████| 100/100 [01:09<00:00,  1.44it/s]\n"
     ]
    }
   ],
   "source": [
    "dr_result = bootstrap_func(doubly_robust,data_aa,params,n_bootstraps=100)"
   ]
  },
  {
   "cell_type": "code",
   "execution_count": 264,
   "metadata": {},
   "outputs": [],
   "source": [
    "def bts_ttest(bts_data:list) -> float:\n",
    "    bool_data = np.array(bts_data) <= 0\n",
    "    agg_data = bool_data.mean()\n",
    "    result = min(agg_data,1-agg_data) * 2\n",
    "    return result"
   ]
  },
  {
   "cell_type": "code",
   "execution_count": 265,
   "metadata": {},
   "outputs": [
    {
     "data": {
      "text/plain": [
       "0.98"
      ]
     },
     "execution_count": 265,
     "metadata": {},
     "output_type": "execute_result"
    }
   ],
   "source": [
    "bts_ttest(base_ols_result)"
   ]
  },
  {
   "cell_type": "code",
   "execution_count": 266,
   "metadata": {},
   "outputs": [
    {
     "data": {
      "text/plain": [
       "0.8"
      ]
     },
     "execution_count": 266,
     "metadata": {},
     "output_type": "execute_result"
    }
   ],
   "source": [
    "bts_ttest(ipv_result)"
   ]
  },
  {
   "cell_type": "code",
   "execution_count": 267,
   "metadata": {},
   "outputs": [
    {
     "data": {
      "text/plain": [
       "0.7"
      ]
     },
     "execution_count": 267,
     "metadata": {},
     "output_type": "execute_result"
    }
   ],
   "source": [
    "bts_ttest(dr_result)"
   ]
  },
  {
   "cell_type": "code",
   "execution_count": null,
   "metadata": {},
   "outputs": [],
   "source": []
  }
 ],
 "metadata": {
  "kernelspec": {
   "display_name": "Python 3",
   "language": "python",
   "name": "python3"
  },
  "language_info": {
   "codemirror_mode": {
    "name": "ipython",
    "version": 3
   },
   "file_extension": ".py",
   "mimetype": "text/x-python",
   "name": "python",
   "nbconvert_exporter": "python",
   "pygments_lexer": "ipython3",
   "version": "3.10.10"
  },
  "orig_nbformat": 4
 },
 "nbformat": 4,
 "nbformat_minor": 2
}
