{
 "cells": [
  {
   "cell_type": "code",
   "execution_count": 5,
   "metadata": {},
   "outputs": [],
   "source": [
    "from mm_ab import *"
   ]
  },
  {
   "cell_type": "code",
   "execution_count": 6,
   "metadata": {},
   "outputs": [],
   "source": [
    "sql_data = pd.read_pickle('../data/expN34.pkl')"
   ]
  },
  {
   "cell_type": "code",
   "execution_count": 7,
   "metadata": {},
   "outputs": [],
   "source": [
    "test_of_tests = {}\n",
    "effect_size = {}"
   ]
  },
  {
   "cell_type": "markdown",
   "metadata": {},
   "source": [
    "# База\n",
    "<img src='data:image/jpeg;base64,/9j/4AAQSkZJRgABAQAAAQABAAD/2wCEAAoHCBYVFRgWFRYYGBgVHBgYGBgYGBgYGBgaGBgaGRgYGBgcIS4lHB4rIRgYJjgmKy8xNTU1GiQ7QDs0Py40NTEBDAwMEA8QHhISHjQrJCs0NDQ0NDQ0NDQ0NDQ0NDQ0NDQ0NDQ0NDQ0NDQ0NDQ0NDQ0NDQ0NDQ0NDQ0NDQ0NDQ0NP/AABEIAOEA4QMBIgACEQEDEQH/xAAcAAABBQEBAQAAAAAAAAAAAAAEAAIDBQYBBwj/xAA+EAACAQIFAQYEAwYFAwUAAAABAgADEQQFEiExQQYTIlFhcTKBkaFCscEHFDNSctEjNILC4RWy8BYkU5Ki/8QAGgEAAwEBAQEAAAAAAAAAAAAAAQIDAAQFBv/EACcRAAICAgICAgIBBQAAAAAAAAABAhEhMQMSBEEiURNhIxQkMkJS/9oADAMBAAIRAxEAPwDztjvIaxMlaQ1jtJo6SFmM4W9YiIo4Tqn1kyGDpzCKcDMECK84DO2iNgO6jFqMUUUFiuZ35xCT4bCvUYIilmPQeQ5J8hMgXWTV9l+xiYjDfvVeu9JHqLRpqihmJaqKKlywPNQ2sBsBcnfYfNuweMpYh6VFGxCqEcOuhPC+qwZWYWa6MNrja+17Cx7K5ViKLUnrpWbCCrTQIuJK0krtiqapUNJX8QWpuV07k36TX5hiHGe0EFRwjUF1IHIRzbFkakBsxGkEEg2tK9U0S7NM8pxXZ3GU3Sk+Hqh6uru0Gly2i2sjSxsBqW5NhvB8yyvEYdgtek9ItuuobNbnS4JUkeQNxPYsjLNm2LLVGfQpWmjOzCkrd0WCKTZQxUE2tfSJWdrsOa+WYYF0DtVWz1WIUHTW+Jze1xcX9YHFUHu/Z5JczkJrYYq5Q2uCQbEMDY2NmGxHqJ1sE4Fypt5xKY/ZAvziJjin2nLQ1QbOThndM4RBYbOX9YxvePIjTNYQRzvOofWcfmJY9mOsYliacWMAltOztooAkz9YNiOISwg9eKjEJinDxOwphOLzCKcHTmEoJpaMTgTsQnQJMXYrRATsNwGHV7g3J4VRYX9yeBMB4JsqyapW8enRSBs1V/CgI5UMdi3pLls3Wkgo4RNHR6q/G5B5ZmuSPQWEjxmKRAiKWYIpQ3A0KTvZPbzPMpsRjFUkhelvSVjFIjJts1eTdp6uHRkK061MsKgWoCSlQMr3Ug8alVwCLhtwfKmxHa7ELjVxp7t6guoUqwpqulkCABtVhrY3J5J9pSJirWdTudmB6Svx2I1bSiVgo0tHtniExjYtNAqVLh10saZVggK6S2rmmpvqvceVxHZ72txGL0LUFNKdIlkSkpRQxUrqN2JJszAWsPEZlUElc32EZxQA5KwDauQDeXVXNlFjSRdwCb+IX9FOwmV1aRp+sdQqm9rxKoak9h9bNndnOhEvyqDSluvhuRG0Kw50IVHI3+t7yvapcn5wvDJZR6xWMqQTiQu2gW233JgpEnZxsLb8XirU7cA26EyUkOmD2jGksjcQLY6A3G86gnW5iSUQTjicQRzicURgE8U5cxTGpkzQetCWHMFryaNZERtORx4jYyGEnMJSDoN4UgisBMs6BOhY5B57esn7BodTpFiAOTtNDh8LQpAaizuN3YbKD/Ko6+8Bw+IoIAR3hcDY6U039uYG+KZ2JO9zxKRSRKT7Br1lrMy/ApJItYsbDbc9JW5hiE0DQhFhZiTcX8xBq+IZGBAIPQW6GDYoO3TSD+HpHjkV4BDUPF4qe5ktHBsxFhzNnk/Yx3AZha/0lrSQuWYyiC15dJhAE25Am2XsklPpq2lZj8pt8P0gU0bqzE16Z3kABE0VXL25KyuxVAjkTOSYerK3XYyyo49R0lXUWx4naKDck8QVeja2F1cRc3XaT0sYSugvtzY8X9IEy+G94MXm6DJouFEY8Aw2NKHzHkYctQMLiRcaZSMrBCN4lnSN50TIc404hjmjUhMERRXimsNErwSvC2U+UGqIx6GTRMiPEbfaTigbcGM7hvIxrQ9kVPmG0xBkotf4TDadMjkQNoNj0EMy4qHDMAQu9iAQflBRHRE6EatGkxKo9IkUhc8bWt87SgCMjbi28MwmOZB1boFLEL85M2Ju1mtdtzoUlVHlffeVUrI1RGWDEEAkgWDAC4g1eiXO4vbrsPyhYCMQqBiOpI02P6iEjA3IBlYrBNvJcdjMhU+Nxe3A6TfJRsNhAshwgSmot0l/RoXiO5Ojoi1FFW9IdZXYrLkO8vcTRsYBiREcaKRaZl8bgQOOsoMXlqknaa/Ei8pcUlrybkynVGJx+BHAmer0ihmwx+xlFjUuDK8c3dEuTjKt2JAnFQmMptYyyKqBcbzpf6OVYwAPShOD+EyUgGSUqIAMhJ2WigYcx4E4BvH2k7LEbTiCPaMpxhSa0Uk0zswS0LjynO8XygxaNIkCYaKi+U7rXygIJjkcw0YOBXyjq2HusGo7kS4CbfKK2b2Z3TvH6ZJUXxGdCzWPZze1gQt+p49oKcS/eaQ+hAbhQLXv5356w3SODveQ/u1vxE23AIB+/MpCROSsMLBDYKN+u8vez1JndeovMlWxJAtcm/2m87B0rrrPQbSzk0sCxhbtm+wgtYeUtqXEp8LuRLhE2m4zTVYBMY8qsS0sMwFvlKWvW3MMmU41gDxLWlFjXl5iEuJmswbeQaLRM/mDbyqr8GWeMlXX6wx2aTtFDUG5htKqNAv7QOpyZxD0natHC/8AIMWpDqTXWVBhuXEkm/FpHkVKysGPX4pIV3kdP4jJ2G8g8F0Q1BtIqEIqjaR4ZbzWagi0Uk0xTWYlCzpXaSXnWXaSslZCwndG0daPqDaFMxJhORLmoPD8pWYJNxLfErZT7STlkHszpG5jgI7TuY8CHsh0R6Y9Fjo5F3mUjMHxGW69RU3KIXsBe9iB+s33YpCuGS/JufvKTJCgxCJt/iK6H30F1H/5+80+RUSlGmpFiRqI/qN/1l+xopMtHxzIdKjfzkWIzbE0yDoBU+Z3+klKVdVk0A83cEj5WYTPdo8fiVbS4p26NTZhf/S1xKxlSEkrlRd08/FTZ1KmDqp1HyO8E7IUGrsWcWUC1ja9+hlr2tK4dLrza0yd5Y6ai+qK/H4tFWxYD5zLYzEJc+IfWUzVxVrKruVDm21v1ltnPZpKSBldifUgj6gzVZnLq6KPFvc7GVlc7GOcuu14xxtMo5HTwUz8mNj6g3MbadHo45bJaTr+KWOBp7kji221pWU6ZY2AufIS1wRqHZwdIHla0hyNUUhYykPHCmEGo/HDGE55PJ0x0D1+JHgt5NiBtI8vEa/iYN0xSW0UnYQhEuZM1OOpjePrSTlk5gJqW8cUuJKRJRTm7GH5fS8QlljUspMgyxPFCs3FqbSfa2FZZmRUHnO98POVms3jrmX6ov1LHvh5x6VV85VgmSKeNjfz8vaakjOJsezVNHxFIrbUpY+vwNf2E2afF7WmH7EVdOJO3NNlU+9t/mAZt0axvKekJBU2WWJw+pL2PvKKhgUd7Mivvve95a5jnS06dvSZnJc0evWtTU6QfEwGw+cvKsFIxbi2zcYaklNdKIEHkBaYf9oGNLWQGbh0Nrk7LPKO0+IL1SegJhlGkT44q7M+2HBZSVDW6EXEsMTSphbqpQnkAm3yHEFSoL2MndfDJpsaULKdxcxtUWEKcAQOu2x9jGTNVIrqVO9zIFuTtDKraUAHJ/8ADBu7IIt1+0qpkZR+g3BUdwwIBGxvwD6y27+6nUAD6G8ApoQONzufeSm5nJKacisYYBsOfHLBhvBqdOzXhjiTnLOCiVAuK+GRZUt5Nil8MZlC7mM5fFsFZLXuopPoMU5+4SSmhvH1Ke8sTRXpOjDjmLZyle2GsI1F3tDKm7Wki4axvCmYJyujvFna2ptD8qS95Dn9O1JpO8jQ2YIII8KJ3TOhZbs6OqhCmI7QIlWPCwWKzQdmH01UDE3cMFAHQC+ony6Ta6LiYTI6TK6VidKKdGokAb7WF5t6GKQ7X+86I6JRdNlLmmB70+NyqDm3J9BLPKswpUk0U00qPLr6k83gmcXcKEHLbfleR4BK9LEU6D1EWi6se8KXbUFuFY3tubj5TohsMpNoNqdoHCOg8V+L/Fbr7zzvNsz1VSNJHvPSM/yusgDdz3oB2elyL/zIfF9LzzDNqas5JujdVYEG/qDHlYIyXohd+ohCV/DAxUts3EffaToopDKrQR95M5g7HxAec1CyY4YUu+kcAC58hLOll6LuAbjzN5JQoaR5+slInJy8tukNGI3u1jdI8hJNMWmQ7D0M0CcKSTTHokHY1FfjE8BkWRLuYZj08Bg3Z5LsZZy/ibFrJf6IoX3cU4e41E1KiesldDaTqskKbSrlk4yvSh4hCMZSO1pLQXxe0LdL8zdjBGS0bKTIe0y2on5y3y2gQlyLX4lZ2kS9O0Rtp5Hirkjzxacd3csjgT5xjYI+cf8AIqOugEU5PQpC+9/t+clOGMko4RmIVRcngCPxyt0LNUrYT371nSlTAAHw+luWPyH2hVPFEAW31AMDawIYXB+cLyXC6KtVFsXp0HYkbjXU8II9gGA9zK/E4U/u+Hdd2SnTVh0KlB+s9CMWlk47vRosp8bqdzo5HrLLOkS2pr2HlyPUSg7MZmisATa/TyPvNVi61NgRq52+srFUMp07M7T7SvTTQtbZT4b/ABAXvuW95hc+x/fOWLFiept+gl7m2CQORyL8/oZTYnBqN12jSk2UUo3aRVpSFrH7zjMBtOYk2Blc9b1ipWBsIrVgINQpmox0ncC4Hn5yF3JvFgdZcaPiHHr6R3GkTcvkaTLWLIC3I2Py2hWgwTDYqofCadj15/tLlKBnj+RLrI7IZQF3Rju7MP7gxdyZzflG6lfoMJSlJ1oGSFbCD8gepT5mngMG7KJcmWGaL4D84H2PXczpcv4GJXyNZ3cUL0RTzbHC2oAmPpURe0KSlGV0I4nXZ55W06X+MQOJcYTLy5tbbrBMDhzrLHkzUVqfc0dXJtf5npOnx+PvL9IzfooM8zdadWlTW1kI1e3WVGe4wVEZl+EPYHzECq4GrVrgupUVGsCfKabN8pVMMEUcW+ZjeZJX1SOlOEaRghVMf3hlguV23dgg8ju30EIppTT4FuR+J9z8hwPpE4vEnPLVIHJ5EY6yV2HwrvwDbqTsB8zLnBotJSV+Ijdjz/wIPUxhfa9/O3HpIq1aymelw+LHjztnFy88p4H9kn1YjFsTcgUR9S5lliMMEGgjwG4HkL76T9dvSZ/sXV/9ziV/nSm30Zh+s2jJcWO4PSVcbApdTBYzCtRcum6cj09DO/8AqOw3IvL3MsKUuVGpTyOSv9xMrmGXq41L18oKKxyNrZprYnUD1lPisxJPzgmIwLqfCfvBDhm5JmQ+UOxGI1GQoCZKlOTogAjuSSF2xncHQxVSQObAm3qbcQCm5U3BsRvee25fgKNPAItMAmogd26sxHiv6dLTyvO8nNMll+G5+UCl9mlH/ZFvkue6/A+z+fR/+fSW/wC9Dznm4lpgM2dNm8S+vPyM4+fwlN9olePnrDNr+9CL96EqMHmNF+ToPkf7yzbCAqSDcek86fjOLpo6VOL0yaliQzAA8wutSttMrkzk4i3kSJs8Yu85/Ih+OaSHi+xQ5qv+G0B7GDxGWWap/ht7Su7FDxGdEX/bSA18jcaYpLpinldmEOGIInWfVCXwaKCzEADckmVdTM6Yv3YJ0mxZtgCLcAc8+k9fi4JcmVo8tySLbI8OWqb8AXmlxjqo1ORZfOVfZyy0u8c7tv5bTHdtu0hYlEbbg2nq8HGuGOdhhFzkEZ12hD1l7qw7s3J6X/WAY/PXc7uT9h7ADiZOjUP1htBusokm7YObdL0WDVTYkmD18VpW/wCI8e3nB6mJ3F+B0HXygveayWP3lLIJFlhmsJBicVfYcfnIWrEi3QSMiaxqHZDidGPQHiqjp8x4h+U9HRtp49mWINOvRqDlGVvkG3+1563RqAgEcEAj2O4gT9BkjlVbzMZ9h1pqz30jqAL6idgAvNz6TVneZmtW72s7IiOlHWi3JLhx/EdFH4hwDY28XmYas0ZNGfp5a9U2I0EjV4wQ2k8EKd7cbmQ4zJ0QWBLHzP6CXNTELRTvbqVU2OsnvlDcgKvI9RcXF9oBia4vsbg7g+YO4MVxSKdpMz74W28sOzXZ98ZUZFYKqLqdj0HAAHUn9JHjKwk3ZjtF+6VG1Alag0m3IN9iIrQ0X9lvlGKrYWp+7VQXpM1qbgbKSeD5CHZvleokONm+8IeulVdam+9/YyKrinZfFvpOx9IHjBWr0ec55lxovYfCd1/tK2b7PsOKqEdRuPQzBslpWDwQksjqZ3lnhcwdOGIlbTS+8lVZpJPZk2i7wGORKgcpvybGwP8AzNcM4o1fhex8m2P14nndIWhCPOLn8OHK7ey0OeUcGzzVf8NvYyq7Dr4jKyjmDqNN7r/Kdx/xDezuYUqD+MsFPW19Pvbe05p+JKPBKMcl480ZSyejaYoD/wBew3/z0/8A7RTx/wCk5v8Akr3j9ldXxjgaXe55sOB5QPKHLtoG96jbed7H8oPj2033v+suP2aYcNXd34Q7X41FRPqYQUEoo8reWeh4nAO9MIh0jSB9plc37LUKFBnd7ud9z19BLntB2kFLwpu3QTzbM82qV2JdjzxGlKKL8cZV9IFYAHbiIvIyCRtOpTJNuT5QRZPki+1klOgzsFUXLbW/X2mqy7s1SRdVU6mPS/hHygWXaaC3NtR5P6RuOznawO5hsePFi2D51hURvBt6XlYTE1VmN25nDCiUqvBR54t3T6fWekdlsXrwyX+JL0390NvuLGea56bFT5ETVZDje4xWhjZMUisPIVFFh9Rt8hMl8jSyjWZ1mHcUKlX+RCR6sdlH1ImF7JYtKqspJWsoUq7EhEAABufwszknVvaWf7ScWVw6Uwf4j7/0oNX5lZlOzDFe9uupFUOyj4mIuAF3Grkm3O20bTBFYL3tVVYJbu9LgkM7gAtzwvGo7bi9/nKLC4nUgF7lNtvLkR/aHHO+jvDqKABArAimCAdB28rcXAO15X5HWQV01jwFlLDpYML/AGvBLQ8foNxNFwmtkcIeGKMFPsxFiPWDYSkGOs8Dj+89tzeoj09rFCAABbTa2wA8rTB5z2XdBrpJ4WBIQci+/EVWmO4uigyjMu4q6iNSH4h+s3HgqpqQ3Vt/n5TzqrRZTZ1KnyItN92PxathHS3iRr38w00kgRb0VVY2Npjc0paKjKAdzcW9Zvcyoi+oDmZjNaBuHA3AsYI4NLZS0qZA3kqpHqbyTTaUbEsjVQI9wLRhnC0ARjGRMZPpiCQo2iPUfWKE93FDg3ZlqmKLjcbzediqejC1HHLub/6RYTz62lrjieldjf8AK+hLGJ7E0Y/MMWzVmbfY7QFjc3lz2ipBXNha8pZCWGdadocGtDaeNCfgBY7aoAY8r4ZrYaXs7iMax55g1Pc3MZbeOUykVZHkm9IIvOxkRMoQsqc/HhBlhnNIvQpOLjSFNxyLjm/obQLOluk0nZPKa2Ow/d0RTvTRdRqOyjdnVbaUa/wHy6QMYr83L41cMfxqhap6EnTqt62+5j8LghRKonx1ASpNj8JuTb8Po0sf+hVcvYDEPRfvw2gU6jtfurEo10W19YPyPEqK2KViACoaqpJe66b6iSqsOVso6zLVs2iuztFZjoHXxngN5so6C99pRqtmuN1va/ymmxtRXFgQopfG5Iu1ur+vkPKVNVLhtA25CDcm3VQOYwyNH2ez86DSf4UsQ1+L8KZu8vzdqia2TbgHkkDrboJ5AtULRsu5drkj6Ca7sfmpBFB9yR4Pf+WT0VjK8Mvs3WnXZVsLdTbecyDDUsO9UEkJUUAX6EG4P3mkw3ZtHW+ohudQ4LeSjyEyObUXRyjdDNT2ZtXgPzfCqKYK8D5zJ4yxQgy1pY0hCjbjp6SozDrbqDCK8mVar49vOGs0Hy/C3Nz0hNQb7R45JMjKxKlp0RzNNQyZ0CctOKYjCkNgm0zsUUJgwWnp3Y8AYRR/V+c8zSnqNlG5O09Myqh3WGRL72v8zvJkyk7TqmokczKvL/PTuSZnme8jLZ0Q0c1Rj1ugkD1Lmwk+HpDk8xoo05UPRbCNfaStISJXRyj1a8RMYrWiZtpjAmYm6Wm8/YRUucUv8q0fu1UzA4ziXX7L+06YKpXDU2fvlp20kC3dl73v56x9DA0MtF/W7KZccPhswwtGuabVqOrDsQ7VVNXuyhRmI1FrfisQTfmbTtCjVcBmHfKoVabvRpN3ZehowyuofQSoYVFZxZm2K79Bic17apRoUKOEwuilh6lOppeoSSqPrKLsTcn8RJ9jG479pOHq4fHKmFqI2KV1Z9asNTYdaKu4J2ACqLLfZb8mYJqf2eZsz06WHGHahTo0hcuGH7wxAu9K6AMCdTFtV/EvN7gHsTVKrihQw74djjSHq1BRWmlNcSgOGB1ltXdlkCqpUM+xF7ynyf8AaYtDD0UqYZqj0EFOk4qBVcBQoLCxKnSBfY9YDk3b3uqDricP3hq4kYoaHKaWNZK1iDv4XS43sdgbC5OMQ/tfwirmI0gL3lGk72FrtrqIWPrZFF/SY84oo6uuxRgw+W8ve2vaNMfiVrojoq0lp6XKkkq9RifCSLeMfQzLV2uZmrQydH0xleJFSkjDhlU/UA/rK/tPltOol3G/Rhzt+cyv7Oc/14dabEa6Q0m/VfwmbLGurodXlz5e0KdoVqnZ5TiF0sR5ecrsS17y3zVLVGtKmusSxyuZNINoKzQrEGAO28eLBJDyY2XeC7KYirTWqmgq4uASwPxFbfDa97devSxMlbsXix+FPfWbW6ni+23T8QtfexsUoUiYTSJ2IxJUsNBPh21MDZrb3K22Pr5EXvIML2SxTqraVRWGrxlgV8OuzLpuDp8VvlztCmayo1RR37jU/l+6/wB52GzWX2S/5lf/AD8E9Bp/wl/p/vFFJioyWfdZnFiikXs6Y6B6fxn3liIoo8CU9nDIh19oopRkjk63EUUxgPFcQPI/43yaKKZj+i3x3wN7GZ3B/A/9InYoYaYET1/4SfOSYvp7L+UUUR7GIE4kDxRQ+jM1X7Pf8wf6D+YnrdX+HFFFiNLR55mvxmVdfidigRkVGI5MBaKKPEDLvLfgT3f/ALKkNofEf9H++KKEUCofAnsn+2T4X4vl/upxRQmM7FFFMA//2Q==' width=400 height=400/>"
   ]
  },
  {
   "cell_type": "code",
   "execution_count": 8,
   "metadata": {},
   "outputs": [],
   "source": [
    "qq = sql_data.copy()"
   ]
  },
  {
   "cell_type": "code",
   "execution_count": 9,
   "metadata": {},
   "outputs": [
    {
     "data": {
      "text/html": [
       "<div>\n",
       "<style scoped>\n",
       "    .dataframe tbody tr th:only-of-type {\n",
       "        vertical-align: middle;\n",
       "    }\n",
       "\n",
       "    .dataframe tbody tr th {\n",
       "        vertical-align: top;\n",
       "    }\n",
       "\n",
       "    .dataframe thead tr th {\n",
       "        text-align: left;\n",
       "    }\n",
       "\n",
       "    .dataframe thead tr:last-of-type th {\n",
       "        text-align: right;\n",
       "    }\n",
       "</style>\n",
       "<table border=\"1\" class=\"dataframe\">\n",
       "  <thead>\n",
       "    <tr>\n",
       "      <th></th>\n",
       "      <th colspan=\"4\" halign=\"left\">view</th>\n",
       "      <th colspan=\"4\" halign=\"left\">click</th>\n",
       "    </tr>\n",
       "    <tr>\n",
       "      <th>part</th>\n",
       "      <th>AB</th>\n",
       "      <th>AA</th>\n",
       "      <th>AB</th>\n",
       "      <th>AA</th>\n",
       "      <th>AB</th>\n",
       "      <th>AA</th>\n",
       "      <th>AB</th>\n",
       "      <th>AA</th>\n",
       "    </tr>\n",
       "    <tr>\n",
       "      <th>ab</th>\n",
       "      <th>0</th>\n",
       "      <th>0</th>\n",
       "      <th>1</th>\n",
       "      <th>1</th>\n",
       "      <th>0</th>\n",
       "      <th>0</th>\n",
       "      <th>1</th>\n",
       "      <th>1</th>\n",
       "    </tr>\n",
       "    <tr>\n",
       "      <th>user</th>\n",
       "      <th></th>\n",
       "      <th></th>\n",
       "      <th></th>\n",
       "      <th></th>\n",
       "      <th></th>\n",
       "      <th></th>\n",
       "      <th></th>\n",
       "      <th></th>\n",
       "    </tr>\n",
       "  </thead>\n",
       "  <tbody>\n",
       "    <tr>\n",
       "      <th>1000001426235542855</th>\n",
       "      <td>NaN</td>\n",
       "      <td>NaN</td>\n",
       "      <td>3.0</td>\n",
       "      <td>NaN</td>\n",
       "      <td>NaN</td>\n",
       "      <td>NaN</td>\n",
       "      <td>0.0</td>\n",
       "      <td>NaN</td>\n",
       "    </tr>\n",
       "    <tr>\n",
       "      <th>10000041164695327753</th>\n",
       "      <td>NaN</td>\n",
       "      <td>NaN</td>\n",
       "      <td>1.0</td>\n",
       "      <td>NaN</td>\n",
       "      <td>NaN</td>\n",
       "      <td>NaN</td>\n",
       "      <td>0.0</td>\n",
       "      <td>NaN</td>\n",
       "    </tr>\n",
       "    <tr>\n",
       "      <th>10000437167754453419</th>\n",
       "      <td>NaN</td>\n",
       "      <td>NaN</td>\n",
       "      <td>25.0</td>\n",
       "      <td>14.0</td>\n",
       "      <td>NaN</td>\n",
       "      <td>NaN</td>\n",
       "      <td>5.0</td>\n",
       "      <td>0.0</td>\n",
       "    </tr>\n",
       "    <tr>\n",
       "      <th>100006266691692773</th>\n",
       "      <td>2.0</td>\n",
       "      <td>NaN</td>\n",
       "      <td>NaN</td>\n",
       "      <td>NaN</td>\n",
       "      <td>0.0</td>\n",
       "      <td>NaN</td>\n",
       "      <td>NaN</td>\n",
       "      <td>NaN</td>\n",
       "    </tr>\n",
       "    <tr>\n",
       "      <th>10000729822855793980</th>\n",
       "      <td>NaN</td>\n",
       "      <td>NaN</td>\n",
       "      <td>NaN</td>\n",
       "      <td>4.0</td>\n",
       "      <td>NaN</td>\n",
       "      <td>NaN</td>\n",
       "      <td>NaN</td>\n",
       "      <td>0.0</td>\n",
       "    </tr>\n",
       "    <tr>\n",
       "      <th>...</th>\n",
       "      <td>...</td>\n",
       "      <td>...</td>\n",
       "      <td>...</td>\n",
       "      <td>...</td>\n",
       "      <td>...</td>\n",
       "      <td>...</td>\n",
       "      <td>...</td>\n",
       "      <td>...</td>\n",
       "    </tr>\n",
       "    <tr>\n",
       "      <th>9999466463717575277</th>\n",
       "      <td>7.0</td>\n",
       "      <td>4.0</td>\n",
       "      <td>NaN</td>\n",
       "      <td>NaN</td>\n",
       "      <td>0.0</td>\n",
       "      <td>0.0</td>\n",
       "      <td>NaN</td>\n",
       "      <td>NaN</td>\n",
       "    </tr>\n",
       "    <tr>\n",
       "      <th>9999470750505133276</th>\n",
       "      <td>2.0</td>\n",
       "      <td>7.0</td>\n",
       "      <td>NaN</td>\n",
       "      <td>NaN</td>\n",
       "      <td>0.0</td>\n",
       "      <td>1.0</td>\n",
       "      <td>NaN</td>\n",
       "      <td>NaN</td>\n",
       "    </tr>\n",
       "    <tr>\n",
       "      <th>9999529376394046543</th>\n",
       "      <td>13.0</td>\n",
       "      <td>NaN</td>\n",
       "      <td>NaN</td>\n",
       "      <td>NaN</td>\n",
       "      <td>0.0</td>\n",
       "      <td>NaN</td>\n",
       "      <td>NaN</td>\n",
       "      <td>NaN</td>\n",
       "    </tr>\n",
       "    <tr>\n",
       "      <th>9999836269161512864</th>\n",
       "      <td>6.0</td>\n",
       "      <td>3.0</td>\n",
       "      <td>NaN</td>\n",
       "      <td>NaN</td>\n",
       "      <td>0.0</td>\n",
       "      <td>0.0</td>\n",
       "      <td>NaN</td>\n",
       "      <td>NaN</td>\n",
       "    </tr>\n",
       "    <tr>\n",
       "      <th>9999963259659259277</th>\n",
       "      <td>4.0</td>\n",
       "      <td>2.0</td>\n",
       "      <td>NaN</td>\n",
       "      <td>NaN</td>\n",
       "      <td>0.0</td>\n",
       "      <td>0.0</td>\n",
       "      <td>NaN</td>\n",
       "      <td>NaN</td>\n",
       "    </tr>\n",
       "  </tbody>\n",
       "</table>\n",
       "<p>134541 rows × 8 columns</p>\n",
       "</div>"
      ],
      "text/plain": [
       "                      view                  click               \n",
       "part                    AB   AA    AB    AA    AB   AA   AB   AA\n",
       "ab                       0    0     1     1     0    0    1    1\n",
       "user                                                            \n",
       "1000001426235542855    NaN  NaN   3.0   NaN   NaN  NaN  0.0  NaN\n",
       "10000041164695327753   NaN  NaN   1.0   NaN   NaN  NaN  0.0  NaN\n",
       "10000437167754453419   NaN  NaN  25.0  14.0   NaN  NaN  5.0  0.0\n",
       "100006266691692773     2.0  NaN   NaN   NaN   0.0  NaN  NaN  NaN\n",
       "10000729822855793980   NaN  NaN   NaN   4.0   NaN  NaN  NaN  0.0\n",
       "...                    ...  ...   ...   ...   ...  ...  ...  ...\n",
       "9999466463717575277    7.0  4.0   NaN   NaN   0.0  0.0  NaN  NaN\n",
       "9999470750505133276    2.0  7.0   NaN   NaN   0.0  1.0  NaN  NaN\n",
       "9999529376394046543   13.0  NaN   NaN   NaN   0.0  NaN  NaN  NaN\n",
       "9999836269161512864    6.0  3.0   NaN   NaN   0.0  0.0  NaN  NaN\n",
       "9999963259659259277    4.0  2.0   NaN   NaN   0.0  0.0  NaN  NaN\n",
       "\n",
       "[134541 rows x 8 columns]"
      ]
     },
     "execution_count": 9,
     "metadata": {},
     "output_type": "execute_result"
    }
   ],
   "source": [
    "qq.pivot('user',['part','ab'],['view','click'])"
   ]
  },
  {
   "cell_type": "code",
   "execution_count": 10,
   "metadata": {},
   "outputs": [],
   "source": [
    "hahaha_ab_df = qq.pivot('user',['part','ab'],['view','click'])\n",
    "hahaha_test = hahaha_ab_df['click'] / hahaha_ab_df['view']"
   ]
  },
  {
   "cell_type": "code",
   "execution_count": 11,
   "metadata": {},
   "outputs": [],
   "source": [
    "test_of_tests['hahahah'] = {\n",
    "                            'AA':sps.ttest_ind(hahaha_test['AA'][0].dropna(),hahaha_test['AA'][1].dropna()).pvalue,\n",
    "                            'AB':sps.ttest_ind(hahaha_test['AB'][0].dropna(),hahaha_test['AB'][1].dropna()).pvalue,\n",
    "                            }"
   ]
  },
  {
   "cell_type": "code",
   "execution_count": 12,
   "metadata": {},
   "outputs": [
    {
     "data": {
      "text/html": [
       "<div>\n",
       "<style scoped>\n",
       "    .dataframe tbody tr th:only-of-type {\n",
       "        vertical-align: middle;\n",
       "    }\n",
       "\n",
       "    .dataframe tbody tr th {\n",
       "        vertical-align: top;\n",
       "    }\n",
       "\n",
       "    .dataframe thead th {\n",
       "        text-align: right;\n",
       "    }\n",
       "</style>\n",
       "<table border=\"1\" class=\"dataframe\">\n",
       "  <thead>\n",
       "    <tr style=\"text-align: right;\">\n",
       "      <th></th>\n",
       "      <th>AA</th>\n",
       "      <th>AB</th>\n",
       "    </tr>\n",
       "  </thead>\n",
       "  <tbody>\n",
       "    <tr>\n",
       "      <th>hahahah</th>\n",
       "      <td>0.64553</td>\n",
       "      <td>0.18029</td>\n",
       "    </tr>\n",
       "  </tbody>\n",
       "</table>\n",
       "</div>"
      ],
      "text/plain": [
       "              AA       AB\n",
       "hahahah  0.64553  0.18029"
      ]
     },
     "execution_count": 12,
     "metadata": {},
     "output_type": "execute_result"
    }
   ],
   "source": [
    "pd.DataFrame(test_of_tests).T"
   ]
  },
  {
   "cell_type": "code",
   "execution_count": 13,
   "metadata": {},
   "outputs": [],
   "source": [
    "effect_size['hahahah'] = hahaha_test.mean().unstack().apply(lambda x: x[1] - x[0],axis=1).to_dict()"
   ]
  },
  {
   "cell_type": "code",
   "execution_count": 14,
   "metadata": {},
   "outputs": [],
   "source": [
    "test_of_tests['hahahah_log'] = {\n",
    "                            'AA':sps.ttest_ind(hahaha_test['AA'][0].dropna().apply(np.log1p),hahaha_test['AA'][1].dropna().apply(np.log1p)).pvalue,\n",
    "                            'AB':sps.ttest_ind(hahaha_test['AB'][0].dropna().apply(np.log1p),hahaha_test['AB'][1].dropna().apply(np.log1p)).pvalue,\n",
    "                            }"
   ]
  },
  {
   "cell_type": "code",
   "execution_count": 15,
   "metadata": {},
   "outputs": [
    {
     "data": {
      "text/html": [
       "<div>\n",
       "<style scoped>\n",
       "    .dataframe tbody tr th:only-of-type {\n",
       "        vertical-align: middle;\n",
       "    }\n",
       "\n",
       "    .dataframe tbody tr th {\n",
       "        vertical-align: top;\n",
       "    }\n",
       "\n",
       "    .dataframe thead th {\n",
       "        text-align: right;\n",
       "    }\n",
       "</style>\n",
       "<table border=\"1\" class=\"dataframe\">\n",
       "  <thead>\n",
       "    <tr style=\"text-align: right;\">\n",
       "      <th></th>\n",
       "      <th>AA</th>\n",
       "      <th>AB</th>\n",
       "    </tr>\n",
       "  </thead>\n",
       "  <tbody>\n",
       "    <tr>\n",
       "      <th>hahahah</th>\n",
       "      <td>0.645530</td>\n",
       "      <td>0.180290</td>\n",
       "    </tr>\n",
       "    <tr>\n",
       "      <th>hahahah_log</th>\n",
       "      <td>0.702553</td>\n",
       "      <td>0.124682</td>\n",
       "    </tr>\n",
       "  </tbody>\n",
       "</table>\n",
       "</div>"
      ],
      "text/plain": [
       "                   AA        AB\n",
       "hahahah      0.645530  0.180290\n",
       "hahahah_log  0.702553  0.124682"
      ]
     },
     "execution_count": 15,
     "metadata": {},
     "output_type": "execute_result"
    }
   ],
   "source": [
    "pd.DataFrame(test_of_tests).T"
   ]
  },
  {
   "cell_type": "code",
   "execution_count": 16,
   "metadata": {},
   "outputs": [],
   "source": [
    "effect_size['hahahah_log'] = hahaha_test.apply(np.log1p).mean().unstack().apply(lambda x: x[1] - x[0],axis=1).to_dict()"
   ]
  },
  {
   "cell_type": "markdown",
   "metadata": {},
   "source": [
    "# Настоящая база\n",
    "<img src='https://www.meme-arsenal.com/memes/28beaa87227d46e0d91f2f3cb697f89c.jpg' width=400 height=400/>"
   ]
  },
  {
   "cell_type": "code",
   "execution_count": 17,
   "metadata": {},
   "outputs": [],
   "source": [
    "# А настоящая база, когда мы проверили наш сет на предмет возможного пиздеца"
   ]
  },
  {
   "cell_type": "code",
   "execution_count": 18,
   "metadata": {},
   "outputs": [
    {
     "data": {
      "text/html": [
       "<div>\n",
       "<style scoped>\n",
       "    .dataframe tbody tr th:only-of-type {\n",
       "        vertical-align: middle;\n",
       "    }\n",
       "\n",
       "    .dataframe tbody tr th {\n",
       "        vertical-align: top;\n",
       "    }\n",
       "\n",
       "    .dataframe thead th {\n",
       "        text-align: right;\n",
       "    }\n",
       "</style>\n",
       "<table border=\"1\" class=\"dataframe\">\n",
       "  <thead>\n",
       "    <tr style=\"text-align: right;\">\n",
       "      <th></th>\n",
       "      <th>view</th>\n",
       "      <th>click</th>\n",
       "    </tr>\n",
       "  </thead>\n",
       "  <tbody>\n",
       "    <tr>\n",
       "      <th>count</th>\n",
       "      <td>181525.000000</td>\n",
       "      <td>181525.000000</td>\n",
       "    </tr>\n",
       "    <tr>\n",
       "      <th>mean</th>\n",
       "      <td>4.207757</td>\n",
       "      <td>0.323217</td>\n",
       "    </tr>\n",
       "    <tr>\n",
       "      <th>std</th>\n",
       "      <td>6.904729</td>\n",
       "      <td>1.041286</td>\n",
       "    </tr>\n",
       "    <tr>\n",
       "      <th>min</th>\n",
       "      <td>1.000000</td>\n",
       "      <td>0.000000</td>\n",
       "    </tr>\n",
       "    <tr>\n",
       "      <th>25%</th>\n",
       "      <td>1.000000</td>\n",
       "      <td>0.000000</td>\n",
       "    </tr>\n",
       "    <tr>\n",
       "      <th>50%</th>\n",
       "      <td>2.000000</td>\n",
       "      <td>0.000000</td>\n",
       "    </tr>\n",
       "    <tr>\n",
       "      <th>75%</th>\n",
       "      <td>5.000000</td>\n",
       "      <td>0.000000</td>\n",
       "    </tr>\n",
       "    <tr>\n",
       "      <th>max</th>\n",
       "      <td>1055.000000</td>\n",
       "      <td>49.000000</td>\n",
       "    </tr>\n",
       "  </tbody>\n",
       "</table>\n",
       "</div>"
      ],
      "text/plain": [
       "                view          click\n",
       "count  181525.000000  181525.000000\n",
       "mean        4.207757       0.323217\n",
       "std         6.904729       1.041286\n",
       "min         1.000000       0.000000\n",
       "25%         1.000000       0.000000\n",
       "50%         2.000000       0.000000\n",
       "75%         5.000000       0.000000\n",
       "max      1055.000000      49.000000"
      ]
     },
     "execution_count": 18,
     "metadata": {},
     "output_type": "execute_result"
    }
   ],
   "source": [
    "# мммммммммммммммммммммммммммммммммммммммммммммм 1053 платежки за 2 недели ммммммммммммммммммммммммммммммм\n",
    "sql_data[['view','click']].describe()"
   ]
  },
  {
   "cell_type": "code",
   "execution_count": 19,
   "metadata": {},
   "outputs": [],
   "source": [
    "# Убираем аккуратно, нужно брать бейзлайн именно с АА теста, чтобы в АБ у нас был унифицированная граница отрубания\n",
    "views_aa_quantile = sql_data.query('part==\"AA\"')['view'].quantile(.99)\n",
    "base = sql_data.copy().where(lambda x: x['view']<views_aa_quantile).dropna()"
   ]
  },
  {
   "cell_type": "code",
   "execution_count": 20,
   "metadata": {},
   "outputs": [
    {
     "data": {
      "text/html": [
       "<div>\n",
       "<style scoped>\n",
       "    .dataframe tbody tr th:only-of-type {\n",
       "        vertical-align: middle;\n",
       "    }\n",
       "\n",
       "    .dataframe tbody tr th {\n",
       "        vertical-align: top;\n",
       "    }\n",
       "\n",
       "    .dataframe thead th {\n",
       "        text-align: right;\n",
       "    }\n",
       "</style>\n",
       "<table border=\"1\" class=\"dataframe\">\n",
       "  <thead>\n",
       "    <tr style=\"text-align: right;\">\n",
       "      <th></th>\n",
       "      <th>view</th>\n",
       "      <th>click</th>\n",
       "    </tr>\n",
       "  </thead>\n",
       "  <tbody>\n",
       "    <tr>\n",
       "      <th>count</th>\n",
       "      <td>179537.000000</td>\n",
       "      <td>179537.000000</td>\n",
       "    </tr>\n",
       "    <tr>\n",
       "      <th>mean</th>\n",
       "      <td>3.734239</td>\n",
       "      <td>0.317834</td>\n",
       "    </tr>\n",
       "    <tr>\n",
       "      <th>std</th>\n",
       "      <td>3.873744</td>\n",
       "      <td>0.972961</td>\n",
       "    </tr>\n",
       "    <tr>\n",
       "      <th>min</th>\n",
       "      <td>1.000000</td>\n",
       "      <td>0.000000</td>\n",
       "    </tr>\n",
       "    <tr>\n",
       "      <th>25%</th>\n",
       "      <td>1.000000</td>\n",
       "      <td>0.000000</td>\n",
       "    </tr>\n",
       "    <tr>\n",
       "      <th>50%</th>\n",
       "      <td>2.000000</td>\n",
       "      <td>0.000000</td>\n",
       "    </tr>\n",
       "    <tr>\n",
       "      <th>75%</th>\n",
       "      <td>5.000000</td>\n",
       "      <td>0.000000</td>\n",
       "    </tr>\n",
       "    <tr>\n",
       "      <th>max</th>\n",
       "      <td>29.000000</td>\n",
       "      <td>23.000000</td>\n",
       "    </tr>\n",
       "  </tbody>\n",
       "</table>\n",
       "</div>"
      ],
      "text/plain": [
       "                view          click\n",
       "count  179537.000000  179537.000000\n",
       "mean        3.734239       0.317834\n",
       "std         3.873744       0.972961\n",
       "min         1.000000       0.000000\n",
       "25%         1.000000       0.000000\n",
       "50%         2.000000       0.000000\n",
       "75%         5.000000       0.000000\n",
       "max        29.000000      23.000000"
      ]
     },
     "execution_count": 20,
     "metadata": {},
     "output_type": "execute_result"
    }
   ],
   "source": [
    "# Отдельно взятые средне не сместились, а вот разброс ушел - Мы молодцы!\n",
    "base[['view','click']].describe()"
   ]
  },
  {
   "cell_type": "code",
   "execution_count": 21,
   "metadata": {},
   "outputs": [],
   "source": [
    "base_test = base.groupby(['user','part','ab'])[['view','click']].sum().unstack([1,2])\n",
    "base_test = base_test['click'] / base_test['view']"
   ]
  },
  {
   "cell_type": "code",
   "execution_count": 22,
   "metadata": {},
   "outputs": [
    {
     "data": {
      "text/html": [
       "<div>\n",
       "<style scoped>\n",
       "    .dataframe tbody tr th:only-of-type {\n",
       "        vertical-align: middle;\n",
       "    }\n",
       "\n",
       "    .dataframe tbody tr th {\n",
       "        vertical-align: top;\n",
       "    }\n",
       "\n",
       "    .dataframe thead tr th {\n",
       "        text-align: left;\n",
       "    }\n",
       "</style>\n",
       "<table border=\"1\" class=\"dataframe\">\n",
       "  <thead>\n",
       "    <tr>\n",
       "      <th>part</th>\n",
       "      <th>AB</th>\n",
       "      <th>AA</th>\n",
       "      <th>AB</th>\n",
       "      <th>AA</th>\n",
       "    </tr>\n",
       "    <tr>\n",
       "      <th>ab</th>\n",
       "      <th>1.0</th>\n",
       "      <th>1.0</th>\n",
       "      <th>0.0</th>\n",
       "      <th>0.0</th>\n",
       "    </tr>\n",
       "  </thead>\n",
       "  <tbody>\n",
       "    <tr>\n",
       "      <th>count</th>\n",
       "      <td>41079.000000</td>\n",
       "      <td>48537.000000</td>\n",
       "      <td>41229.000000</td>\n",
       "      <td>48692.000000</td>\n",
       "    </tr>\n",
       "    <tr>\n",
       "      <th>mean</th>\n",
       "      <td>0.081543</td>\n",
       "      <td>0.079013</td>\n",
       "      <td>0.079465</td>\n",
       "      <td>0.078322</td>\n",
       "    </tr>\n",
       "    <tr>\n",
       "      <th>std</th>\n",
       "      <td>0.217543</td>\n",
       "      <td>0.216069</td>\n",
       "      <td>0.216574</td>\n",
       "      <td>0.214190</td>\n",
       "    </tr>\n",
       "    <tr>\n",
       "      <th>min</th>\n",
       "      <td>0.000000</td>\n",
       "      <td>0.000000</td>\n",
       "      <td>0.000000</td>\n",
       "      <td>0.000000</td>\n",
       "    </tr>\n",
       "    <tr>\n",
       "      <th>25%</th>\n",
       "      <td>0.000000</td>\n",
       "      <td>0.000000</td>\n",
       "      <td>0.000000</td>\n",
       "      <td>0.000000</td>\n",
       "    </tr>\n",
       "    <tr>\n",
       "      <th>50%</th>\n",
       "      <td>0.000000</td>\n",
       "      <td>0.000000</td>\n",
       "      <td>0.000000</td>\n",
       "      <td>0.000000</td>\n",
       "    </tr>\n",
       "    <tr>\n",
       "      <th>75%</th>\n",
       "      <td>0.000000</td>\n",
       "      <td>0.000000</td>\n",
       "      <td>0.000000</td>\n",
       "      <td>0.000000</td>\n",
       "    </tr>\n",
       "    <tr>\n",
       "      <th>max</th>\n",
       "      <td>2.000000</td>\n",
       "      <td>3.000000</td>\n",
       "      <td>2.000000</td>\n",
       "      <td>3.000000</td>\n",
       "    </tr>\n",
       "  </tbody>\n",
       "</table>\n",
       "</div>"
      ],
      "text/plain": [
       "part             AB            AA            AB            AA\n",
       "ab              1.0           1.0           0.0           0.0\n",
       "count  41079.000000  48537.000000  41229.000000  48692.000000\n",
       "mean       0.081543      0.079013      0.079465      0.078322\n",
       "std        0.217543      0.216069      0.216574      0.214190\n",
       "min        0.000000      0.000000      0.000000      0.000000\n",
       "25%        0.000000      0.000000      0.000000      0.000000\n",
       "50%        0.000000      0.000000      0.000000      0.000000\n",
       "75%        0.000000      0.000000      0.000000      0.000000\n",
       "max        2.000000      3.000000      2.000000      3.000000"
      ]
     },
     "execution_count": 22,
     "metadata": {},
     "output_type": "execute_result"
    }
   ],
   "source": [
    "# CTR 200% mmmmmmmmmmmmmmm\n",
    "base_test.describe()"
   ]
  },
  {
   "cell_type": "code",
   "execution_count": 23,
   "metadata": {},
   "outputs": [
    {
     "data": {
      "text/html": [
       "<div>\n",
       "<style scoped>\n",
       "    .dataframe tbody tr th:only-of-type {\n",
       "        vertical-align: middle;\n",
       "    }\n",
       "\n",
       "    .dataframe tbody tr th {\n",
       "        vertical-align: top;\n",
       "    }\n",
       "\n",
       "    .dataframe thead tr th {\n",
       "        text-align: left;\n",
       "    }\n",
       "\n",
       "    .dataframe thead tr:last-of-type th {\n",
       "        text-align: right;\n",
       "    }\n",
       "</style>\n",
       "<table border=\"1\" class=\"dataframe\">\n",
       "  <thead>\n",
       "    <tr>\n",
       "      <th>part</th>\n",
       "      <th>AB</th>\n",
       "      <th>AA</th>\n",
       "      <th>AB</th>\n",
       "      <th>AA</th>\n",
       "    </tr>\n",
       "    <tr>\n",
       "      <th>ab</th>\n",
       "      <th>1.0</th>\n",
       "      <th>1.0</th>\n",
       "      <th>0.0</th>\n",
       "      <th>0.0</th>\n",
       "    </tr>\n",
       "    <tr>\n",
       "      <th>user</th>\n",
       "      <th></th>\n",
       "      <th></th>\n",
       "      <th></th>\n",
       "      <th></th>\n",
       "    </tr>\n",
       "  </thead>\n",
       "  <tbody>\n",
       "    <tr>\n",
       "      <th>1000001426235542855</th>\n",
       "      <td>0.0</td>\n",
       "      <td>NaN</td>\n",
       "      <td>NaN</td>\n",
       "      <td>NaN</td>\n",
       "    </tr>\n",
       "    <tr>\n",
       "      <th>10000041164695327753</th>\n",
       "      <td>0.0</td>\n",
       "      <td>NaN</td>\n",
       "      <td>NaN</td>\n",
       "      <td>NaN</td>\n",
       "    </tr>\n",
       "    <tr>\n",
       "      <th>10000437167754453419</th>\n",
       "      <td>0.2</td>\n",
       "      <td>0.0</td>\n",
       "      <td>NaN</td>\n",
       "      <td>NaN</td>\n",
       "    </tr>\n",
       "    <tr>\n",
       "      <th>100006266691692773</th>\n",
       "      <td>NaN</td>\n",
       "      <td>NaN</td>\n",
       "      <td>0.0</td>\n",
       "      <td>NaN</td>\n",
       "    </tr>\n",
       "    <tr>\n",
       "      <th>10000729822855793980</th>\n",
       "      <td>NaN</td>\n",
       "      <td>0.0</td>\n",
       "      <td>NaN</td>\n",
       "      <td>NaN</td>\n",
       "    </tr>\n",
       "    <tr>\n",
       "      <th>...</th>\n",
       "      <td>...</td>\n",
       "      <td>...</td>\n",
       "      <td>...</td>\n",
       "      <td>...</td>\n",
       "    </tr>\n",
       "    <tr>\n",
       "      <th>9999466463717575277</th>\n",
       "      <td>NaN</td>\n",
       "      <td>NaN</td>\n",
       "      <td>0.0</td>\n",
       "      <td>0.000000</td>\n",
       "    </tr>\n",
       "    <tr>\n",
       "      <th>9999470750505133276</th>\n",
       "      <td>NaN</td>\n",
       "      <td>NaN</td>\n",
       "      <td>0.0</td>\n",
       "      <td>0.142857</td>\n",
       "    </tr>\n",
       "    <tr>\n",
       "      <th>9999529376394046543</th>\n",
       "      <td>NaN</td>\n",
       "      <td>NaN</td>\n",
       "      <td>0.0</td>\n",
       "      <td>NaN</td>\n",
       "    </tr>\n",
       "    <tr>\n",
       "      <th>9999836269161512864</th>\n",
       "      <td>NaN</td>\n",
       "      <td>NaN</td>\n",
       "      <td>0.0</td>\n",
       "      <td>0.000000</td>\n",
       "    </tr>\n",
       "    <tr>\n",
       "      <th>9999963259659259277</th>\n",
       "      <td>NaN</td>\n",
       "      <td>NaN</td>\n",
       "      <td>0.0</td>\n",
       "      <td>0.000000</td>\n",
       "    </tr>\n",
       "  </tbody>\n",
       "</table>\n",
       "<p>133185 rows × 4 columns</p>\n",
       "</div>"
      ],
      "text/plain": [
       "part                   AB   AA   AB        AA\n",
       "ab                    1.0  1.0  0.0       0.0\n",
       "user                                         \n",
       "1000001426235542855   0.0  NaN  NaN       NaN\n",
       "10000041164695327753  0.0  NaN  NaN       NaN\n",
       "10000437167754453419  0.2  0.0  NaN       NaN\n",
       "100006266691692773    NaN  NaN  0.0       NaN\n",
       "10000729822855793980  NaN  0.0  NaN       NaN\n",
       "...                   ...  ...  ...       ...\n",
       "9999466463717575277   NaN  NaN  0.0  0.000000\n",
       "9999470750505133276   NaN  NaN  0.0  0.142857\n",
       "9999529376394046543   NaN  NaN  0.0       NaN\n",
       "9999836269161512864   NaN  NaN  0.0  0.000000\n",
       "9999963259659259277   NaN  NaN  0.0  0.000000\n",
       "\n",
       "[133185 rows x 4 columns]"
      ]
     },
     "execution_count": 23,
     "metadata": {},
     "output_type": "execute_result"
    }
   ],
   "source": [
    "base_test.where(lambda x: x<=1).dropna(thresh=1)"
   ]
  },
  {
   "cell_type": "code",
   "execution_count": 24,
   "metadata": {},
   "outputs": [],
   "source": [
    "# Убираем наших уберкликеров\n",
    "base_test = base_test.where(lambda x: x<=1).dropna(thresh=1)"
   ]
  },
  {
   "cell_type": "code",
   "execution_count": 25,
   "metadata": {},
   "outputs": [
    {
     "data": {
      "text/html": [
       "<div>\n",
       "<style scoped>\n",
       "    .dataframe tbody tr th:only-of-type {\n",
       "        vertical-align: middle;\n",
       "    }\n",
       "\n",
       "    .dataframe tbody tr th {\n",
       "        vertical-align: top;\n",
       "    }\n",
       "\n",
       "    .dataframe thead tr th {\n",
       "        text-align: left;\n",
       "    }\n",
       "</style>\n",
       "<table border=\"1\" class=\"dataframe\">\n",
       "  <thead>\n",
       "    <tr>\n",
       "      <th>part</th>\n",
       "      <th>AB</th>\n",
       "      <th>AA</th>\n",
       "      <th>AB</th>\n",
       "      <th>AA</th>\n",
       "    </tr>\n",
       "    <tr>\n",
       "      <th>ab</th>\n",
       "      <th>1.0</th>\n",
       "      <th>1.0</th>\n",
       "      <th>0.0</th>\n",
       "      <th>0.0</th>\n",
       "    </tr>\n",
       "  </thead>\n",
       "  <tbody>\n",
       "    <tr>\n",
       "      <th>count</th>\n",
       "      <td>41060.000000</td>\n",
       "      <td>48479.000000</td>\n",
       "      <td>41211.000000</td>\n",
       "      <td>48634.000000</td>\n",
       "    </tr>\n",
       "    <tr>\n",
       "      <th>mean</th>\n",
       "      <td>0.080782</td>\n",
       "      <td>0.076894</td>\n",
       "      <td>0.078699</td>\n",
       "      <td>0.076247</td>\n",
       "    </tr>\n",
       "    <tr>\n",
       "      <th>std</th>\n",
       "      <td>0.214613</td>\n",
       "      <td>0.206963</td>\n",
       "      <td>0.213420</td>\n",
       "      <td>0.205294</td>\n",
       "    </tr>\n",
       "    <tr>\n",
       "      <th>min</th>\n",
       "      <td>0.000000</td>\n",
       "      <td>0.000000</td>\n",
       "      <td>0.000000</td>\n",
       "      <td>0.000000</td>\n",
       "    </tr>\n",
       "    <tr>\n",
       "      <th>25%</th>\n",
       "      <td>0.000000</td>\n",
       "      <td>0.000000</td>\n",
       "      <td>0.000000</td>\n",
       "      <td>0.000000</td>\n",
       "    </tr>\n",
       "    <tr>\n",
       "      <th>50%</th>\n",
       "      <td>0.000000</td>\n",
       "      <td>0.000000</td>\n",
       "      <td>0.000000</td>\n",
       "      <td>0.000000</td>\n",
       "    </tr>\n",
       "    <tr>\n",
       "      <th>75%</th>\n",
       "      <td>0.000000</td>\n",
       "      <td>0.000000</td>\n",
       "      <td>0.000000</td>\n",
       "      <td>0.000000</td>\n",
       "    </tr>\n",
       "    <tr>\n",
       "      <th>max</th>\n",
       "      <td>1.000000</td>\n",
       "      <td>1.000000</td>\n",
       "      <td>1.000000</td>\n",
       "      <td>1.000000</td>\n",
       "    </tr>\n",
       "  </tbody>\n",
       "</table>\n",
       "</div>"
      ],
      "text/plain": [
       "part             AB            AA            AB            AA\n",
       "ab              1.0           1.0           0.0           0.0\n",
       "count  41060.000000  48479.000000  41211.000000  48634.000000\n",
       "mean       0.080782      0.076894      0.078699      0.076247\n",
       "std        0.214613      0.206963      0.213420      0.205294\n",
       "min        0.000000      0.000000      0.000000      0.000000\n",
       "25%        0.000000      0.000000      0.000000      0.000000\n",
       "50%        0.000000      0.000000      0.000000      0.000000\n",
       "75%        0.000000      0.000000      0.000000      0.000000\n",
       "max        1.000000      1.000000      1.000000      1.000000"
      ]
     },
     "execution_count": 25,
     "metadata": {},
     "output_type": "execute_result"
    }
   ],
   "source": [
    "base_test.describe()"
   ]
  },
  {
   "cell_type": "code",
   "execution_count": 26,
   "metadata": {},
   "outputs": [],
   "source": [
    "test_of_tests['base'] = {\n",
    "                            'AA':sps.ttest_ind(base_test['AA'][0].dropna(),base_test['AA'][1].dropna()).pvalue,\n",
    "                            'AB':sps.ttest_ind(base_test['AB'][0].dropna(),base_test['AB'][1].dropna()).pvalue,\n",
    "                            }"
   ]
  },
  {
   "cell_type": "code",
   "execution_count": 27,
   "metadata": {},
   "outputs": [
    {
     "data": {
      "text/html": [
       "<div>\n",
       "<style scoped>\n",
       "    .dataframe tbody tr th:only-of-type {\n",
       "        vertical-align: middle;\n",
       "    }\n",
       "\n",
       "    .dataframe tbody tr th {\n",
       "        vertical-align: top;\n",
       "    }\n",
       "\n",
       "    .dataframe thead th {\n",
       "        text-align: right;\n",
       "    }\n",
       "</style>\n",
       "<table border=\"1\" class=\"dataframe\">\n",
       "  <thead>\n",
       "    <tr style=\"text-align: right;\">\n",
       "      <th></th>\n",
       "      <th>AA</th>\n",
       "      <th>AB</th>\n",
       "    </tr>\n",
       "  </thead>\n",
       "  <tbody>\n",
       "    <tr>\n",
       "      <th>hahahah</th>\n",
       "      <td>0.645530</td>\n",
       "      <td>0.180290</td>\n",
       "    </tr>\n",
       "    <tr>\n",
       "      <th>hahahah_log</th>\n",
       "      <td>0.702553</td>\n",
       "      <td>0.124682</td>\n",
       "    </tr>\n",
       "    <tr>\n",
       "      <th>base</th>\n",
       "      <td>0.624902</td>\n",
       "      <td>0.162786</td>\n",
       "    </tr>\n",
       "  </tbody>\n",
       "</table>\n",
       "</div>"
      ],
      "text/plain": [
       "                   AA        AB\n",
       "hahahah      0.645530  0.180290\n",
       "hahahah_log  0.702553  0.124682\n",
       "base         0.624902  0.162786"
      ]
     },
     "execution_count": 27,
     "metadata": {},
     "output_type": "execute_result"
    }
   ],
   "source": [
    "pd.DataFrame(test_of_tests).T"
   ]
  },
  {
   "cell_type": "code",
   "execution_count": 28,
   "metadata": {},
   "outputs": [],
   "source": [
    "effect_size['base'] = base_test.mean().unstack().apply(lambda x: x[1] - x[0],axis=1).to_dict()"
   ]
  },
  {
   "cell_type": "code",
   "execution_count": 29,
   "metadata": {},
   "outputs": [
    {
     "data": {
      "text/html": [
       "<div>\n",
       "<style scoped>\n",
       "    .dataframe tbody tr th:only-of-type {\n",
       "        vertical-align: middle;\n",
       "    }\n",
       "\n",
       "    .dataframe tbody tr th {\n",
       "        vertical-align: top;\n",
       "    }\n",
       "\n",
       "    .dataframe thead th {\n",
       "        text-align: right;\n",
       "    }\n",
       "</style>\n",
       "<table border=\"1\" class=\"dataframe\">\n",
       "  <thead>\n",
       "    <tr style=\"text-align: right;\">\n",
       "      <th></th>\n",
       "      <th>AA</th>\n",
       "      <th>AB</th>\n",
       "    </tr>\n",
       "  </thead>\n",
       "  <tbody>\n",
       "    <tr>\n",
       "      <th>hahahah</th>\n",
       "      <td>0.645530</td>\n",
       "      <td>0.180290</td>\n",
       "    </tr>\n",
       "    <tr>\n",
       "      <th>hahahah_log</th>\n",
       "      <td>0.702553</td>\n",
       "      <td>0.124682</td>\n",
       "    </tr>\n",
       "    <tr>\n",
       "      <th>base</th>\n",
       "      <td>0.624902</td>\n",
       "      <td>0.162786</td>\n",
       "    </tr>\n",
       "    <tr>\n",
       "      <th>base_log</th>\n",
       "      <td>0.679356</td>\n",
       "      <td>0.115914</td>\n",
       "    </tr>\n",
       "  </tbody>\n",
       "</table>\n",
       "</div>"
      ],
      "text/plain": [
       "                   AA        AB\n",
       "hahahah      0.645530  0.180290\n",
       "hahahah_log  0.702553  0.124682\n",
       "base         0.624902  0.162786\n",
       "base_log     0.679356  0.115914"
      ]
     },
     "execution_count": 29,
     "metadata": {},
     "output_type": "execute_result"
    }
   ],
   "source": [
    "test_of_tests['base_log'] = {\n",
    "                            'AA':sps.ttest_ind(base_test['AA'][0].dropna().apply(np.log1p),base_test['AA'][1].dropna().apply(np.log1p)).pvalue,\n",
    "                            'AB':sps.ttest_ind(base_test['AB'][0].dropna().apply(np.log1p),base_test['AB'][1].dropna().apply(np.log1p)).pvalue,\n",
    "                            }\n",
    "pd.DataFrame(test_of_tests).T"
   ]
  },
  {
   "cell_type": "code",
   "execution_count": 30,
   "metadata": {},
   "outputs": [],
   "source": [
    "effect_size['base_log'] = base_test.apply(np.log1p).mean().unstack().apply(lambda x: x[1] - x[0],axis=1).to_dict()"
   ]
  },
  {
   "cell_type": "markdown",
   "metadata": {},
   "source": [
    "# Наш выбор если CTR (Linearization)\n",
    "* Оч просто\n",
    "* Но не понято\n",
    "\n",
    "<img src='https://icdn.lenta.ru/images/2017/10/02/18/20171002185339048/original_d914c38487d8383acb871620d1d3eef3.jpg' width=400 height=400/>"
   ]
  },
  {
   "cell_type": "code",
   "execution_count": 31,
   "metadata": {},
   "outputs": [],
   "source": [
    "# берем CTR контроля и считаем новую метрику, как разницу скликов и произведения просмотров на наш CTR контроля.\n",
    "# По итогу получаем в обоих случаях среднее контрольной группы 0, а тритмента в размере нашего аплифта\n"
   ]
  },
  {
   "cell_type": "code",
   "execution_count": 32,
   "metadata": {},
   "outputs": [],
   "source": [
    "linear_test = base.groupby(['user','part','ab'])[['view','click']].sum().unstack([1,2])"
   ]
  },
  {
   "cell_type": "code",
   "execution_count": 33,
   "metadata": {},
   "outputs": [],
   "source": [
    "k = linear_test['click'].sum().div(linear_test['view'].sum()).unstack()[0].rename('k')"
   ]
  },
  {
   "cell_type": "code",
   "execution_count": 34,
   "metadata": {},
   "outputs": [
    {
     "data": {
      "text/plain": [
       "part\n",
       "AA    0.087475\n",
       "AB    0.079888\n",
       "Name: k, dtype: float64"
      ]
     },
     "execution_count": 34,
     "metadata": {},
     "output_type": "execute_result"
    }
   ],
   "source": [
    "k"
   ]
  },
  {
   "cell_type": "code",
   "execution_count": 35,
   "metadata": {},
   "outputs": [],
   "source": [
    "linear_test = linear_test['click'] - linear_test['view'].apply(lambda x: x * k[x.name[0]])"
   ]
  },
  {
   "cell_type": "code",
   "execution_count": 36,
   "metadata": {},
   "outputs": [],
   "source": [
    "test_of_tests['linear'] = {\n",
    "                            'AA':sps.ttest_ind(linear_test['AA'][0].dropna(),linear_test['AA'][1].dropna()).pvalue,\n",
    "                            'AB':sps.ttest_ind(linear_test['AB'][0].dropna(),linear_test['AB'][1].dropna()).pvalue,\n",
    "                            }"
   ]
  },
  {
   "cell_type": "code",
   "execution_count": 37,
   "metadata": {},
   "outputs": [
    {
     "data": {
      "text/html": [
       "<div>\n",
       "<style scoped>\n",
       "    .dataframe tbody tr th:only-of-type {\n",
       "        vertical-align: middle;\n",
       "    }\n",
       "\n",
       "    .dataframe tbody tr th {\n",
       "        vertical-align: top;\n",
       "    }\n",
       "\n",
       "    .dataframe thead th {\n",
       "        text-align: right;\n",
       "    }\n",
       "</style>\n",
       "<table border=\"1\" class=\"dataframe\">\n",
       "  <thead>\n",
       "    <tr style=\"text-align: right;\">\n",
       "      <th></th>\n",
       "      <th>AA</th>\n",
       "      <th>AB</th>\n",
       "    </tr>\n",
       "  </thead>\n",
       "  <tbody>\n",
       "    <tr>\n",
       "      <th>hahahah</th>\n",
       "      <td>0.645530</td>\n",
       "      <td>0.180290</td>\n",
       "    </tr>\n",
       "    <tr>\n",
       "      <th>hahahah_log</th>\n",
       "      <td>0.702553</td>\n",
       "      <td>0.124682</td>\n",
       "    </tr>\n",
       "    <tr>\n",
       "      <th>base</th>\n",
       "      <td>0.624902</td>\n",
       "      <td>0.162786</td>\n",
       "    </tr>\n",
       "    <tr>\n",
       "      <th>base_log</th>\n",
       "      <td>0.679356</td>\n",
       "      <td>0.115914</td>\n",
       "    </tr>\n",
       "    <tr>\n",
       "      <th>linear</th>\n",
       "      <td>0.811256</td>\n",
       "      <td>0.012530</td>\n",
       "    </tr>\n",
       "  </tbody>\n",
       "</table>\n",
       "</div>"
      ],
      "text/plain": [
       "                   AA        AB\n",
       "hahahah      0.645530  0.180290\n",
       "hahahah_log  0.702553  0.124682\n",
       "base         0.624902  0.162786\n",
       "base_log     0.679356  0.115914\n",
       "linear       0.811256  0.012530"
      ]
     },
     "execution_count": 37,
     "metadata": {},
     "output_type": "execute_result"
    }
   ],
   "source": [
    "pd.DataFrame(test_of_tests).T"
   ]
  },
  {
   "cell_type": "code",
   "execution_count": 38,
   "metadata": {},
   "outputs": [],
   "source": [
    "effect_size['linear'] = linear_test.mean().unstack().apply(lambda x: x[1] - x[0],axis=1).to_dict()"
   ]
  },
  {
   "cell_type": "markdown",
   "metadata": {},
   "source": [
    "# Наш выбор если CTR Flex\n",
    "* Оч просто\n",
    "* Чуть понятнее\n",
    "\n",
    "<img src='https://encrypted-tbn0.gstatic.com/images?q=tbn:ANd9GcTpmP9dQlzF3siuqQNZhn042VnKknN10ZDa7Q&usqp=CAU' width=400 height=400/>"
   ]
  },
  {
   "cell_type": "code",
   "execution_count": 39,
   "metadata": {},
   "outputs": [],
   "source": [
    "bayesian_test = base.groupby(['user','part','ab'])[['view','click']].sum().unstack([1,2]).sum()\n"
   ]
  },
  {
   "cell_type": "code",
   "execution_count": 40,
   "metadata": {},
   "outputs": [],
   "source": [
    "AA_control = sps.beta(*bayesian_test.swaplevel(0,2)[0]['AA'][['click','view']].values).rvs(10000)\n",
    "AA_threatment = sps.beta(*bayesian_test.swaplevel(0,2)[1]['AA'][['click','view']].values).rvs(10000)\n",
    "AB_control = sps.beta(*bayesian_test.swaplevel(0,2)[0]['AB'][['click','view']].values).rvs(10000)\n",
    "AB_threatment = sps.beta(*bayesian_test.swaplevel(0,2)[1]['AB'][['click','view']].values).rvs(10000)"
   ]
  },
  {
   "cell_type": "code",
   "execution_count": 41,
   "metadata": {},
   "outputs": [
    {
     "data": {
      "text/plain": [
       "Text(0.5, 1.0, 'AA test')"
      ]
     },
     "execution_count": 41,
     "metadata": {},
     "output_type": "execute_result"
    },
    {
     "data": {
      "image/png": "[encoded data removed]",
      "text/plain": [
       "<Figure size 1080x432 with 1 Axes>"
      ]
     },
     "metadata": {},
     "output_type": "display_data"
    }
   ],
   "source": [
    "plt.hist(AA_control,bins=100);\n",
    "plt.hist(AA_threatment,bins=100);\n",
    "plt.title('AA test')"
   ]
  },
  {
   "cell_type": "code",
   "execution_count": 42,
   "metadata": {},
   "outputs": [
    {
     "data": {
      "text/plain": [
       "Text(0.5, 1.0, 'AB test')"
      ]
     },
     "execution_count": 42,
     "metadata": {},
     "output_type": "execute_result"
    },
    {
     "data": {
      "image/png": "[encoded data removed]",
      "text/plain": [
       "<Figure size 1080x432 with 1 Axes>"
      ]
     },
     "metadata": {},
     "output_type": "display_data"
    }
   ],
   "source": [
    "plt.hist(AB_control,bins=100);\n",
    "plt.hist(AB_threatment,bins=100);\n",
    "plt.title('AB test')"
   ]
  },
  {
   "cell_type": "code",
   "execution_count": 43,
   "metadata": {},
   "outputs": [],
   "source": [
    "# А как формализовать? "
   ]
  },
  {
   "cell_type": "code",
   "execution_count": 44,
   "metadata": {},
   "outputs": [
    {
     "data": {
      "text/plain": [
       "<matplotlib.lines.Line2D at 0x7fe8937ca0d0>"
      ]
     },
     "execution_count": 44,
     "metadata": {},
     "output_type": "execute_result"
    },
    {
     "data": {
      "image/png": "[encoded data removed]",
      "text/plain": [
       "<Figure size 1080x432 with 1 Axes>"
      ]
     },
     "metadata": {},
     "output_type": "display_data"
    }
   ],
   "source": [
    "# Посмотрим разницу\n",
    "plt.hist(AA_threatment - AA_control,bins=100);\n",
    "plt.axvline(0,linestyle='--',color='g')"
   ]
  },
  {
   "cell_type": "code",
   "execution_count": 45,
   "metadata": {},
   "outputs": [
    {
     "data": {
      "text/plain": [
       "Text(0.5, 1.0, 'Вероятность того, что вариант Б лучше 65.46%')"
      ]
     },
     "execution_count": 45,
     "metadata": {},
     "output_type": "execute_result"
    },
    {
     "data": {
      "image/png": "[encoded data removed]",
      "text/plain": [
       "<Figure size 1080x432 with 1 Axes>"
      ]
     },
     "metadata": {},
     "output_type": "display_data"
    }
   ],
   "source": [
    "# А теперь посчитаем сколько в скольких случаев тритмент лучше нашего контроля\n",
    "# Серая область это когда лучше контроль, красная, когда лучше тритмент\n",
    "# И теперь оцениваем объем и сравниваем\n",
    "plt.hist((AA_threatment - AA_control)[(AA_threatment - AA_control)<0],bins=100,color='grey');\n",
    "plt.hist((AA_threatment - AA_control)[(AA_threatment - AA_control)>0],bins=100);\n",
    "plt.axvline(0,linestyle='--',color='g')\n",
    "plt.title(f'Вероятность того, что вариант Б лучше {(AA_threatment > AA_control).mean():.2%}')"
   ]
  },
  {
   "cell_type": "code",
   "execution_count": null,
   "metadata": {},
   "outputs": [],
   "source": []
  },
  {
   "cell_type": "code",
   "execution_count": 46,
   "metadata": {},
   "outputs": [
    {
     "data": {
      "text/plain": [
       "Text(0.5, 1.0, 'Вероятность того, что вариант Б лучше 100.00%')"
      ]
     },
     "execution_count": 46,
     "metadata": {},
     "output_type": "execute_result"
    },
    {
     "data": {
      "image/png": "[encoded data removed]",
      "text/plain": [
       "<Figure size 1080x432 with 1 Axes>"
      ]
     },
     "metadata": {},
     "output_type": "display_data"
    }
   ],
   "source": [
    "# Посмотрим разницу\n",
    "plt.hist(AB_threatment - AB_control,bins=100);\n",
    "plt.axvline(0,linestyle='--',color='g')\n",
    "plt.title(f'Вероятность того, что вариант Б лучше {(AB_threatment > AB_control).mean():.2%}')"
   ]
  },
  {
   "cell_type": "code",
   "execution_count": 47,
   "metadata": {},
   "outputs": [
    {
     "data": {
      "text/plain": [
       "Text(0.5, 1.0, 'Uplift от наших улучшений 4.73%')"
      ]
     },
     "execution_count": 47,
     "metadata": {},
     "output_type": "execute_result"
    },
    {
     "data": {
      "image/png": "[encoded data removed]",
      "text/plain": [
       "<Figure size 1080x432 with 1 Axes>"
      ]
     },
     "metadata": {},
     "output_type": "display_data"
    }
   ],
   "source": [
    "# Посмотрим разницу\n",
    "plt.hist((AB_threatment - AB_control) / AB_threatment,bins=100);\n",
    "plt.axvline(0,linestyle='--',color='g')\n",
    "plt.title(f'Uplift от наших улучшений {((AB_threatment - AB_control) / AB_threatment).mean():.2%}')"
   ]
  },
  {
   "cell_type": "code",
   "execution_count": 48,
   "metadata": {},
   "outputs": [],
   "source": [
    "test_of_tests['bayesian'] = {\n",
    "                            'AA':min((AA_threatment > AA_control).mean(),1 - (AA_threatment > AA_control).mean()) * 2,\n",
    "                            'AB':min((AB_threatment > AB_control).mean(),1 - (AB_threatment > AB_control).mean()) * 2,\n",
    "                            }"
   ]
  },
  {
   "cell_type": "code",
   "execution_count": 49,
   "metadata": {},
   "outputs": [
    {
     "data": {
      "text/html": [
       "<div>\n",
       "<style scoped>\n",
       "    .dataframe tbody tr th:only-of-type {\n",
       "        vertical-align: middle;\n",
       "    }\n",
       "\n",
       "    .dataframe tbody tr th {\n",
       "        vertical-align: top;\n",
       "    }\n",
       "\n",
       "    .dataframe thead th {\n",
       "        text-align: right;\n",
       "    }\n",
       "</style>\n",
       "<table border=\"1\" class=\"dataframe\">\n",
       "  <thead>\n",
       "    <tr style=\"text-align: right;\">\n",
       "      <th></th>\n",
       "      <th>AA</th>\n",
       "      <th>AB</th>\n",
       "    </tr>\n",
       "  </thead>\n",
       "  <tbody>\n",
       "    <tr>\n",
       "      <th>hahahah</th>\n",
       "      <td>0.645530</td>\n",
       "      <td>0.180290</td>\n",
       "    </tr>\n",
       "    <tr>\n",
       "      <th>hahahah_log</th>\n",
       "      <td>0.702553</td>\n",
       "      <td>0.124682</td>\n",
       "    </tr>\n",
       "    <tr>\n",
       "      <th>base</th>\n",
       "      <td>0.624902</td>\n",
       "      <td>0.162786</td>\n",
       "    </tr>\n",
       "    <tr>\n",
       "      <th>base_log</th>\n",
       "      <td>0.679356</td>\n",
       "      <td>0.115914</td>\n",
       "    </tr>\n",
       "    <tr>\n",
       "      <th>linear</th>\n",
       "      <td>0.811256</td>\n",
       "      <td>0.012530</td>\n",
       "    </tr>\n",
       "    <tr>\n",
       "      <th>bayesian</th>\n",
       "      <td>0.690800</td>\n",
       "      <td>0.000000</td>\n",
       "    </tr>\n",
       "  </tbody>\n",
       "</table>\n",
       "</div>"
      ],
      "text/plain": [
       "                   AA        AB\n",
       "hahahah      0.645530  0.180290\n",
       "hahahah_log  0.702553  0.124682\n",
       "base         0.624902  0.162786\n",
       "base_log     0.679356  0.115914\n",
       "linear       0.811256  0.012530\n",
       "bayesian     0.690800  0.000000"
      ]
     },
     "execution_count": 49,
     "metadata": {},
     "output_type": "execute_result"
    }
   ],
   "source": [
    "pd.DataFrame(test_of_tests).T"
   ]
  },
  {
   "cell_type": "code",
   "execution_count": 50,
   "metadata": {},
   "outputs": [],
   "source": [
    "effect_size ['bayesian'] = {'AA':AA_threatment.mean() - AA_control.mean(),\n",
    "                            'AB':AB_threatment.mean() - AB_control.mean()}"
   ]
  },
  {
   "cell_type": "markdown",
   "metadata": {},
   "source": [
    "# Наш выбор если CTR + важна активность (Перевзвешивание)\n",
    "* Сложновато\n",
    "* Зато понятно почему\n",
    "\n",
    "<img src='http://images2.memedroid.com/images/UPLOADED37/5160beb129d16.jpeg' width=400 height=400/>"
   ]
  },
  {
   "cell_type": "code",
   "execution_count": 51,
   "metadata": {},
   "outputs": [],
   "source": [
    "reweight_test = base.groupby(['user','part','ab'])[['view','click']].sum().unstack([1,2])"
   ]
  },
  {
   "cell_type": "code",
   "execution_count": 52,
   "metadata": {},
   "outputs": [],
   "source": [
    "weight_coef = np.sqrt(reweight_test['view'])"
   ]
  },
  {
   "cell_type": "code",
   "execution_count": null,
   "metadata": {},
   "outputs": [],
   "source": []
  },
  {
   "cell_type": "code",
   "execution_count": 53,
   "metadata": {},
   "outputs": [
    {
     "data": {
      "text/html": [
       "<div>\n",
       "<style scoped>\n",
       "    .dataframe tbody tr th:only-of-type {\n",
       "        vertical-align: middle;\n",
       "    }\n",
       "\n",
       "    .dataframe tbody tr th {\n",
       "        vertical-align: top;\n",
       "    }\n",
       "\n",
       "    .dataframe thead th {\n",
       "        text-align: right;\n",
       "    }\n",
       "</style>\n",
       "<table border=\"1\" class=\"dataframe\">\n",
       "  <thead>\n",
       "    <tr style=\"text-align: right;\">\n",
       "      <th>ab</th>\n",
       "      <th>0.0</th>\n",
       "      <th>1.0</th>\n",
       "    </tr>\n",
       "    <tr>\n",
       "      <th>part</th>\n",
       "      <th></th>\n",
       "      <th></th>\n",
       "    </tr>\n",
       "  </thead>\n",
       "  <tbody>\n",
       "    <tr>\n",
       "      <th>AA</th>\n",
       "      <td>0.078322</td>\n",
       "      <td>0.079013</td>\n",
       "    </tr>\n",
       "    <tr>\n",
       "      <th>AB</th>\n",
       "      <td>0.079465</td>\n",
       "      <td>0.081543</td>\n",
       "    </tr>\n",
       "  </tbody>\n",
       "</table>\n",
       "</div>"
      ],
      "text/plain": [
       "ab         0.0       1.0\n",
       "part                    \n",
       "AA    0.078322  0.079013\n",
       "AB    0.079465  0.081543"
      ]
     },
     "execution_count": 53,
     "metadata": {},
     "output_type": "execute_result"
    }
   ],
   "source": [
    "# average CTR\n",
    "avg_ctr = (reweight_test['click'] / reweight_test['view']).mean().unstack()\n",
    "avg_ctr"
   ]
  },
  {
   "cell_type": "code",
   "execution_count": 54,
   "metadata": {},
   "outputs": [
    {
     "data": {
      "text/html": [
       "<div>\n",
       "<style scoped>\n",
       "    .dataframe tbody tr th:only-of-type {\n",
       "        vertical-align: middle;\n",
       "    }\n",
       "\n",
       "    .dataframe tbody tr th {\n",
       "        vertical-align: top;\n",
       "    }\n",
       "\n",
       "    .dataframe thead th {\n",
       "        text-align: right;\n",
       "    }\n",
       "</style>\n",
       "<table border=\"1\" class=\"dataframe\">\n",
       "  <thead>\n",
       "    <tr style=\"text-align: right;\">\n",
       "      <th>ab</th>\n",
       "      <th>0.0</th>\n",
       "      <th>1.0</th>\n",
       "    </tr>\n",
       "    <tr>\n",
       "      <th>part</th>\n",
       "      <th></th>\n",
       "      <th></th>\n",
       "    </tr>\n",
       "  </thead>\n",
       "  <tbody>\n",
       "    <tr>\n",
       "      <th>AA</th>\n",
       "      <td>0.087475</td>\n",
       "      <td>0.087872</td>\n",
       "    </tr>\n",
       "    <tr>\n",
       "      <th>AB</th>\n",
       "      <td>0.079888</td>\n",
       "      <td>0.084196</td>\n",
       "    </tr>\n",
       "  </tbody>\n",
       "</table>\n",
       "</div>"
      ],
      "text/plain": [
       "ab         0.0       1.0\n",
       "part                    \n",
       "AA    0.087475  0.087872\n",
       "AB    0.079888  0.084196"
      ]
     },
     "execution_count": 54,
     "metadata": {},
     "output_type": "execute_result"
    }
   ],
   "source": [
    "# Global CTR\n",
    "global_ctr = (reweight_test['click'].sum() / reweight_test['view'].sum()).unstack()\n",
    "global_ctr"
   ]
  },
  {
   "cell_type": "code",
   "execution_count": 55,
   "metadata": {},
   "outputs": [
    {
     "data": {
      "text/html": [
       "<div>\n",
       "<style scoped>\n",
       "    .dataframe tbody tr th:only-of-type {\n",
       "        vertical-align: middle;\n",
       "    }\n",
       "\n",
       "    .dataframe tbody tr th {\n",
       "        vertical-align: top;\n",
       "    }\n",
       "\n",
       "    .dataframe thead th {\n",
       "        text-align: right;\n",
       "    }\n",
       "</style>\n",
       "<table border=\"1\" class=\"dataframe\">\n",
       "  <thead>\n",
       "    <tr style=\"text-align: right;\">\n",
       "      <th>ab</th>\n",
       "      <th>0.0</th>\n",
       "      <th>1.0</th>\n",
       "    </tr>\n",
       "    <tr>\n",
       "      <th>part</th>\n",
       "      <th></th>\n",
       "      <th></th>\n",
       "    </tr>\n",
       "  </thead>\n",
       "  <tbody>\n",
       "    <tr>\n",
       "      <th>AA</th>\n",
       "      <td>0.085383</td>\n",
       "      <td>0.085793</td>\n",
       "    </tr>\n",
       "    <tr>\n",
       "      <th>AB</th>\n",
       "      <td>0.082261</td>\n",
       "      <td>0.085341</td>\n",
       "    </tr>\n",
       "  </tbody>\n",
       "</table>\n",
       "</div>"
      ],
      "text/plain": [
       "ab         0.0       1.0\n",
       "part                    \n",
       "AA    0.085383  0.085793\n",
       "AB    0.082261  0.085341"
      ]
     },
     "execution_count": 55,
     "metadata": {},
     "output_type": "execute_result"
    }
   ],
   "source": [
    "# С нелинейным учетом веса\n",
    "reweight_ctr = reweight_test['click'].div(reweight_test['view']).mul(weight_coef).div(weight_coef.mean()).mean().unstack()\n",
    "reweight_ctr"
   ]
  },
  {
   "cell_type": "code",
   "execution_count": 56,
   "metadata": {},
   "outputs": [
    {
     "data": {
      "text/plain": [
       "<matplotlib.legend.Legend at 0x7fe8931b7730>"
      ]
     },
     "execution_count": 56,
     "metadata": {},
     "output_type": "execute_result"
    },
    {
     "data": {
      "image/png": "[encoded data removed]",
      "text/plain": [
       "<Figure size 1080x432 with 1 Axes>"
      ]
     },
     "metadata": {},
     "output_type": "display_data"
    }
   ],
   "source": [
    "# Различные веса\n",
    "# plt.plot(np.linspace(0,100),np.linspace(0,100))\n",
    "plt.plot(np.linspace(0,100),np.ones(50))\n",
    "plt.plot(np.linspace(0,100),np.linspace(0,100)**.5)\n",
    "plt.plot(np.linspace(0,100),np.log(np.linspace(0,100)))\n",
    "plt.legend(['Average CTR','SQRT weight','Log weight'])"
   ]
  },
  {
   "cell_type": "code",
   "execution_count": 57,
   "metadata": {},
   "outputs": [
    {
     "data": {
      "text/html": [
       "<div>\n",
       "<style scoped>\n",
       "    .dataframe tbody tr th:only-of-type {\n",
       "        vertical-align: middle;\n",
       "    }\n",
       "\n",
       "    .dataframe tbody tr th {\n",
       "        vertical-align: top;\n",
       "    }\n",
       "\n",
       "    .dataframe thead th {\n",
       "        text-align: right;\n",
       "    }\n",
       "</style>\n",
       "<table border=\"1\" class=\"dataframe\">\n",
       "  <thead>\n",
       "    <tr style=\"text-align: right;\">\n",
       "      <th>ab</th>\n",
       "      <th>0.0</th>\n",
       "      <th>1.0</th>\n",
       "    </tr>\n",
       "    <tr>\n",
       "      <th>part</th>\n",
       "      <th></th>\n",
       "      <th></th>\n",
       "    </tr>\n",
       "  </thead>\n",
       "  <tbody>\n",
       "    <tr>\n",
       "      <th>AA</th>\n",
       "      <td>0.084824</td>\n",
       "      <td>0.085256</td>\n",
       "    </tr>\n",
       "    <tr>\n",
       "      <th>AB</th>\n",
       "      <td>0.081980</td>\n",
       "      <td>0.085075</td>\n",
       "    </tr>\n",
       "  </tbody>\n",
       "</table>\n",
       "</div>"
      ],
      "text/plain": [
       "ab         0.0       1.0\n",
       "part                    \n",
       "AA    0.084824  0.085256\n",
       "AB    0.081980  0.085075"
      ]
     },
     "execution_count": 57,
     "metadata": {},
     "output_type": "execute_result"
    }
   ],
   "source": [
    "alpha = 1\n",
    "kw = reweight_test['click'].sum().div(reweight_test['view'].sum()) * alpha\n",
    "reweight_test['click'].add( kw).div(reweight_test['view'].add( alpha)).mean().unstack()"
   ]
  },
  {
   "cell_type": "code",
   "execution_count": 58,
   "metadata": {},
   "outputs": [],
   "source": [
    "alpha_df = []\n",
    "for alpha in np.linspace(0,1):\n",
    "    kw = reweight_test['click'].sum().div(reweight_test['view'].sum()) * alpha\n",
    "    alpha_df.append(reweight_test['click'].add( kw).div(reweight_test['view'].add( alpha)).mean().rename(alpha))\n",
    "alpha_df = pd.concat(alpha_df,axis=1)"
   ]
  },
  {
   "cell_type": "code",
   "execution_count": 59,
   "metadata": {},
   "outputs": [
    {
     "data": {
      "image/png": "[encoded data removed]",
      "text/plain": [
       "<Figure size 1080x432 with 4 Axes>"
      ]
     },
     "metadata": {},
     "output_type": "display_data"
    }
   ],
   "source": [
    "fig,ax = plt.subplots(2,2)\n",
    "alpha_df.T.plot(subplots=True,ax=ax,xlabel='alpha',ylabel='CTR')\n",
    "ax[0,0].scatter(x=1,y=global_ctr.loc['AB',1])\n",
    "ax[0,0].scatter(x=0,y=avg_ctr.loc['AB',1])\n",
    "ax[0,0].scatter(x=.5,y=reweight_ctr.loc['AB',1])\n",
    "\n",
    "\n",
    "ax[0,1].scatter(x=1,y=global_ctr.loc['AA',1])\n",
    "ax[0,1].scatter(x=0,y=avg_ctr.loc['AA',1])\n",
    "ax[0,1].scatter(x=.5,y=reweight_ctr.loc['AA',1])\n",
    "\n",
    "ax[1,0].scatter(x=1,y=global_ctr.loc['AB',0])\n",
    "ax[1,0].scatter(x=0,y=avg_ctr.loc['AB',0])\n",
    "ax[1,0].scatter(x=.5,y=reweight_ctr.loc['AB',0])\n",
    "\n",
    "ax[1,1].scatter(x=1,y=global_ctr.loc['AA',0])\n",
    "ax[1,1].scatter(x=0,y=avg_ctr.loc['AA',0])\n",
    "ax[1,1].scatter(x=.5,y=reweight_ctr.loc['AA',0])\n",
    "plt.tight_layout()"
   ]
  },
  {
   "cell_type": "code",
   "execution_count": null,
   "metadata": {},
   "outputs": [],
   "source": []
  },
  {
   "cell_type": "code",
   "execution_count": 60,
   "metadata": {},
   "outputs": [],
   "source": [
    "reweight_test_df = reweight_test['click'].add( kw).div(reweight_test['view'].add( alpha))"
   ]
  },
  {
   "cell_type": "code",
   "execution_count": 61,
   "metadata": {},
   "outputs": [],
   "source": [
    "test_of_tests['reweight_ctr_coef'] = {\n",
    "                            'AA':sps.ttest_ind(reweight_test_df['AA'][0].dropna(),reweight_test_df['AA'][1].dropna()).pvalue,\n",
    "                            'AB':sps.ttest_ind(reweight_test_df['AB'][0].dropna(),reweight_test_df['AB'][1].dropna()).pvalue,\n",
    "                            }"
   ]
  },
  {
   "cell_type": "code",
   "execution_count": 62,
   "metadata": {},
   "outputs": [
    {
     "data": {
      "text/html": [
       "<div>\n",
       "<style scoped>\n",
       "    .dataframe tbody tr th:only-of-type {\n",
       "        vertical-align: middle;\n",
       "    }\n",
       "\n",
       "    .dataframe tbody tr th {\n",
       "        vertical-align: top;\n",
       "    }\n",
       "\n",
       "    .dataframe thead th {\n",
       "        text-align: right;\n",
       "    }\n",
       "</style>\n",
       "<table border=\"1\" class=\"dataframe\">\n",
       "  <thead>\n",
       "    <tr style=\"text-align: right;\">\n",
       "      <th></th>\n",
       "      <th>AA</th>\n",
       "      <th>AB</th>\n",
       "    </tr>\n",
       "  </thead>\n",
       "  <tbody>\n",
       "    <tr>\n",
       "      <th>hahahah</th>\n",
       "      <td>0.645530</td>\n",
       "      <td>0.180290</td>\n",
       "    </tr>\n",
       "    <tr>\n",
       "      <th>hahahah_log</th>\n",
       "      <td>0.702553</td>\n",
       "      <td>0.124682</td>\n",
       "    </tr>\n",
       "    <tr>\n",
       "      <th>base</th>\n",
       "      <td>0.624902</td>\n",
       "      <td>0.162786</td>\n",
       "    </tr>\n",
       "    <tr>\n",
       "      <th>base_log</th>\n",
       "      <td>0.679356</td>\n",
       "      <td>0.115914</td>\n",
       "    </tr>\n",
       "    <tr>\n",
       "      <th>linear</th>\n",
       "      <td>0.811256</td>\n",
       "      <td>0.012530</td>\n",
       "    </tr>\n",
       "    <tr>\n",
       "      <th>bayesian</th>\n",
       "      <td>0.690800</td>\n",
       "      <td>0.000000</td>\n",
       "    </tr>\n",
       "    <tr>\n",
       "      <th>reweight_ctr_coef</th>\n",
       "      <td>0.656736</td>\n",
       "      <td>0.003065</td>\n",
       "    </tr>\n",
       "  </tbody>\n",
       "</table>\n",
       "</div>"
      ],
      "text/plain": [
       "                         AA        AB\n",
       "hahahah            0.645530  0.180290\n",
       "hahahah_log        0.702553  0.124682\n",
       "base               0.624902  0.162786\n",
       "base_log           0.679356  0.115914\n",
       "linear             0.811256  0.012530\n",
       "bayesian           0.690800  0.000000\n",
       "reweight_ctr_coef  0.656736  0.003065"
      ]
     },
     "execution_count": 62,
     "metadata": {},
     "output_type": "execute_result"
    }
   ],
   "source": [
    "pd.DataFrame(test_of_tests).T"
   ]
  },
  {
   "cell_type": "code",
   "execution_count": 63,
   "metadata": {},
   "outputs": [],
   "source": [
    "effect_size['reweight_ctr_coef'] = reweight_test_df.mean().unstack().apply(lambda x: x[1] - x[0],axis=1).to_dict()"
   ]
  },
  {
   "cell_type": "code",
   "execution_count": 64,
   "metadata": {},
   "outputs": [],
   "source": [
    "reweight_test_df = reweight_test['click'].div(reweight_test['view']).mul(weight_coef).div(weight_coef.mean())"
   ]
  },
  {
   "cell_type": "code",
   "execution_count": 65,
   "metadata": {},
   "outputs": [],
   "source": [
    "test_of_tests['reweight_ctr'] = {\n",
    "                            'AA':sps.ttest_ind(reweight_test_df['AA'][0].dropna(),reweight_test_df['AA'][1].dropna()).pvalue,\n",
    "                            'AB':sps.ttest_ind(reweight_test_df['AB'][0].dropna(),reweight_test_df['AB'][1].dropna()).pvalue,\n",
    "                            }"
   ]
  },
  {
   "cell_type": "code",
   "execution_count": 66,
   "metadata": {},
   "outputs": [
    {
     "data": {
      "text/html": [
       "<div>\n",
       "<style scoped>\n",
       "    .dataframe tbody tr th:only-of-type {\n",
       "        vertical-align: middle;\n",
       "    }\n",
       "\n",
       "    .dataframe tbody tr th {\n",
       "        vertical-align: top;\n",
       "    }\n",
       "\n",
       "    .dataframe thead th {\n",
       "        text-align: right;\n",
       "    }\n",
       "</style>\n",
       "<table border=\"1\" class=\"dataframe\">\n",
       "  <thead>\n",
       "    <tr style=\"text-align: right;\">\n",
       "      <th></th>\n",
       "      <th>AA</th>\n",
       "      <th>AB</th>\n",
       "    </tr>\n",
       "  </thead>\n",
       "  <tbody>\n",
       "    <tr>\n",
       "      <th>hahahah</th>\n",
       "      <td>0.645530</td>\n",
       "      <td>0.180290</td>\n",
       "    </tr>\n",
       "    <tr>\n",
       "      <th>hahahah_log</th>\n",
       "      <td>0.702553</td>\n",
       "      <td>0.124682</td>\n",
       "    </tr>\n",
       "    <tr>\n",
       "      <th>base</th>\n",
       "      <td>0.624902</td>\n",
       "      <td>0.162786</td>\n",
       "    </tr>\n",
       "    <tr>\n",
       "      <th>base_log</th>\n",
       "      <td>0.679356</td>\n",
       "      <td>0.115914</td>\n",
       "    </tr>\n",
       "    <tr>\n",
       "      <th>linear</th>\n",
       "      <td>0.811256</td>\n",
       "      <td>0.012530</td>\n",
       "    </tr>\n",
       "    <tr>\n",
       "      <th>bayesian</th>\n",
       "      <td>0.690800</td>\n",
       "      <td>0.000000</td>\n",
       "    </tr>\n",
       "    <tr>\n",
       "      <th>reweight_ctr_coef</th>\n",
       "      <td>0.656736</td>\n",
       "      <td>0.003065</td>\n",
       "    </tr>\n",
       "    <tr>\n",
       "      <th>reweight_ctr</th>\n",
       "      <td>0.779160</td>\n",
       "      <td>0.045775</td>\n",
       "    </tr>\n",
       "  </tbody>\n",
       "</table>\n",
       "</div>"
      ],
      "text/plain": [
       "                         AA        AB\n",
       "hahahah            0.645530  0.180290\n",
       "hahahah_log        0.702553  0.124682\n",
       "base               0.624902  0.162786\n",
       "base_log           0.679356  0.115914\n",
       "linear             0.811256  0.012530\n",
       "bayesian           0.690800  0.000000\n",
       "reweight_ctr_coef  0.656736  0.003065\n",
       "reweight_ctr       0.779160  0.045775"
      ]
     },
     "execution_count": 66,
     "metadata": {},
     "output_type": "execute_result"
    }
   ],
   "source": [
    "pd.DataFrame(test_of_tests).T"
   ]
  },
  {
   "cell_type": "code",
   "execution_count": 67,
   "metadata": {},
   "outputs": [],
   "source": [
    "effect_size['reweight_ctr_log'] = reweight_test_df.mean().unstack().apply(lambda x: x[1] - x[0],axis=1).to_dict()"
   ]
  },
  {
   "cell_type": "markdown",
   "metadata": {},
   "source": [
    "# В любой непонятной ситуации (Bucketing)\n",
    "<img src='https://i.pinimg.com/736x/7a/97/bd/7a97bd9304643c2d27fb6ef2dbb0cf07.jpg'>"
   ]
  },
  {
   "cell_type": "code",
   "execution_count": 68,
   "metadata": {},
   "outputs": [],
   "source": [
    "bucket_test = base.groupby(['user','part','ab'])[['view','click']].sum().unstack([1,2])"
   ]
  },
  {
   "cell_type": "code",
   "execution_count": 69,
   "metadata": {},
   "outputs": [],
   "source": [
    "bucket_size = 100\n",
    "n_buckets = bucket_test['view'].count().min() // bucket_size"
   ]
  },
  {
   "cell_type": "code",
   "execution_count": 70,
   "metadata": {},
   "outputs": [
    {
     "name": "stderr",
     "output_type": "stream",
     "text": [
      "100%|██████████| 410/410 [00:01<00:00, 245.76it/s]\n",
      "100%|██████████| 410/410 [00:01<00:00, 267.80it/s]\n",
      "100%|██████████| 410/410 [00:01<00:00, 260.19it/s]\n",
      "100%|██████████| 410/410 [00:01<00:00, 232.52it/s]\n"
     ]
    }
   ],
   "source": [
    "bucket_df = {}\n",
    "part_ab = bucket_test.swaplevel(0,2,axis=1).droplevel(2,axis=1).columns.unique()\n",
    "for exp in part_ab:\n",
    "\n",
    "    tmp = []\n",
    "\n",
    "    for bucket in tqdm(range(n_buckets)):\n",
    "\n",
    "        meta_user = bucket_test.swaplevel(0,2,axis=1).loc[:,exp].iloc[bucket * bucket_size: (bucket+1) * bucket_size].sum()\n",
    "        \n",
    "        ctr_meta_user = meta_user['click'] / meta_user['view']\n",
    "        tmp.append(ctr_meta_user)\n",
    "\n",
    "    bucket_df.update({exp:tmp})\n",
    "bucket_df = pd.DataFrame(bucket_df)"
   ]
  },
  {
   "cell_type": "code",
   "execution_count": 71,
   "metadata": {},
   "outputs": [
    {
     "data": {
      "text/plain": [
       "array([[<AxesSubplot:title={'center':\"(1.0, 'AB')\"}>,\n",
       "        <AxesSubplot:title={'center':\"(1.0, 'AA')\"}>],\n",
       "       [<AxesSubplot:title={'center':\"(0.0, 'AB')\"}>,\n",
       "        <AxesSubplot:title={'center':\"(0.0, 'AA')\"}>]], dtype=object)"
      ]
     },
     "execution_count": 71,
     "metadata": {},
     "output_type": "execute_result"
    },
    {
     "data": {
      "image/png": "[encoded data removed]",
      "text/plain": [
       "<Figure size 1080x432 with 4 Axes>"
      ]
     },
     "metadata": {},
     "output_type": "display_data"
    }
   ],
   "source": [
    "bucket_df.hist(bins=100)"
   ]
  },
  {
   "cell_type": "code",
   "execution_count": 72,
   "metadata": {},
   "outputs": [],
   "source": [
    "test_of_tests['bucketing'] = {\n",
    "                                'AA':sps.ttest_ind(pd.DataFrame(bucket_df).loc[:,(1,'AA')].dropna(),pd.DataFrame(bucket_df).loc[:,(0,'AA')].dropna()).pvalue,\n",
    "                                'AB':sps.ttest_ind(pd.DataFrame(bucket_df).loc[:,(1,'AB')].dropna(),pd.DataFrame(bucket_df).loc[:,(0,'AB')].dropna()).pvalue,\n",
    "                                }"
   ]
  },
  {
   "cell_type": "code",
   "execution_count": 73,
   "metadata": {},
   "outputs": [
    {
     "data": {
      "text/html": [
       "<div>\n",
       "<style scoped>\n",
       "    .dataframe tbody tr th:only-of-type {\n",
       "        vertical-align: middle;\n",
       "    }\n",
       "\n",
       "    .dataframe tbody tr th {\n",
       "        vertical-align: top;\n",
       "    }\n",
       "\n",
       "    .dataframe thead th {\n",
       "        text-align: right;\n",
       "    }\n",
       "</style>\n",
       "<table border=\"1\" class=\"dataframe\">\n",
       "  <thead>\n",
       "    <tr style=\"text-align: right;\">\n",
       "      <th></th>\n",
       "      <th>AA</th>\n",
       "      <th>AB</th>\n",
       "    </tr>\n",
       "  </thead>\n",
       "  <tbody>\n",
       "    <tr>\n",
       "      <th>hahahah</th>\n",
       "      <td>0.645530</td>\n",
       "      <td>0.180290</td>\n",
       "    </tr>\n",
       "    <tr>\n",
       "      <th>hahahah_log</th>\n",
       "      <td>0.702553</td>\n",
       "      <td>0.124682</td>\n",
       "    </tr>\n",
       "    <tr>\n",
       "      <th>base</th>\n",
       "      <td>0.624902</td>\n",
       "      <td>0.162786</td>\n",
       "    </tr>\n",
       "    <tr>\n",
       "      <th>base_log</th>\n",
       "      <td>0.679356</td>\n",
       "      <td>0.115914</td>\n",
       "    </tr>\n",
       "    <tr>\n",
       "      <th>linear</th>\n",
       "      <td>0.811256</td>\n",
       "      <td>0.012530</td>\n",
       "    </tr>\n",
       "    <tr>\n",
       "      <th>bayesian</th>\n",
       "      <td>0.690800</td>\n",
       "      <td>0.000000</td>\n",
       "    </tr>\n",
       "    <tr>\n",
       "      <th>reweight_ctr_coef</th>\n",
       "      <td>0.656736</td>\n",
       "      <td>0.003065</td>\n",
       "    </tr>\n",
       "    <tr>\n",
       "      <th>reweight_ctr</th>\n",
       "      <td>0.779160</td>\n",
       "      <td>0.045775</td>\n",
       "    </tr>\n",
       "    <tr>\n",
       "      <th>bucketing</th>\n",
       "      <td>0.140327</td>\n",
       "      <td>0.032743</td>\n",
       "    </tr>\n",
       "  </tbody>\n",
       "</table>\n",
       "</div>"
      ],
      "text/plain": [
       "                         AA        AB\n",
       "hahahah            0.645530  0.180290\n",
       "hahahah_log        0.702553  0.124682\n",
       "base               0.624902  0.162786\n",
       "base_log           0.679356  0.115914\n",
       "linear             0.811256  0.012530\n",
       "bayesian           0.690800  0.000000\n",
       "reweight_ctr_coef  0.656736  0.003065\n",
       "reweight_ctr       0.779160  0.045775\n",
       "bucketing          0.140327  0.032743"
      ]
     },
     "execution_count": 73,
     "metadata": {},
     "output_type": "execute_result"
    }
   ],
   "source": [
    "pd.DataFrame(test_of_tests).T"
   ]
  },
  {
   "cell_type": "code",
   "execution_count": 74,
   "metadata": {},
   "outputs": [],
   "source": [
    "effect_size['bucketing'] = bucket_df.mean().unstack().apply(lambda x: x[1] - x[0]).to_dict()"
   ]
  },
  {
   "cell_type": "markdown",
   "metadata": {},
   "source": [
    "# В любой непонятной ситуации v2 ~~может не влезть по памяти~~ (Bootstrap)\n",
    "<img src='data:image/jpeg;base64,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'>"
   ]
  },
  {
   "cell_type": "code",
   "execution_count": 75,
   "metadata": {},
   "outputs": [],
   "source": [
    "bootstrap_test = base.groupby(['user','part','ab'])[['view','click']].sum().unstack([1,2])"
   ]
  },
  {
   "cell_type": "code",
   "execution_count": 76,
   "metadata": {},
   "outputs": [],
   "source": [
    "bootstrap_test_ctr = bootstrap_test['click'] / bootstrap_test['view']"
   ]
  },
  {
   "cell_type": "code",
   "execution_count": 77,
   "metadata": {},
   "outputs": [
    {
     "name": "stderr",
     "output_type": "stream",
     "text": [
      "100%|██████████| 1000/1000 [00:36<00:00, 27.35it/s]\n"
     ]
    }
   ],
   "source": [
    "\n",
    "min_size = bootstrap_test_ctr.count().min()\n",
    "rr = np.random.default_rng(11)\n",
    "bts_aa = []\n",
    "bts_ab = []\n",
    "for _ in tqdm(range(1000)):\n",
    "\n",
    "    aa_c = rr.choice(bootstrap_test['click']['AA'][0].dropna().values,size=min_size,replace=True).sum() / rr.choice(bootstrap_test['view']['AA'][0].dropna().values,size=min_size,replace=True).sum()\n",
    "    aa_t = rr.choice(bootstrap_test['click']['AA'][1].dropna().values,size=min_size,replace=True).sum() / rr.choice(bootstrap_test['view']['AA'][1].dropna().values,size=min_size,replace=True).sum()\n",
    "    bts_aa.append(aa_t - aa_c)\n",
    "\n",
    "    ab_c = rr.choice(bootstrap_test['click']['AB'][0].dropna().values,size=min_size,replace=True).sum() / rr.choice(bootstrap_test['view']['AB'][0].dropna().values,size=min_size,replace=True).sum()\n",
    "    ab_t = rr.choice(bootstrap_test['click']['AB'][1].dropna().values,size=min_size,replace=True).sum() / rr.choice(bootstrap_test['view']['AB'][1].dropna().values,size=min_size,replace=True).sum()\n",
    "    bts_ab.append(ab_t - ab_c)\n",
    "bts_aa = np.array(bts_aa)\n",
    "bts_ab = np.array(bts_ab)"
   ]
  },
  {
   "cell_type": "code",
   "execution_count": 78,
   "metadata": {},
   "outputs": [],
   "source": [
    "test_of_tests['bootstrap'] = {\n",
    "                                'AA':min((bts_aa <0).sum(),len(bts_aa) - (bts_aa <0).sum()) / len(bts_aa),\n",
    "                                'AB':min((bts_ab <0).sum(),len(bts_ab) - (bts_ab <0).sum()) / len(bts_ab),\n",
    "                                }"
   ]
  },
  {
   "cell_type": "code",
   "execution_count": 79,
   "metadata": {},
   "outputs": [
    {
     "data": {
      "text/html": [
       "<div>\n",
       "<style scoped>\n",
       "    .dataframe tbody tr th:only-of-type {\n",
       "        vertical-align: middle;\n",
       "    }\n",
       "\n",
       "    .dataframe tbody tr th {\n",
       "        vertical-align: top;\n",
       "    }\n",
       "\n",
       "    .dataframe thead th {\n",
       "        text-align: right;\n",
       "    }\n",
       "</style>\n",
       "<table border=\"1\" class=\"dataframe\">\n",
       "  <thead>\n",
       "    <tr style=\"text-align: right;\">\n",
       "      <th></th>\n",
       "      <th>AA</th>\n",
       "      <th>AB</th>\n",
       "    </tr>\n",
       "  </thead>\n",
       "  <tbody>\n",
       "    <tr>\n",
       "      <th>hahahah</th>\n",
       "      <td>0.645530</td>\n",
       "      <td>0.180290</td>\n",
       "    </tr>\n",
       "    <tr>\n",
       "      <th>hahahah_log</th>\n",
       "      <td>0.702553</td>\n",
       "      <td>0.124682</td>\n",
       "    </tr>\n",
       "    <tr>\n",
       "      <th>base</th>\n",
       "      <td>0.624902</td>\n",
       "      <td>0.162786</td>\n",
       "    </tr>\n",
       "    <tr>\n",
       "      <th>base_log</th>\n",
       "      <td>0.679356</td>\n",
       "      <td>0.115914</td>\n",
       "    </tr>\n",
       "    <tr>\n",
       "      <th>linear</th>\n",
       "      <td>0.811256</td>\n",
       "      <td>0.012530</td>\n",
       "    </tr>\n",
       "    <tr>\n",
       "      <th>bayesian</th>\n",
       "      <td>0.690800</td>\n",
       "      <td>0.000000</td>\n",
       "    </tr>\n",
       "    <tr>\n",
       "      <th>reweight_ctr_coef</th>\n",
       "      <td>0.656736</td>\n",
       "      <td>0.003065</td>\n",
       "    </tr>\n",
       "    <tr>\n",
       "      <th>reweight_ctr</th>\n",
       "      <td>0.779160</td>\n",
       "      <td>0.045775</td>\n",
       "    </tr>\n",
       "    <tr>\n",
       "      <th>bucketing</th>\n",
       "      <td>0.140327</td>\n",
       "      <td>0.032743</td>\n",
       "    </tr>\n",
       "    <tr>\n",
       "      <th>bootstrap</th>\n",
       "      <td>0.409000</td>\n",
       "      <td>0.010000</td>\n",
       "    </tr>\n",
       "  </tbody>\n",
       "</table>\n",
       "</div>"
      ],
      "text/plain": [
       "                         AA        AB\n",
       "hahahah            0.645530  0.180290\n",
       "hahahah_log        0.702553  0.124682\n",
       "base               0.624902  0.162786\n",
       "base_log           0.679356  0.115914\n",
       "linear             0.811256  0.012530\n",
       "bayesian           0.690800  0.000000\n",
       "reweight_ctr_coef  0.656736  0.003065\n",
       "reweight_ctr       0.779160  0.045775\n",
       "bucketing          0.140327  0.032743\n",
       "bootstrap          0.409000  0.010000"
      ]
     },
     "execution_count": 79,
     "metadata": {},
     "output_type": "execute_result"
    }
   ],
   "source": [
    "pd.DataFrame(test_of_tests).T"
   ]
  },
  {
   "cell_type": "code",
   "execution_count": 80,
   "metadata": {},
   "outputs": [],
   "source": [
    "effect_size['bootstrap'] = {'AA':bts_aa.mean(),\n",
    "                            'AB':bts_ab.mean()}"
   ]
  },
  {
   "cell_type": "markdown",
   "metadata": {},
   "source": [
    "# Combo Breaker\n",
    "<img src = 'https://y.yarn.co/2c879f9a-f5b7-4eb8-8791-6328d8a2c877_screenshot.jpg'>"
   ]
  },
  {
   "cell_type": "code",
   "execution_count": 81,
   "metadata": {},
   "outputs": [],
   "source": [
    "combo_test = base.groupby(['user','part','ab'])[['view','click']].sum().unstack([1,2])"
   ]
  },
  {
   "cell_type": "code",
   "execution_count": 82,
   "metadata": {},
   "outputs": [],
   "source": [
    "AA_combo_df = generate_tests(*combo_test.swaplevel(0,2,axis=1)[0]['AA'].dropna().T.values,\n",
    "                            *combo_test.swaplevel(0,2,axis=1)[1]['AA'].dropna().T.values)"
   ]
  },
  {
   "cell_type": "code",
   "execution_count": 83,
   "metadata": {},
   "outputs": [],
   "source": [
    "AB_combo_df = generate_tests(*combo_test.swaplevel(0,2,axis=1)[0]['AB'].dropna().T.values,\n",
    "                            *combo_test.swaplevel(0,2,axis=1)[1]['AB'].dropna().T.values)"
   ]
  },
  {
   "cell_type": "code",
   "execution_count": 84,
   "metadata": {},
   "outputs": [
    {
     "data": {
      "text/html": [
       "<div>\n",
       "<style scoped>\n",
       "    .dataframe tbody tr th:only-of-type {\n",
       "        vertical-align: middle;\n",
       "    }\n",
       "\n",
       "    .dataframe tbody tr th {\n",
       "        vertical-align: top;\n",
       "    }\n",
       "\n",
       "    .dataframe thead th {\n",
       "        text-align: right;\n",
       "    }\n",
       "</style>\n",
       "<table border=\"1\" class=\"dataframe\">\n",
       "  <thead>\n",
       "    <tr style=\"text-align: right;\">\n",
       "      <th></th>\n",
       "      <th>ttest</th>\n",
       "      <th>mwtest</th>\n",
       "      <th>uplift</th>\n",
       "      <th>relative_uplift</th>\n",
       "      <th>ci_left</th>\n",
       "      <th>ci_right</th>\n",
       "      <th>ci_lenght</th>\n",
       "      <th>ci_left_lenght</th>\n",
       "    </tr>\n",
       "  </thead>\n",
       "  <tbody>\n",
       "    <tr>\n",
       "      <th>Combo</th>\n",
       "      <td>0.000058</td>\n",
       "      <td>NaN</td>\n",
       "      <td>0.003679</td>\n",
       "      <td>0.049733</td>\n",
       "      <td>0.001878</td>\n",
       "      <td>0.005453</td>\n",
       "      <td>0.003575</td>\n",
       "      <td>0.000201</td>\n",
       "    </tr>\n",
       "    <tr>\n",
       "      <th>bayesian</th>\n",
       "      <td>0.000060</td>\n",
       "      <td>NaN</td>\n",
       "      <td>0.003679</td>\n",
       "      <td>0.049733</td>\n",
       "      <td>0.001884</td>\n",
       "      <td>0.005481</td>\n",
       "      <td>0.003597</td>\n",
       "      <td>NaN</td>\n",
       "    </tr>\n",
       "    <tr>\n",
       "      <th>base</th>\n",
       "      <td>0.169505</td>\n",
       "      <td>0.052352</td>\n",
       "      <td>0.002079</td>\n",
       "      <td>0.026160</td>\n",
       "      <td>-0.000887</td>\n",
       "      <td>0.005044</td>\n",
       "      <td>0.005931</td>\n",
       "      <td>NaN</td>\n",
       "    </tr>\n",
       "    <tr>\n",
       "      <th>ML</th>\n",
       "      <td>0.169510</td>\n",
       "      <td>NaN</td>\n",
       "      <td>0.002079</td>\n",
       "      <td>0.026160</td>\n",
       "      <td>-0.000887</td>\n",
       "      <td>0.005045</td>\n",
       "      <td>0.005932</td>\n",
       "      <td>NaN</td>\n",
       "    </tr>\n",
       "    <tr>\n",
       "      <th>reweight</th>\n",
       "      <td>0.044465</td>\n",
       "      <td>0.048607</td>\n",
       "      <td>0.003098</td>\n",
       "      <td>0.037673</td>\n",
       "      <td>0.000077</td>\n",
       "      <td>0.006120</td>\n",
       "      <td>0.006043</td>\n",
       "      <td>NaN</td>\n",
       "    </tr>\n",
       "    <tr>\n",
       "      <th>bootstrap</th>\n",
       "      <td>0.018000</td>\n",
       "      <td>NaN</td>\n",
       "      <td>0.004101</td>\n",
       "      <td>0.051268</td>\n",
       "      <td>0.000747</td>\n",
       "      <td>0.007457</td>\n",
       "      <td>0.006710</td>\n",
       "      <td>NaN</td>\n",
       "    </tr>\n",
       "    <tr>\n",
       "      <th>bucketing</th>\n",
       "      <td>0.014046</td>\n",
       "      <td>0.010675</td>\n",
       "      <td>0.004261</td>\n",
       "      <td>0.053132</td>\n",
       "      <td>0.000861</td>\n",
       "      <td>0.007661</td>\n",
       "      <td>0.006801</td>\n",
       "      <td>NaN</td>\n",
       "    </tr>\n",
       "    <tr>\n",
       "      <th>linearization</th>\n",
       "      <td>0.012534</td>\n",
       "      <td>0.150574</td>\n",
       "      <td>0.015909</td>\n",
       "      <td>NaN</td>\n",
       "      <td>0.003420</td>\n",
       "      <td>0.028398</td>\n",
       "      <td>0.024978</td>\n",
       "      <td>NaN</td>\n",
       "    </tr>\n",
       "  </tbody>\n",
       "</table>\n",
       "</div>"
      ],
      "text/plain": [
       "                  ttest    mwtest    uplift  relative_uplift   ci_left  \\\n",
       "Combo          0.000058       NaN  0.003679         0.049733  0.001878   \n",
       "bayesian       0.000060       NaN  0.003679         0.049733  0.001884   \n",
       "base           0.169505  0.052352  0.002079         0.026160 -0.000887   \n",
       "ML             0.169510       NaN  0.002079         0.026160 -0.000887   \n",
       "reweight       0.044465  0.048607  0.003098         0.037673  0.000077   \n",
       "bootstrap      0.018000       NaN  0.004101         0.051268  0.000747   \n",
       "bucketing      0.014046  0.010675  0.004261         0.053132  0.000861   \n",
       "linearization  0.012534  0.150574  0.015909              NaN  0.003420   \n",
       "\n",
       "               ci_right  ci_lenght  ci_left_lenght  \n",
       "Combo          0.005453   0.003575        0.000201  \n",
       "bayesian       0.005481   0.003597             NaN  \n",
       "base           0.005044   0.005931             NaN  \n",
       "ML             0.005045   0.005932             NaN  \n",
       "reweight       0.006120   0.006043             NaN  \n",
       "bootstrap      0.007457   0.006710             NaN  \n",
       "bucketing      0.007661   0.006801             NaN  \n",
       "linearization  0.028398   0.024978             NaN  "
      ]
     },
     "execution_count": 84,
     "metadata": {},
     "output_type": "execute_result"
    }
   ],
   "source": [
    "AB_combo_df.T.sort_values(by='ci_lenght')"
   ]
  },
  {
   "cell_type": "code",
   "execution_count": 85,
   "metadata": {},
   "outputs": [
    {
     "data": {
      "text/html": [
       "<div>\n",
       "<style scoped>\n",
       "    .dataframe tbody tr th:only-of-type {\n",
       "        vertical-align: middle;\n",
       "    }\n",
       "\n",
       "    .dataframe tbody tr th {\n",
       "        vertical-align: top;\n",
       "    }\n",
       "\n",
       "    .dataframe thead th {\n",
       "        text-align: right;\n",
       "    }\n",
       "</style>\n",
       "<table border=\"1\" class=\"dataframe\">\n",
       "  <thead>\n",
       "    <tr style=\"text-align: right;\">\n",
       "      <th></th>\n",
       "      <th>ttest</th>\n",
       "      <th>mwtest</th>\n",
       "      <th>uplift</th>\n",
       "      <th>relative_uplift</th>\n",
       "      <th>ci_left</th>\n",
       "      <th>ci_right</th>\n",
       "      <th>ci_lenght</th>\n",
       "      <th>ci_left_lenght</th>\n",
       "      <th>left_lenght</th>\n",
       "    </tr>\n",
       "  </thead>\n",
       "  <tbody>\n",
       "    <tr>\n",
       "      <th>base</th>\n",
       "      <td>0.169505</td>\n",
       "      <td>0.052352</td>\n",
       "      <td>0.002079</td>\n",
       "      <td>0.026160</td>\n",
       "      <td>-0.000887</td>\n",
       "      <td>0.005044</td>\n",
       "      <td>0.005931</td>\n",
       "      <td>NaN</td>\n",
       "      <td>0.003541</td>\n",
       "    </tr>\n",
       "    <tr>\n",
       "      <th>reweight</th>\n",
       "      <td>0.044465</td>\n",
       "      <td>0.048607</td>\n",
       "      <td>0.003098</td>\n",
       "      <td>0.037673</td>\n",
       "      <td>0.000077</td>\n",
       "      <td>0.006120</td>\n",
       "      <td>0.006043</td>\n",
       "      <td>NaN</td>\n",
       "      <td>0.002577</td>\n",
       "    </tr>\n",
       "    <tr>\n",
       "      <th>linearization</th>\n",
       "      <td>0.012534</td>\n",
       "      <td>0.150574</td>\n",
       "      <td>0.015909</td>\n",
       "      <td>NaN</td>\n",
       "      <td>0.003420</td>\n",
       "      <td>0.028398</td>\n",
       "      <td>0.024978</td>\n",
       "      <td>NaN</td>\n",
       "      <td>-0.000766</td>\n",
       "    </tr>\n",
       "    <tr>\n",
       "      <th>bucketing</th>\n",
       "      <td>0.014046</td>\n",
       "      <td>0.010675</td>\n",
       "      <td>0.004261</td>\n",
       "      <td>0.053132</td>\n",
       "      <td>0.000861</td>\n",
       "      <td>0.007661</td>\n",
       "      <td>0.006801</td>\n",
       "      <td>NaN</td>\n",
       "      <td>0.001793</td>\n",
       "    </tr>\n",
       "    <tr>\n",
       "      <th>bootstrap</th>\n",
       "      <td>0.018000</td>\n",
       "      <td>NaN</td>\n",
       "      <td>0.004101</td>\n",
       "      <td>0.051268</td>\n",
       "      <td>0.000747</td>\n",
       "      <td>0.007457</td>\n",
       "      <td>0.006710</td>\n",
       "      <td>NaN</td>\n",
       "      <td>0.001907</td>\n",
       "    </tr>\n",
       "    <tr>\n",
       "      <th>bayesian</th>\n",
       "      <td>0.000060</td>\n",
       "      <td>NaN</td>\n",
       "      <td>0.003679</td>\n",
       "      <td>0.049733</td>\n",
       "      <td>0.001884</td>\n",
       "      <td>0.005481</td>\n",
       "      <td>0.003597</td>\n",
       "      <td>NaN</td>\n",
       "      <td>0.000770</td>\n",
       "    </tr>\n",
       "    <tr>\n",
       "      <th>ML</th>\n",
       "      <td>0.169510</td>\n",
       "      <td>NaN</td>\n",
       "      <td>0.002079</td>\n",
       "      <td>0.026160</td>\n",
       "      <td>-0.000887</td>\n",
       "      <td>0.005045</td>\n",
       "      <td>0.005932</td>\n",
       "      <td>NaN</td>\n",
       "      <td>0.003541</td>\n",
       "    </tr>\n",
       "    <tr>\n",
       "      <th>Combo</th>\n",
       "      <td>0.000058</td>\n",
       "      <td>NaN</td>\n",
       "      <td>0.003679</td>\n",
       "      <td>0.049733</td>\n",
       "      <td>0.001878</td>\n",
       "      <td>0.005453</td>\n",
       "      <td>0.003575</td>\n",
       "      <td>0.000201</td>\n",
       "      <td>0.000776</td>\n",
       "    </tr>\n",
       "  </tbody>\n",
       "</table>\n",
       "</div>"
      ],
      "text/plain": [
       "                  ttest    mwtest    uplift  relative_uplift   ci_left  \\\n",
       "base           0.169505  0.052352  0.002079         0.026160 -0.000887   \n",
       "reweight       0.044465  0.048607  0.003098         0.037673  0.000077   \n",
       "linearization  0.012534  0.150574  0.015909              NaN  0.003420   \n",
       "bucketing      0.014046  0.010675  0.004261         0.053132  0.000861   \n",
       "bootstrap      0.018000       NaN  0.004101         0.051268  0.000747   \n",
       "bayesian       0.000060       NaN  0.003679         0.049733  0.001884   \n",
       "ML             0.169510       NaN  0.002079         0.026160 -0.000887   \n",
       "Combo          0.000058       NaN  0.003679         0.049733  0.001878   \n",
       "\n",
       "               ci_right  ci_lenght  ci_left_lenght  left_lenght  \n",
       "base           0.005044   0.005931             NaN     0.003541  \n",
       "reweight       0.006120   0.006043             NaN     0.002577  \n",
       "linearization  0.028398   0.024978             NaN    -0.000766  \n",
       "bucketing      0.007661   0.006801             NaN     0.001793  \n",
       "bootstrap      0.007457   0.006710             NaN     0.001907  \n",
       "bayesian       0.005481   0.003597             NaN     0.000770  \n",
       "ML             0.005045   0.005932             NaN     0.003541  \n",
       "Combo          0.005453   0.003575        0.000201     0.000776  "
      ]
     },
     "execution_count": 85,
     "metadata": {},
     "output_type": "execute_result"
    }
   ],
   "source": [
    "AB_combo_df.T.assign(left_lenght = 0.002654 - AB_combo_df.T['ci_left'])"
   ]
  },
  {
   "cell_type": "markdown",
   "metadata": {},
   "source": [
    "# ML\n",
    "<img src = 'https://miro.medium.com/max/500/1*qHbAsMNmdWQJkzm2SUA-8w.jpeg'>"
   ]
  },
  {
   "cell_type": "code",
   "execution_count": 86,
   "metadata": {},
   "outputs": [],
   "source": [
    "simple_ml_test = base.groupby(['user','part','ab'])[['view','click']].sum().unstack([1,2])"
   ]
  },
  {
   "cell_type": "code",
   "execution_count": 87,
   "metadata": {},
   "outputs": [],
   "source": [
    "simple_ml_test_ctr = simple_ml_test['click'] / simple_ml_test['view']"
   ]
  },
  {
   "cell_type": "code",
   "execution_count": 88,
   "metadata": {},
   "outputs": [],
   "source": [
    "ml_df = pd.concat([simple_ml_test_ctr.swaplevel(0,1,axis=1)[0].dropna(subset=['AB']),simple_ml_test_ctr.swaplevel(0,1,axis=1)[1].dropna(subset=['AB'])])"
   ]
  },
  {
   "cell_type": "code",
   "execution_count": 89,
   "metadata": {},
   "outputs": [],
   "source": [
    "import statsmodels.api as sm"
   ]
  },
  {
   "cell_type": "code",
   "execution_count": 90,
   "metadata": {},
   "outputs": [],
   "source": [
    "mldf = pd.get_dummies(sql_data.set_index(['user','part']).drop(['click','view'],axis=1)).join(ml_df.stack().rename('target')).swaplevel(0,1).fillna(0)"
   ]
  },
  {
   "cell_type": "code",
   "execution_count": 91,
   "metadata": {},
   "outputs": [],
   "source": [
    "mldf_cup = mldf.join(mldf.loc['AA']['target'].rename('preexp_target')).fillna(0)"
   ]
  },
  {
   "cell_type": "code",
   "execution_count": 92,
   "metadata": {},
   "outputs": [],
   "source": [
    "cuped_df = mldf.loc['AB'].join(mldf.loc['AA']['target'].rename('preexp_target')).loc[:,['ab','target','preexp_target']].dropna()"
   ]
  },
  {
   "cell_type": "code",
   "execution_count": 93,
   "metadata": {},
   "outputs": [],
   "source": [
    "class ABML(BaseABMethod):\n",
    "\n",
    "    def prepare_data(self,cov_dict=None):\n",
    "        self.calc_metric()\n",
    "        if cov_dict is None:\n",
    "            cov_dict = {'control':np.array([]),\n",
    "                        'threatment':np.array([])}\n",
    "                        \n",
    "        control_data = np.vstack([  \n",
    "                                    np.zeros(self.control_views.shape[0]),\n",
    "                                    *cov_dict['control'].T,\n",
    "                                    np.ones(self.control_views.shape[0]),\n",
    "                                    self.control_ctr])\n",
    "        \n",
    "        threatment_data = np.vstack([\n",
    "                                    np.ones(self.threatment_views.shape[0]),\n",
    "                                    *cov_dict['threatment'].T,\n",
    "                                    np.ones(self.threatment_views.shape[0]),\n",
    "                                    self.threatment_ctr])\n",
    "\n",
    "        data = np.hstack([control_data,threatment_data]).T\n",
    "        \n",
    "        target = data[:,-1]\n",
    "        data = data[:,:-1]\n",
    "\n",
    "        return data,target\n",
    "\n",
    "\n",
    "    def ci_check(self,raw=False,**kwargs):\n",
    "        data,target = self.prepare_data(**kwargs)\n",
    "        model = sm.OLS(target,data).fit()\n",
    "\n",
    "        if raw:\n",
    "            return model.summary()\n",
    "\n",
    "        return {'ttest': model.pvalues[0],\n",
    "                'mwtest': None,\n",
    "                'uplift': model.params[0],\n",
    "                'relative_uplift':model.params[0] / self.control_ctr.mean(),\n",
    "                'ci_left': model.conf_int()[0][0],\n",
    "                'ci_right': model.conf_int()[0][1],\n",
    "                'ci_lenght': model.conf_int()[0][1] - model.conf_int()[0][0],\n",
    "                }\n",
    "                    \n",
    "    "
   ]
  },
  {
   "cell_type": "code",
   "execution_count": 94,
   "metadata": {},
   "outputs": [],
   "source": [
    "cuped_ml = sm.OLS(cuped_df['target'],cuped_df.drop(['target'],axis=1).assign(const=1)).fit()\n",
    "base_ml = sm.OLS(cuped_df['target'],cuped_df.drop(['target','preexp_target'],axis=1).assign(const=1)).fit()"
   ]
  },
  {
   "cell_type": "code",
   "execution_count": 95,
   "metadata": {},
   "outputs": [
    {
     "data": {
      "text/plain": [
       "0.008905341102792029"
      ]
     },
     "execution_count": 95,
     "metadata": {},
     "output_type": "execute_result"
    }
   ],
   "source": [
    "# conf interval\n",
    "BaseABMethod(None,cuped_df.pivot(columns='ab',values='target')[0].dropna(),None,cuped_df.pivot(columns='ab',values='target')[1].dropna()).ci_check()['ci_lenght']"
   ]
  },
  {
   "cell_type": "code",
   "execution_count": 96,
   "metadata": {},
   "outputs": [
    {
     "data": {
      "text/plain": [
       "0.00890537732753453"
      ]
     },
     "execution_count": 96,
     "metadata": {},
     "output_type": "execute_result"
    }
   ],
   "source": [
    "# conf interval\n",
    "# По сути линейная регрессия == обычному тесту стьюдента\n",
    "base_ml.conf_int().apply(lambda x: x[1] - x[0],axis=1)['ab']"
   ]
  },
  {
   "cell_type": "code",
   "execution_count": 97,
   "metadata": {},
   "outputs": [
    {
     "data": {
      "text/plain": [
       "0.007725635091586207"
      ]
     },
     "execution_count": 97,
     "metadata": {},
     "output_type": "execute_result"
    }
   ],
   "source": [
    "# conf interval cuped\n",
    "# еее , снизили на 15%\n",
    "cuped_ml.conf_int().apply(lambda x: x[1] - x[0],axis=1)['ab']"
   ]
  },
  {
   "cell_type": "code",
   "execution_count": 98,
   "metadata": {},
   "outputs": [],
   "source": [
    "aac_index = simple_ml_test.swaplevel(0,2,axis=1)[0]['AA'].dropna().index\n",
    "aat_index = simple_ml_test.swaplevel(0,2,axis=1)[1]['AA'].dropna().index\n",
    "aa_cov_dict = {'control':mldf_cup.loc['AA'].loc[aac_index].query('ab==0').drop(['ab','target'],axis=1).values,\n",
    "            'threatment':mldf_cup.loc['AA'].loc[aat_index].query('ab==1').drop(['ab','target'],axis=1).values}"
   ]
  },
  {
   "cell_type": "code",
   "execution_count": 99,
   "metadata": {},
   "outputs": [],
   "source": [
    "ml_aa = ABML(*simple_ml_test.swaplevel(0,2,axis=1)[0]['AA'].dropna().T.values,\n",
    "                *simple_ml_test.swaplevel(0,2,axis=1)[1]['AA'].dropna().T.values,\n",
    "                ).ci_check(cov_dict=aa_cov_dict)"
   ]
  },
  {
   "cell_type": "code",
   "execution_count": null,
   "metadata": {},
   "outputs": [],
   "source": []
  },
  {
   "cell_type": "code",
   "execution_count": 100,
   "metadata": {},
   "outputs": [],
   "source": [
    "abc_index = simple_ml_test.swaplevel(0,2,axis=1)[0]['AB'].dropna().index\n",
    "abt_index = simple_ml_test.swaplevel(0,2,axis=1)[1]['AB'].dropna().index\n",
    "ab_cov_dict = {'control':mldf.loc['AB'].loc[abc_index].query('ab==0').drop(['ab','target'],axis=1).values,\n",
    "            'threatment':mldf.loc['AB'].loc[abt_index].query('ab==1').drop(['ab','target'],axis=1).values}"
   ]
  },
  {
   "cell_type": "code",
   "execution_count": 101,
   "metadata": {},
   "outputs": [],
   "source": [
    "ml_ab_raw = ABML(*simple_ml_test.swaplevel(0,2,axis=1)[0]['AB'].dropna().T.values,\n",
    "                *simple_ml_test.swaplevel(0,2,axis=1)[1]['AB'].dropna().T.values).ci_check()\n",
    "\n",
    "ml_ab = ABML(*simple_ml_test.swaplevel(0,2,axis=1)[0]['AB'].dropna().T.values,\n",
    "                *simple_ml_test.swaplevel(0,2,axis=1)[1]['AB'].dropna().T.values).ci_check(cov_dict=ab_cov_dict)"
   ]
  },
  {
   "cell_type": "code",
   "execution_count": 102,
   "metadata": {},
   "outputs": [
    {
     "data": {
      "text/html": [
       "<div>\n",
       "<style scoped>\n",
       "    .dataframe tbody tr th:only-of-type {\n",
       "        vertical-align: middle;\n",
       "    }\n",
       "\n",
       "    .dataframe tbody tr th {\n",
       "        vertical-align: top;\n",
       "    }\n",
       "\n",
       "    .dataframe thead th {\n",
       "        text-align: right;\n",
       "    }\n",
       "</style>\n",
       "<table border=\"1\" class=\"dataframe\">\n",
       "  <thead>\n",
       "    <tr style=\"text-align: right;\">\n",
       "      <th></th>\n",
       "      <th>raw</th>\n",
       "      <th>with_cov</th>\n",
       "    </tr>\n",
       "  </thead>\n",
       "  <tbody>\n",
       "    <tr>\n",
       "      <th>ttest</th>\n",
       "      <td>0.169510</td>\n",
       "      <td>0.730741</td>\n",
       "    </tr>\n",
       "    <tr>\n",
       "      <th>mwtest</th>\n",
       "      <td>NaN</td>\n",
       "      <td>NaN</td>\n",
       "    </tr>\n",
       "    <tr>\n",
       "      <th>uplift</th>\n",
       "      <td>0.002079</td>\n",
       "      <td>0.000484</td>\n",
       "    </tr>\n",
       "    <tr>\n",
       "      <th>relative_uplift</th>\n",
       "      <td>0.026160</td>\n",
       "      <td>0.006088</td>\n",
       "    </tr>\n",
       "    <tr>\n",
       "      <th>ci_left</th>\n",
       "      <td>-0.000887</td>\n",
       "      <td>-0.002271</td>\n",
       "    </tr>\n",
       "    <tr>\n",
       "      <th>ci_right</th>\n",
       "      <td>0.005045</td>\n",
       "      <td>0.003239</td>\n",
       "    </tr>\n",
       "    <tr>\n",
       "      <th>ci_lenght</th>\n",
       "      <td>0.005932</td>\n",
       "      <td>0.005510</td>\n",
       "    </tr>\n",
       "  </tbody>\n",
       "</table>\n",
       "</div>"
      ],
      "text/plain": [
       "                      raw  with_cov\n",
       "ttest            0.169510  0.730741\n",
       "mwtest                NaN       NaN\n",
       "uplift           0.002079  0.000484\n",
       "relative_uplift  0.026160  0.006088\n",
       "ci_left         -0.000887 -0.002271\n",
       "ci_right         0.005045  0.003239\n",
       "ci_lenght        0.005932  0.005510"
      ]
     },
     "execution_count": 102,
     "metadata": {},
     "output_type": "execute_result"
    }
   ],
   "source": [
    "pd.DataFrame({'raw':ml_ab_raw,'with_cov':ml_ab})"
   ]
  },
  {
   "cell_type": "code",
   "execution_count": 103,
   "metadata": {},
   "outputs": [],
   "source": [
    "test_of_tests['ML_linear_model'] = {\n",
    "                                'AA':ml_aa['ttest'],\n",
    "                                'AB':ml_ab['ttest'],\n",
    "                                }"
   ]
  },
  {
   "cell_type": "code",
   "execution_count": 104,
   "metadata": {},
   "outputs": [
    {
     "data": {
      "text/html": [
       "<style type=\"text/css\">\n",
       "</style>\n",
       "<table id=\"T_eaa62_\">\n",
       "  <thead>\n",
       "    <tr>\n",
       "      <th class=\"blank level0\" >&nbsp;</th>\n",
       "      <th class=\"col_heading level0 col0\" >AA</th>\n",
       "      <th class=\"col_heading level0 col1\" >AB</th>\n",
       "    </tr>\n",
       "  </thead>\n",
       "  <tbody>\n",
       "    <tr>\n",
       "      <th id=\"T_eaa62_level0_row0\" class=\"row_heading level0 row0\" >hahahah</th>\n",
       "      <td id=\"T_eaa62_row0_col0\" class=\"data row0 col0\" >64.553%</td>\n",
       "      <td id=\"T_eaa62_row0_col1\" class=\"data row0 col1\" >18.029%</td>\n",
       "    </tr>\n",
       "    <tr>\n",
       "      <th id=\"T_eaa62_level0_row1\" class=\"row_heading level0 row1\" >hahahah_log</th>\n",
       "      <td id=\"T_eaa62_row1_col0\" class=\"data row1 col0\" >70.255%</td>\n",
       "      <td id=\"T_eaa62_row1_col1\" class=\"data row1 col1\" >12.468%</td>\n",
       "    </tr>\n",
       "    <tr>\n",
       "      <th id=\"T_eaa62_level0_row2\" class=\"row_heading level0 row2\" >base</th>\n",
       "      <td id=\"T_eaa62_row2_col0\" class=\"data row2 col0\" >62.490%</td>\n",
       "      <td id=\"T_eaa62_row2_col1\" class=\"data row2 col1\" >16.279%</td>\n",
       "    </tr>\n",
       "    <tr>\n",
       "      <th id=\"T_eaa62_level0_row3\" class=\"row_heading level0 row3\" >base_log</th>\n",
       "      <td id=\"T_eaa62_row3_col0\" class=\"data row3 col0\" >67.936%</td>\n",
       "      <td id=\"T_eaa62_row3_col1\" class=\"data row3 col1\" >11.591%</td>\n",
       "    </tr>\n",
       "    <tr>\n",
       "      <th id=\"T_eaa62_level0_row4\" class=\"row_heading level0 row4\" >linear</th>\n",
       "      <td id=\"T_eaa62_row4_col0\" class=\"data row4 col0\" >81.126%</td>\n",
       "      <td id=\"T_eaa62_row4_col1\" class=\"data row4 col1\" >1.253%</td>\n",
       "    </tr>\n",
       "    <tr>\n",
       "      <th id=\"T_eaa62_level0_row5\" class=\"row_heading level0 row5\" >bayesian</th>\n",
       "      <td id=\"T_eaa62_row5_col0\" class=\"data row5 col0\" >69.080%</td>\n",
       "      <td id=\"T_eaa62_row5_col1\" class=\"data row5 col1\" >0.000%</td>\n",
       "    </tr>\n",
       "    <tr>\n",
       "      <th id=\"T_eaa62_level0_row6\" class=\"row_heading level0 row6\" >reweight_ctr_coef</th>\n",
       "      <td id=\"T_eaa62_row6_col0\" class=\"data row6 col0\" >65.674%</td>\n",
       "      <td id=\"T_eaa62_row6_col1\" class=\"data row6 col1\" >0.307%</td>\n",
       "    </tr>\n",
       "    <tr>\n",
       "      <th id=\"T_eaa62_level0_row7\" class=\"row_heading level0 row7\" >reweight_ctr</th>\n",
       "      <td id=\"T_eaa62_row7_col0\" class=\"data row7 col0\" >77.916%</td>\n",
       "      <td id=\"T_eaa62_row7_col1\" class=\"data row7 col1\" >4.577%</td>\n",
       "    </tr>\n",
       "    <tr>\n",
       "      <th id=\"T_eaa62_level0_row8\" class=\"row_heading level0 row8\" >bucketing</th>\n",
       "      <td id=\"T_eaa62_row8_col0\" class=\"data row8 col0\" >14.033%</td>\n",
       "      <td id=\"T_eaa62_row8_col1\" class=\"data row8 col1\" >3.274%</td>\n",
       "    </tr>\n",
       "    <tr>\n",
       "      <th id=\"T_eaa62_level0_row9\" class=\"row_heading level0 row9\" >bootstrap</th>\n",
       "      <td id=\"T_eaa62_row9_col0\" class=\"data row9 col0\" >40.900%</td>\n",
       "      <td id=\"T_eaa62_row9_col1\" class=\"data row9 col1\" >1.000%</td>\n",
       "    </tr>\n",
       "    <tr>\n",
       "      <th id=\"T_eaa62_level0_row10\" class=\"row_heading level0 row10\" >ML_linear_model</th>\n",
       "      <td id=\"T_eaa62_row10_col0\" class=\"data row10 col0\" >69.092%</td>\n",
       "      <td id=\"T_eaa62_row10_col1\" class=\"data row10 col1\" >73.074%</td>\n",
       "    </tr>\n",
       "  </tbody>\n",
       "</table>\n"
      ],
      "text/plain": [
       "<pandas.io.formats.style.Styler at 0x7fe892295790>"
      ]
     },
     "execution_count": 104,
     "metadata": {},
     "output_type": "execute_result"
    }
   ],
   "source": [
    "pd.DataFrame(test_of_tests).T.style.format('{:.3%}')"
   ]
  },
  {
   "cell_type": "code",
   "execution_count": 105,
   "metadata": {},
   "outputs": [],
   "source": [
    "# effect\n",
    "effect_size['ML_LR'] = {'AA':ml_aa['uplift'],\n",
    "                        'AB':ml_ab['uplift']}"
   ]
  },
  {
   "cell_type": "code",
   "execution_count": null,
   "metadata": {},
   "outputs": [],
   "source": []
  },
  {
   "cell_type": "markdown",
   "metadata": {},
   "source": [
    "# Uplift\n",
    "<img src='data:image/jpeg;base64,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'>"
   ]
  },
  {
   "cell_type": "code",
   "execution_count": null,
   "metadata": {},
   "outputs": [],
   "source": []
  },
  {
   "cell_type": "code",
   "execution_count": 106,
   "metadata": {},
   "outputs": [],
   "source": [
    "uplift_data = base.groupby(['user','part']).sum().reset_index(1).rename(columns={'part':'is_ab_test'})"
   ]
  },
  {
   "cell_type": "code",
   "execution_count": 107,
   "metadata": {},
   "outputs": [],
   "source": [
    "uplift_data['is_ab_test'] = uplift_data['is_ab_test'] == 'AB'\n",
    "uplift_data['target'] = uplift_data['click'] / uplift_data['view']\n",
    "uplift_data.drop('click',axis=1,inplace=True)"
   ]
  },
  {
   "cell_type": "code",
   "execution_count": 108,
   "metadata": {},
   "outputs": [],
   "source": [
    "uplift_aa = uplift_data.query('is_ab_test==0').drop('is_ab_test',axis=1)\n",
    "uplift_ab = uplift_data.query('is_ab_test==1').drop('is_ab_test',axis=1)"
   ]
  },
  {
   "cell_type": "code",
   "execution_count": 109,
   "metadata": {},
   "outputs": [],
   "source": [
    "def ci_check_meta_learners(meta_func,df,T,Y,**kwargs):\n",
    "    ates = [meta_func(df.sample(frac=1, replace=True),T,Y,**kwargs).mean() for _ in tqdm(range(333))]\n",
    "\n",
    "    model_stats = sps.norm(loc = np.mean(ates),scale=np.std(ates))\n",
    "\n",
    "    return {'ttest': min(model_stats.cdf(0),model_stats.sf(0)),\n",
    "            'mwtest': None,\n",
    "            'uplift': model_stats.mean(),\n",
    "            'relative_uplift':None,\n",
    "            'ci_left': model_stats.ppf(0.025),\n",
    "            'ci_right': model_stats.ppf(0.975),\n",
    "            'ci_lenght': model_stats.ppf(0.975) - model_stats.ppf(0.025),\n",
    "            }"
   ]
  },
  {
   "cell_type": "code",
   "execution_count": 110,
   "metadata": {},
   "outputs": [],
   "source": [
    "from lightgbm import LGBMRegressor\n",
    "from sklearn.linear_model import LogisticRegression,LinearRegression\n",
    "from tqdm.notebook import tqdm"
   ]
  },
  {
   "cell_type": "code",
   "execution_count": 111,
   "metadata": {},
   "outputs": [],
   "source": [
    "def s_learner(df,Y,T,model=LGBMRegressor()):\n",
    "    \n",
    "    data = df.drop(Y,axis=1)\n",
    "    target = df[Y]\n",
    "    model.fit(data,target)\n",
    "\n",
    "    return model.predict(data.assign(**{T:1})) - model.predict(data.assign(**{T:0}))\n"
   ]
  },
  {
   "cell_type": "code",
   "execution_count": 112,
   "metadata": {},
   "outputs": [],
   "source": [
    "meta_learners_ci = {}"
   ]
  },
  {
   "cell_type": "code",
   "execution_count": 113,
   "metadata": {},
   "outputs": [
    {
     "data": {
      "application/vnd.jupyter.widget-view+json": {
       "model_id": "f056309d12084e04ad2c8aa73b22d71e",
       "version_major": 2,
       "version_minor": 0
      },
      "text/plain": [
       "  0%|          | 0/333 [00:00<?, ?it/s]"
      ]
     },
     "metadata": {},
     "output_type": "display_data"
    }
   ],
   "source": [
    "meta_learners_ci.update({'s_learner':ci_check_meta_learners(s_learner,uplift_ab,'target','ab')})"
   ]
  },
  {
   "cell_type": "code",
   "execution_count": 114,
   "metadata": {},
   "outputs": [],
   "source": [
    "meta_learners_result = {}"
   ]
  },
  {
   "cell_type": "code",
   "execution_count": 115,
   "metadata": {},
   "outputs": [],
   "source": [
    "meta_learners_result['s_learner'] = {\n",
    "                                    'AA':s_learner(uplift_aa,Y='target',T='ab',model=LGBMRegressor(n_estimators=1000)).mean(),\n",
    "                                    'AB':s_learner(uplift_ab,Y='target',T='ab',model=LGBMRegressor(n_estimators=1000)).mean(),\n",
    "                                        }"
   ]
  },
  {
   "cell_type": "code",
   "execution_count": 116,
   "metadata": {},
   "outputs": [],
   "source": [
    "from copy import copy"
   ]
  },
  {
   "cell_type": "code",
   "execution_count": 117,
   "metadata": {},
   "outputs": [],
   "source": [
    "def t_learner(df,Y,T,model=LGBMRegressor()):\n",
    "    X0 = df.query(f'{T}==0').drop([Y,T],axis=1)\n",
    "    Y0 = df.query(f'{T}==0')[Y]\n",
    "\n",
    "    X1 = df.query(f'{T}==1').drop([Y,T],axis=1)\n",
    "    Y1 = df.query(f'{T}==1')[Y]\n",
    "\n",
    "    m0 = copy(model)\n",
    "    m1 = copy(model)\n",
    "\n",
    "    m0.fit(X0,Y0)\n",
    "    m1.fit(X1,Y1)\n",
    "\n",
    "    return m1.predict(df.drop([Y,T],axis=1)) - m0.predict(df.drop([Y,T],axis=1))\n"
   ]
  },
  {
   "cell_type": "code",
   "execution_count": 118,
   "metadata": {},
   "outputs": [
    {
     "data": {
      "application/vnd.jupyter.widget-view+json": {
       "model_id": "438e365f3fa04da49fddefc5d91a354d",
       "version_major": 2,
       "version_minor": 0
      },
      "text/plain": [
       "  0%|          | 0/333 [00:00<?, ?it/s]"
      ]
     },
     "metadata": {},
     "output_type": "display_data"
    }
   ],
   "source": [
    "meta_learners_ci.update({'t_learner':ci_check_meta_learners(t_learner,uplift_ab,'target','ab')})"
   ]
  },
  {
   "cell_type": "code",
   "execution_count": 119,
   "metadata": {},
   "outputs": [],
   "source": [
    "meta_learners_result['t_learner'] = {\n",
    "                                    'AA':t_learner(uplift_aa,Y='target',T='ab',model=LGBMRegressor(n_estimators=1000)).mean(),\n",
    "                                    'AB':t_learner(uplift_ab,Y='target',T='ab',model=LGBMRegressor(n_estimators=1000)).mean(),\n",
    "                                        }"
   ]
  },
  {
   "cell_type": "code",
   "execution_count": 120,
   "metadata": {},
   "outputs": [],
   "source": [
    "from sklearn.model_selection import cross_val_predict"
   ]
  },
  {
   "cell_type": "code",
   "execution_count": 121,
   "metadata": {},
   "outputs": [],
   "source": [
    "def dd_learner(df,Y,T,model=LGBMRegressor()):\n",
    "\n",
    "    data = df.drop([Y,T],axis=1)\n",
    "    target = df[Y]\n",
    "    threatment = df[T]\n",
    "    \n",
    "    debaise = copy(model)\n",
    "    denoise = copy(model)\n",
    "\n",
    "\n",
    "    T_res = threatment - cross_val_predict(debaise,data,threatment,cv=5)\n",
    "    Y_res = target - cross_val_predict(denoise,data,target,cv=5)\n",
    "\n",
    "    W = T_res **2\n",
    "    Y_star = Y_res / T_res\n",
    "\n",
    "    final_model = copy(model)\n",
    "\n",
    "    final_model.fit(data,Y_star,sample_weight=W)\n",
    "\n",
    "    return final_model.predict(data).mean()\n"
   ]
  },
  {
   "cell_type": "code",
   "execution_count": 122,
   "metadata": {},
   "outputs": [
    {
     "data": {
      "application/vnd.jupyter.widget-view+json": {
       "model_id": "ed2cfbd9a87e46f5927f22a50332b4f2",
       "version_major": 2,
       "version_minor": 0
      },
      "text/plain": [
       "  0%|          | 0/333 [00:00<?, ?it/s]"
      ]
     },
     "metadata": {},
     "output_type": "display_data"
    }
   ],
   "source": [
    "meta_learners_ci.update({'dd_learner':ci_check_meta_learners(dd_learner,uplift_ab,'target','ab')})"
   ]
  },
  {
   "cell_type": "code",
   "execution_count": 123,
   "metadata": {},
   "outputs": [],
   "source": [
    "# Для цисленных переменных влияния (сикдки , бонусы, баллы и тд)\n",
    "meta_learners_result['dd_learner'] = {\n",
    "                                    'AA':dd_learner(uplift_aa,Y='target',T='ab',model=LGBMRegressor(n_estimators=1000)).mean(),\n",
    "                                    'AB':dd_learner(uplift_ab,Y='target',T='ab',model=LGBMRegressor(n_estimators=1000)).mean(),\n",
    "                                        }"
   ]
  },
  {
   "cell_type": "code",
   "execution_count": 124,
   "metadata": {},
   "outputs": [],
   "source": [
    "effect_size.update(meta_learners_result)"
   ]
  },
  {
   "cell_type": "code",
   "execution_count": 125,
   "metadata": {},
   "outputs": [],
   "source": [
    "def dr_learner(df,Y,T):\n",
    "    \n",
    "    X = df.drop([T,Y],axis=1).columns\n",
    "\n",
    "    ps = LogisticRegression(C=1e6, max_iter=1000).fit(df[X], df[T].astype(bool)).predict_proba(df[X])[:, 1]\n",
    "\n",
    "    mu0 = LGBMRegressor().fit(df.query(f\"{T}==0\")[X], df.query(f\"{T}==0\")[Y]).predict(df[X])\n",
    "    mu1 = LGBMRegressor().fit(df.query(f\"{T}==1\")[X], df.query(f\"{T}==1\")[Y]).predict(df[X])\n",
    "    return (\n",
    "        (df[T]*(df[Y] - mu1)/ps + mu1) -\n",
    "        ((1-df[T])*(df[Y] - mu0)/(1-ps) + mu0)\n",
    "    )"
   ]
  },
  {
   "cell_type": "code",
   "execution_count": 126,
   "metadata": {},
   "outputs": [
    {
     "data": {
      "application/vnd.jupyter.widget-view+json": {
       "model_id": "7c3b43c8f44b40b1b9d1e209ebb14314",
       "version_major": 2,
       "version_minor": 0
      },
      "text/plain": [
       "  0%|          | 0/333 [00:00<?, ?it/s]"
      ]
     },
     "metadata": {},
     "output_type": "display_data"
    }
   ],
   "source": [
    "meta_learners_ci.update({'dr_learner':ci_check_meta_learners(dr_learner,uplift_ab,'target','ab')})"
   ]
  },
  {
   "cell_type": "code",
   "execution_count": 127,
   "metadata": {},
   "outputs": [
    {
     "data": {
      "text/html": [
       "<div>\n",
       "<style scoped>\n",
       "    .dataframe tbody tr th:only-of-type {\n",
       "        vertical-align: middle;\n",
       "    }\n",
       "\n",
       "    .dataframe tbody tr th {\n",
       "        vertical-align: top;\n",
       "    }\n",
       "\n",
       "    .dataframe thead th {\n",
       "        text-align: right;\n",
       "    }\n",
       "</style>\n",
       "<table border=\"1\" class=\"dataframe\">\n",
       "  <thead>\n",
       "    <tr style=\"text-align: right;\">\n",
       "      <th></th>\n",
       "      <th>s_learner</th>\n",
       "      <th>t_learner</th>\n",
       "      <th>dd_learner</th>\n",
       "      <th>dr_learner</th>\n",
       "    </tr>\n",
       "  </thead>\n",
       "  <tbody>\n",
       "    <tr>\n",
       "      <th>ttest</th>\n",
       "      <td>0.228533</td>\n",
       "      <td>0.425485</td>\n",
       "      <td>0.398684</td>\n",
       "      <td>0.409291</td>\n",
       "    </tr>\n",
       "    <tr>\n",
       "      <th>mwtest</th>\n",
       "      <td>NaN</td>\n",
       "      <td>NaN</td>\n",
       "      <td>NaN</td>\n",
       "      <td>NaN</td>\n",
       "    </tr>\n",
       "    <tr>\n",
       "      <th>uplift</th>\n",
       "      <td>0.000510</td>\n",
       "      <td>0.000242</td>\n",
       "      <td>0.000322</td>\n",
       "      <td>0.000286</td>\n",
       "    </tr>\n",
       "    <tr>\n",
       "      <th>relative_uplift</th>\n",
       "      <td>NaN</td>\n",
       "      <td>NaN</td>\n",
       "      <td>NaN</td>\n",
       "      <td>NaN</td>\n",
       "    </tr>\n",
       "    <tr>\n",
       "      <th>ci_left</th>\n",
       "      <td>-0.000833</td>\n",
       "      <td>-0.002284</td>\n",
       "      <td>-0.002135</td>\n",
       "      <td>-0.002161</td>\n",
       "    </tr>\n",
       "    <tr>\n",
       "      <th>ci_right</th>\n",
       "      <td>0.001852</td>\n",
       "      <td>0.002768</td>\n",
       "      <td>0.002779</td>\n",
       "      <td>0.002734</td>\n",
       "    </tr>\n",
       "    <tr>\n",
       "      <th>ci_lenght</th>\n",
       "      <td>0.002686</td>\n",
       "      <td>0.005052</td>\n",
       "      <td>0.004915</td>\n",
       "      <td>0.004895</td>\n",
       "    </tr>\n",
       "  </tbody>\n",
       "</table>\n",
       "</div>"
      ],
      "text/plain": [
       "                 s_learner  t_learner  dd_learner  dr_learner\n",
       "ttest             0.228533   0.425485    0.398684    0.409291\n",
       "mwtest                 NaN        NaN         NaN         NaN\n",
       "uplift            0.000510   0.000242    0.000322    0.000286\n",
       "relative_uplift        NaN        NaN         NaN         NaN\n",
       "ci_left          -0.000833  -0.002284   -0.002135   -0.002161\n",
       "ci_right          0.001852   0.002768    0.002779    0.002734\n",
       "ci_lenght         0.002686   0.005052    0.004915    0.004895"
      ]
     },
     "execution_count": 127,
     "metadata": {},
     "output_type": "execute_result"
    }
   ],
   "source": [
    "pd.DataFrame(meta_learners_ci)"
   ]
  },
  {
   "cell_type": "markdown",
   "metadata": {},
   "source": [
    "# IPV & Double robust\n",
    "<img src = 'data:image/jpeg;base64,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'>"
   ]
  },
  {
   "cell_type": "code",
   "execution_count": 128,
   "metadata": {},
   "outputs": [],
   "source": [
    "drdd_data = base.groupby(['user','part']).sum().reset_index(1).rename(columns={'part':'is_ab_test'})"
   ]
  },
  {
   "cell_type": "code",
   "execution_count": 129,
   "metadata": {},
   "outputs": [],
   "source": [
    "drdd_data['is_ab_test'] = drdd_data['is_ab_test'] == 'AB'\n",
    "drdd_data['target'] = drdd_data['click'] / drdd_data['view']\n",
    "drdd_data.drop('click',axis=1,inplace=True)"
   ]
  },
  {
   "cell_type": "markdown",
   "metadata": {},
   "source": [
    "## IPV"
   ]
  },
  {
   "cell_type": "code",
   "execution_count": 130,
   "metadata": {},
   "outputs": [],
   "source": [
    "def IPV(df, T, y):\n",
    "    X = df.drop([T,y],axis=1).columns\n",
    "    # estimate the propensity score\n",
    "    ps = LogisticRegression(C=1e6).fit(df[X], df[T]).predict_proba(df[X])[:, 1]\n",
    "    \n",
    "    weight = (df[T]-ps) / (ps*(1-ps)) # define the weights\n",
    "    return np.mean(weight * df[y]) # compute the ATE"
   ]
  },
  {
   "cell_type": "code",
   "execution_count": 131,
   "metadata": {},
   "outputs": [
    {
     "data": {
      "text/plain": [
       "0.00047964611313367503"
      ]
     },
     "execution_count": 131,
     "metadata": {},
     "output_type": "execute_result"
    }
   ],
   "source": [
    "IPV(drdd_data.query('is_ab_test==True'),'ab','target')"
   ]
  },
  {
   "cell_type": "code",
   "execution_count": 132,
   "metadata": {},
   "outputs": [],
   "source": [
    "ols_data = drdd_data.query('is_ab_test==True').astype(int)"
   ]
  },
  {
   "cell_type": "code",
   "execution_count": 133,
   "metadata": {},
   "outputs": [],
   "source": [
    "ps_ols = sm.OLS(ols_data['target'].values,ols_data[['ab']].assign(const=1,ps=IPV(ols_data,'ab','target'))).fit()\n",
    "raw_ols = sm.OLS(ols_data['target'].values,ols_data.drop(['is_ab_test','target'],axis=1).assign(const=1)).fit()"
   ]
  },
  {
   "cell_type": "code",
   "execution_count": 134,
   "metadata": {},
   "outputs": [
    {
     "data": {
      "text/plain": [
       "ab\n",
       "0    AxesSubplot(0.125,0.125;0.775x0.755)\n",
       "1    AxesSubplot(0.125,0.125;0.775x0.755)\n",
       "Name: ps, dtype: object"
      ]
     },
     "execution_count": 134,
     "metadata": {},
     "output_type": "execute_result"
    },
    {
     "data": {
      "image/png": "[encoded data removed]",
      "text/plain": [
       "<Figure size 1080x432 with 1 Axes>"
      ]
     },
     "metadata": {},
     "output_type": "display_data"
    }
   ],
   "source": [
    "ols_data.assign(ps=IPV(ols_data,'ab','target')).groupby('ab')['ps'].hist(alpha=0.4,bins=100)"
   ]
  },
  {
   "cell_type": "code",
   "execution_count": 135,
   "metadata": {},
   "outputs": [
    {
     "name": "stdout",
     "output_type": "stream",
     "text": [
      "                            OLS Regression Results                            \n",
      "==============================================================================\n",
      "Dep. Variable:                      y   R-squared:                       0.025\n",
      "Model:                            OLS   Adj. R-squared:                  0.025\n",
      "Method:                 Least Squares   F-statistic:                     164.1\n",
      "Date:                Sat, 30 Jul 2022   Prob (F-statistic):               0.00\n",
      "Time:                        18:09:05   Log-Likelihood:                 36333.\n",
      "No. Observations:               82308   AIC:                        -7.264e+04\n",
      "Df Residuals:                   82294   BIC:                        -7.251e+04\n",
      "Df Model:                          13                                         \n",
      "Covariance Type:            nonrobust                                         \n",
      "==========================================================================================\n",
      "                             coef    std err          t      P>|t|      [0.025      0.975]\n",
      "------------------------------------------------------------------------------------------\n",
      "ab                        -0.0007      0.001     -0.624      0.533      -0.003       0.001\n",
      "cov_has_flat               0.0077      0.002      4.817      0.000       0.005       0.011\n",
      "cov_has_auto              -0.0052      0.001     -4.521      0.000      -0.007      -0.003\n",
      "cov_uniq_dates            -0.0015      0.000     -7.232      0.000      -0.002      -0.001\n",
      "cov_uniq_sessions          0.0004   5.59e-05      6.361      0.000       0.000       0.000\n",
      "cov_home_events           -0.0015   6.76e-05    -21.464      0.000      -0.002      -0.001\n",
      "cov_health_events         -0.0005   5.36e-05     -9.023      0.000      -0.001      -0.000\n",
      "cov_kids_events           -0.0010      0.000     -5.891      0.000      -0.001      -0.001\n",
      "cov_uniq_events_types      0.0046      0.000     34.890      0.000       0.004       0.005\n",
      "cov_uniq_events_groups    -0.0075      0.000    -30.115      0.000      -0.008      -0.007\n",
      "cov_uniq_profiles         -0.0039      0.001     -3.385      0.001      -0.006      -0.002\n",
      "cov_pushs                  0.0011      0.000      7.396      0.000       0.001       0.001\n",
      "view                      -0.0038      0.000    -26.828      0.000      -0.004      -0.004\n",
      "const                      0.0496      0.003     18.630      0.000       0.044       0.055\n",
      "==============================================================================\n",
      "Omnibus:                    91865.334   Durbin-Watson:                   2.007\n",
      "Prob(Omnibus):                  0.000   Jarque-Bera (JB):          5319540.642\n",
      "Skew:                           6.066   Prob(JB):                         0.00\n",
      "Kurtosis:                      40.469   Cond. No.                         252.\n",
      "==============================================================================\n",
      "\n",
      "Notes:\n",
      "[1] Standard Errors assume that the covariance matrix of the errors is correctly specified.\n"
     ]
    }
   ],
   "source": [
    "print(raw_ols.summary())"
   ]
  },
  {
   "cell_type": "code",
   "execution_count": 136,
   "metadata": {},
   "outputs": [
    {
     "name": "stdout",
     "output_type": "stream",
     "text": [
      "                            OLS Regression Results                            \n",
      "==============================================================================\n",
      "Dep. Variable:                      y   R-squared:                       0.000\n",
      "Model:                            OLS   Adj. R-squared:                 -0.000\n",
      "Method:                 Least Squares   F-statistic:                   0.07351\n",
      "Date:                Sat, 30 Jul 2022   Prob (F-statistic):              0.786\n",
      "Time:                        18:09:05   Log-Likelihood:                 35280.\n",
      "No. Observations:               82308   AIC:                        -7.056e+04\n",
      "Df Residuals:                   82306   BIC:                        -7.054e+04\n",
      "Df Model:                           1                                         \n",
      "Covariance Type:            nonrobust                                         \n",
      "==============================================================================\n",
      "                 coef    std err          t      P>|t|      [0.025      0.975]\n",
      "------------------------------------------------------------------------------\n",
      "ab            -0.0003      0.001     -0.271      0.786      -0.002       0.002\n",
      "const          0.0251      0.001     32.308      0.000       0.024       0.027\n",
      "ps         -1.703e-05   5.27e-07    -32.308      0.000   -1.81e-05    -1.6e-05\n",
      "==============================================================================\n",
      "Omnibus:                    94085.037   Durbin-Watson:                   2.007\n",
      "Prob(Omnibus):                  0.000   Jarque-Bera (JB):          5846209.168\n",
      "Skew:                           6.298   Prob(JB):                         0.00\n",
      "Kurtosis:                      42.320   Cond. No.                     1.75e+17\n",
      "==============================================================================\n",
      "\n",
      "Notes:\n",
      "[1] Standard Errors assume that the covariance matrix of the errors is correctly specified.\n",
      "[2] The smallest eigenvalue is 3.52e-30. This might indicate that there are\n",
      "strong multicollinearity problems or that the design matrix is singular.\n"
     ]
    }
   ],
   "source": [
    "print(ps_ols.summary())"
   ]
  },
  {
   "cell_type": "markdown",
   "metadata": {},
   "source": [
    "## DID"
   ]
  },
  {
   "cell_type": "code",
   "execution_count": 137,
   "metadata": {},
   "outputs": [],
   "source": [
    "idx = drdd_data.groupby(level=0)['is_ab_test'].nunique().where(lambda x: x==2).dropna().index\n",
    "drdd_data = drdd_data.loc[idx]"
   ]
  },
  {
   "cell_type": "code",
   "execution_count": 138,
   "metadata": {},
   "outputs": [],
   "source": [
    "def DRDID ( df,X,W,T,Y):\n",
    "\n",
    "    ps = LogisticRegression(penalty='none').fit(df.query(f'{W}==0')[X],df.query(f'{W}==0')[T]).predict_proba(df.query(f'{W}==0')[X])[:,1]\n",
    "    wp_tr = df.query(f'{W}==0')[T] / df.query(f'{W}==0')[T].mean()\n",
    "    wp_count = ps * (1 - df.query(f'{W}==0')[T]) / (1 - ps)\n",
    "    wp_pr = wp_count / wp_count.mean()\n",
    "    ipv = wp_tr - wp_pr\n",
    "\n",
    "    mu_0_p = LinearRegression().fit(df.query(f'{T}==0 & {W}==1')[X], df.query(f'{T}==0 & {W}==0')[Y]).predict(df.query(f'{W}==1')[X])\n",
    "\n",
    "    mu_1_p = LinearRegression().fit(df.query(f'{T}==0 & {W}==1')[X], df.query(f'{T}==0 & {W}==1')[Y]).predict(df.query(f'{W}==1')[X])\n",
    "\n",
    "\n",
    "\n",
    "    mu_delta = mu_1_p - mu_0_p\n",
    "\n",
    "    Y_delta = df.query(f'{W}==1')[Y] - df.query(f' {W}==0')[Y]\n",
    "\n",
    "\n",
    "    ATT = np.mean(ipv * (Y_delta - mu_delta))\n",
    "\n",
    "    return ATT"
   ]
  },
  {
   "cell_type": "code",
   "execution_count": 139,
   "metadata": {},
   "outputs": [],
   "source": [
    "did_result = DRDID(drdd_data, X=drdd_data.filter(regex='cov').columns,W='is_ab_test',T='ab',Y='target')"
   ]
  },
  {
   "cell_type": "code",
   "execution_count": 140,
   "metadata": {},
   "outputs": [],
   "source": [
    "effect_size['did'] = {'AB':did_result}"
   ]
  },
  {
   "cell_type": "code",
   "execution_count": 141,
   "metadata": {},
   "outputs": [
    {
     "data": {
      "text/plain": [
       "<matplotlib.lines.Line2D at 0x7fe87c469250>"
      ]
     },
     "execution_count": 141,
     "metadata": {},
     "output_type": "execute_result"
    },
    {
     "data": {
      "image/png": "[encoded data removed]",
      "text/plain": [
       "<Figure size 1800x1008 with 2 Axes>"
      ]
     },
     "metadata": {},
     "output_type": "display_data"
    }
   ],
   "source": [
    "fig,ax = plt.subplots(1,2,figsize=(25,14))\n",
    "pd.DataFrame(effect_size).T.iloc[::-1].plot.barh(title='Найденный эффект по моделям',ax=ax[0])\n",
    "pd.DataFrame(test_of_tests).T.iloc[::-1].plot.barh(title='p-value по моделям',ax=ax[1])\n",
    "ax[1].axvline(0.05,linestyle='--',color='g')"
   ]
  },
  {
   "cell_type": "code",
   "execution_count": 142,
   "metadata": {},
   "outputs": [
    {
     "data": {
      "image/png": "[encoded data removed]",
      "text/plain": [
       "<Figure size 1800x1080 with 4 Axes>"
      ]
     },
     "metadata": {},
     "output_type": "display_data"
    }
   ],
   "source": [
    "fig,ax = plt.subplots(2,2,figsize=(25,15))\n",
    "pd.DataFrame(effect_size).T.plot.bar(subplots=True,title='Найденный эффект по моделям',ax=ax[0])\n",
    "pd.DataFrame(test_of_tests).T.plot.bar(subplots=True,title='Наша P-value',ax=ax[1])\n",
    "ax[1,1].axhline(0.05,linestyle='--',color='g')\n",
    "ax[1,0].axhline(0.05,linestyle='--',color='g')\n",
    "ax[0,0].set_title('Effect AA')\n",
    "ax[0,1].set_title('Effect AB')\n",
    "ax[1,0].set_title('Pvalue AA')\n",
    "ax[1,1].set_title('Pvalue AB')\n",
    "plt.tight_layout()"
   ]
  },
  {
   "cell_type": "markdown",
   "metadata": {},
   "source": [
    "# Ссылочки"
   ]
  },
  {
   "cell_type": "markdown",
   "metadata": {},
   "source": [
    "Общее  \n",
    "[Авито общая инфа о инфраструктуре](https://habr.com/ru/company/avito/blog/454164/)\n",
    "[Большой гайд по оптимизации от VK](https://vkteam.medium.com/practitioners-guide-to-statistical-tests-ed2d580ef04f)  \n",
    "[ AB лайфхаки авито  Часть 1 ( тестирование критериев )](https://habr.com/ru/company/avito/blog/571094/)  \n",
    "[Антипаттерны АБ](https://www.evanmiller.org/how-not-to-run-an-ab-test.html)  \n",
    "\n",
    "CUPED   \n",
    "[ AB лайфхаки авито  Часть 2 ( сниженеие дисперсии и джедайские техники )](https://habr.com/ru/company/avito/blog/571096/)  \n",
    "[ AB лайфхаки авито  Часть 3 ( ML техники и апдейт CUPED )](https://habr.com/ru/company/avito/blog/590105/)  \n",
    "[CUPED + Стратификация от yandex](https://habr.com/ru/company/yandex/blog/497804/)  \n",
    "\n",
    "Bayes  \n",
    "\n",
    "[Пример баесовского АБ (простой)](https://academy.yandex.ru/posts/prostoy-gid-po-bayesovskomu-a-b-testirovaniyu-na-python)  \n",
    "[Bayies чуть сложнее на примерах](https://medium.com/convoy-tech/the-power-of-bayesian-a-b-testing-f859d2219d5)  \n",
    "[Более сложная инфа о баесе](https://www.evanmiller.org/bayesian-ab-testing.html)  \n",
    "[Бандиты и баес на русском (ч1)](https://craftappmobile.com/bayesian-ab-testing-part-1/)  \n",
    "[Бандиты и баес на русском (ч2)](https://craftappmobile.com/bayesian-ab-testing-part-2/)  \n",
    "\n",
    "\n",
    "Matching & Causal\n",
    "\n",
    "[Крутая гит книжка про каузальность](https://matheusfacure.github.io/python-causality-handbook/10-Matching.html)  \n",
    "[Матчинг для АБ](https://humboldt-wi.github.io/blog/research/applied_predictive_modeling_19/matching_methods/)  \n",
    "[Книга по каузальности от биопрофессора (осторожно, это жестко)](https://cdn1.sph.harvard.edu/wp-content/uploads/sites/1268/2021/03/ciwhatif_hernanrobins_30mar21.pdf)  \n",
    "[Каузальные метода на русском доступно без регистрации и смс](https://koch-kir.medium.com/causal-inference-from-observational-data-%D0%B8%D0%BB%D0%B8-%D0%BA%D0%B0%D0%BA-%D0%BF%D1%80%D0%BE%D0%B2%D0%B5%D1%81%D1%82%D0%B8-%D0%B0-%D0%B2-%D1%82%D0%B5%D1%81%D1%82-%D0%B1%D0%B5%D0%B7-%D0%B0-%D0%B2-%D1%82%D0%B5%D1%81%D1%82%D0%B0-afb84f2579f2)  \n",
    "\n",
    "\n",
    "[AB как модели](https://lindeloev.github.io/tests-as-linear/)\n",
    "\n",
    "DRDID :  \n",
    "\n",
    "[Double Robust & inverse scaling](https://drive.google.com/file/d/1vgwNdBbrSwCaHF7EnJh06Ukpu1mSzIxO/view)"
   ]
  }
 ],
 "metadata": {
  "kernelspec": {
   "display_name": "Python 3.8.10 64-bit",
   "language": "python",
   "name": "python3"
  },
  "language_info": {
   "codemirror_mode": {
    "name": "ipython",
    "version": 3
   },
   "file_extension": ".py",
   "mimetype": "text/x-python",
   "name": "python",
   "nbconvert_exporter": "python",
   "pygments_lexer": "ipython3",
   "version": "3.8.10"
  },
  "orig_nbformat": 4,
  "vscode": {
   "interpreter": {
    "hash": "916dbcbb3f70747c44a77c7bcd40155683ae19c65e1c03b4aa3499c5328201f1"
   }
  }
 },
 "nbformat": 4,
 "nbformat_minor": 2
}
