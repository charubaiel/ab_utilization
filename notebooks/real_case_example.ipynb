{
 "cells": [
  {
   "cell_type": "code",
   "execution_count": 1,
   "metadata": {},
   "outputs": [],
   "source": [
    "from mm_ab import *"
   ]
  },
  {
   "cell_type": "code",
   "execution_count": 2,
   "metadata": {},
   "outputs": [],
   "source": [
    "sql_data = pd.read_pickle('../data/expN34.pkl')"
   ]
  },
  {
   "cell_type": "code",
   "execution_count": 3,
   "metadata": {},
   "outputs": [],
   "source": [
    "test_of_tests = {}\n",
    "effect_size = {}"
   ]
  },
  {
   "cell_type": "markdown",
   "metadata": {},
   "source": [
    "# PS\n",
    "* Почему логарифмировангие это плохо?"
   ]
  },
  {
   "cell_type": "code",
   "execution_count": 4,
   "metadata": {},
   "outputs": [],
   "source": [
    "# loc = метрика (пусть будут деньги)\n",
    "# rvs = кол-во людей\n",
    "# Имитируем ситуацию, когда мы ухудшили что то для мелко платящих, но улучшили для больших платежей\n",
    "test_1 = np.concatenate([sps.norm(loc=20).rvs(20),\n",
    "                        sps.norm(loc=50).rvs(10),\n",
    "                        sps.norm(loc=100).rvs(5),\n",
    "                        sps.norm(loc=500).rvs(2)])\n",
    "\n",
    "test_2 = np.concatenate([sps.norm(loc=10).rvs(20),\n",
    "                        sps.norm(loc=45).rvs(10),\n",
    "                        sps.norm(loc=120).rvs(5),\n",
    "                        sps.norm(loc=600).rvs(2)])"
   ]
  },
  {
   "cell_type": "code",
   "execution_count": 5,
   "metadata": {},
   "outputs": [
    {
     "data": {
      "text/plain": [
       "<AxesSubplot:>"
      ]
     },
     "execution_count": 5,
     "metadata": {},
     "output_type": "execute_result"
    },
    {
     "data": {
      "image/png": "[encoded data removed]",
      "text/plain": [
       "<Figure size 1080x432 with 1 Axes>"
      ]
     },
     "metadata": {},
     "output_type": "display_data"
    }
   ],
   "source": [
    "pd.DataFrame({'control':test_1,'threatment':test_2}).plot.barh()"
   ]
  },
  {
   "cell_type": "code",
   "execution_count": 6,
   "metadata": {},
   "outputs": [
    {
     "data": {
      "text/html": [
       "<div>\n",
       "<style scoped>\n",
       "    .dataframe tbody tr th:only-of-type {\n",
       "        vertical-align: middle;\n",
       "    }\n",
       "\n",
       "    .dataframe tbody tr th {\n",
       "        vertical-align: top;\n",
       "    }\n",
       "\n",
       "    .dataframe thead th {\n",
       "        text-align: right;\n",
       "    }\n",
       "</style>\n",
       "<table border=\"1\" class=\"dataframe\">\n",
       "  <thead>\n",
       "    <tr style=\"text-align: right;\">\n",
       "      <th></th>\n",
       "      <th>Control</th>\n",
       "      <th>Threatment</th>\n",
       "    </tr>\n",
       "  </thead>\n",
       "  <tbody>\n",
       "    <tr>\n",
       "      <th>base</th>\n",
       "      <td>2396.503080</td>\n",
       "      <td>2451.628694</td>\n",
       "    </tr>\n",
       "    <tr>\n",
       "      <th>log</th>\n",
       "      <td>134.291472</td>\n",
       "      <td>121.225422</td>\n",
       "    </tr>\n",
       "  </tbody>\n",
       "</table>\n",
       "</div>"
      ],
      "text/plain": [
       "          Control   Threatment\n",
       "base  2396.503080  2451.628694\n",
       "log    134.291472   121.225422"
      ]
     },
     "execution_count": 6,
     "metadata": {},
     "output_type": "execute_result"
    }
   ],
   "source": [
    "pd.DataFrame({\n",
    "    'Control':{'base':test_1.sum(),'log':np.log(test_1).sum()},\n",
    "    'Threatment':{'base':test_2.sum(),'log':np.log(test_2).sum()}\n",
    "})"
   ]
  },
  {
   "cell_type": "code",
   "execution_count": 7,
   "metadata": {},
   "outputs": [
    {
     "data": {
      "text/html": [
       "<div>\n",
       "<style scoped>\n",
       "    .dataframe tbody tr th:only-of-type {\n",
       "        vertical-align: middle;\n",
       "    }\n",
       "\n",
       "    .dataframe tbody tr th {\n",
       "        vertical-align: top;\n",
       "    }\n",
       "\n",
       "    .dataframe thead th {\n",
       "        text-align: right;\n",
       "    }\n",
       "</style>\n",
       "<table border=\"1\" class=\"dataframe\">\n",
       "  <thead>\n",
       "    <tr style=\"text-align: right;\">\n",
       "      <th></th>\n",
       "      <th>Control</th>\n",
       "      <th>Threatment</th>\n",
       "    </tr>\n",
       "  </thead>\n",
       "  <tbody>\n",
       "    <tr>\n",
       "      <th>base</th>\n",
       "      <td>64.770354</td>\n",
       "      <td>66.260235</td>\n",
       "    </tr>\n",
       "    <tr>\n",
       "      <th>log</th>\n",
       "      <td>3.629499</td>\n",
       "      <td>3.276363</td>\n",
       "    </tr>\n",
       "  </tbody>\n",
       "</table>\n",
       "</div>"
      ],
      "text/plain": [
       "        Control  Threatment\n",
       "base  64.770354   66.260235\n",
       "log    3.629499    3.276363"
      ]
     },
     "execution_count": 7,
     "metadata": {},
     "output_type": "execute_result"
    }
   ],
   "source": [
    "pd.DataFrame({\n",
    "    'Control':{'base':test_1.mean(),'log':np.log(test_1).mean()},\n",
    "    'Threatment':{'base':test_2.mean(),'log':np.log(test_2).mean()}\n",
    "})"
   ]
  },
  {
   "cell_type": "code",
   "execution_count": 8,
   "metadata": {},
   "outputs": [],
   "source": [
    "# Упс, получается ровно противоположная картина.\n",
    "# Т.е. суммарно заплатили денег больше, а в логарифме получилось меньше\n",
    "# + Метрика логарифма трудно или вообще не интерпритируема для бизнеса\n",
    "# В дальнейшем будет использоваться для референса"
   ]
  },
  {
   "cell_type": "markdown",
   "metadata": {},
   "source": [
    "# База\n",
    "<img src='data:image/jpeg;base64,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' width=400 height=400/>"
   ]
  },
  {
   "cell_type": "code",
   "execution_count": 9,
   "metadata": {},
   "outputs": [],
   "source": [
    "qq = sql_data.copy()"
   ]
  },
  {
   "cell_type": "code",
   "execution_count": 10,
   "metadata": {},
   "outputs": [],
   "source": [
    "hahaha_ab_df = qq.pivot('user',['part','ab'],['view','click'])\n",
    "hahaha_test = hahaha_ab_df['click'] / hahaha_ab_df['view']"
   ]
  },
  {
   "cell_type": "code",
   "execution_count": 11,
   "metadata": {},
   "outputs": [],
   "source": [
    "test_of_tests['hahahah'] = {\n",
    "                            'AA':sps.ttest_ind(hahaha_test['AA'][0].dropna(),hahaha_test['AA'][1].dropna()).pvalue,\n",
    "                            'AB':sps.ttest_ind(hahaha_test['AB'][0].dropna(),hahaha_test['AB'][1].dropna()).pvalue,\n",
    "                            }"
   ]
  },
  {
   "cell_type": "code",
   "execution_count": 12,
   "metadata": {},
   "outputs": [
    {
     "data": {
      "text/html": [
       "<div>\n",
       "<style scoped>\n",
       "    .dataframe tbody tr th:only-of-type {\n",
       "        vertical-align: middle;\n",
       "    }\n",
       "\n",
       "    .dataframe tbody tr th {\n",
       "        vertical-align: top;\n",
       "    }\n",
       "\n",
       "    .dataframe thead th {\n",
       "        text-align: right;\n",
       "    }\n",
       "</style>\n",
       "<table border=\"1\" class=\"dataframe\">\n",
       "  <thead>\n",
       "    <tr style=\"text-align: right;\">\n",
       "      <th></th>\n",
       "      <th>AA</th>\n",
       "      <th>AB</th>\n",
       "    </tr>\n",
       "  </thead>\n",
       "  <tbody>\n",
       "    <tr>\n",
       "      <th>hahahah</th>\n",
       "      <td>0.64553</td>\n",
       "      <td>0.18029</td>\n",
       "    </tr>\n",
       "  </tbody>\n",
       "</table>\n",
       "</div>"
      ],
      "text/plain": [
       "              AA       AB\n",
       "hahahah  0.64553  0.18029"
      ]
     },
     "execution_count": 12,
     "metadata": {},
     "output_type": "execute_result"
    }
   ],
   "source": [
    "pd.DataFrame(test_of_tests).T"
   ]
  },
  {
   "cell_type": "code",
   "execution_count": 13,
   "metadata": {},
   "outputs": [],
   "source": [
    "effect_size['hahahah'] = hahaha_test.mean().unstack().apply(lambda x: x[1] - x[0],axis=1).to_dict()"
   ]
  },
  {
   "cell_type": "code",
   "execution_count": 14,
   "metadata": {},
   "outputs": [],
   "source": [
    "test_of_tests['hahahah_log'] = {\n",
    "                            'AA':sps.ttest_ind(hahaha_test['AA'][0].dropna().apply(np.log1p),hahaha_test['AA'][1].dropna().apply(np.log1p)).pvalue,\n",
    "                            'AB':sps.ttest_ind(hahaha_test['AB'][0].dropna().apply(np.log1p),hahaha_test['AB'][1].dropna().apply(np.log1p)).pvalue,\n",
    "                            }"
   ]
  },
  {
   "cell_type": "code",
   "execution_count": 15,
   "metadata": {},
   "outputs": [
    {
     "data": {
      "text/html": [
       "<div>\n",
       "<style scoped>\n",
       "    .dataframe tbody tr th:only-of-type {\n",
       "        vertical-align: middle;\n",
       "    }\n",
       "\n",
       "    .dataframe tbody tr th {\n",
       "        vertical-align: top;\n",
       "    }\n",
       "\n",
       "    .dataframe thead th {\n",
       "        text-align: right;\n",
       "    }\n",
       "</style>\n",
       "<table border=\"1\" class=\"dataframe\">\n",
       "  <thead>\n",
       "    <tr style=\"text-align: right;\">\n",
       "      <th></th>\n",
       "      <th>AA</th>\n",
       "      <th>AB</th>\n",
       "    </tr>\n",
       "  </thead>\n",
       "  <tbody>\n",
       "    <tr>\n",
       "      <th>hahahah</th>\n",
       "      <td>0.645530</td>\n",
       "      <td>0.180290</td>\n",
       "    </tr>\n",
       "    <tr>\n",
       "      <th>hahahah_log</th>\n",
       "      <td>0.702553</td>\n",
       "      <td>0.124682</td>\n",
       "    </tr>\n",
       "  </tbody>\n",
       "</table>\n",
       "</div>"
      ],
      "text/plain": [
       "                   AA        AB\n",
       "hahahah      0.645530  0.180290\n",
       "hahahah_log  0.702553  0.124682"
      ]
     },
     "execution_count": 15,
     "metadata": {},
     "output_type": "execute_result"
    }
   ],
   "source": [
    "pd.DataFrame(test_of_tests).T"
   ]
  },
  {
   "cell_type": "code",
   "execution_count": 16,
   "metadata": {},
   "outputs": [],
   "source": [
    "effect_size['hahahah_log'] = hahaha_test.apply(np.log1p).mean().unstack().apply(lambda x: x[1] - x[0],axis=1).to_dict()"
   ]
  },
  {
   "cell_type": "markdown",
   "metadata": {},
   "source": [
    "# Настоящая база\n",
    "<img src='https://www.meme-arsenal.com/memes/28beaa87227d46e0d91f2f3cb697f89c.jpg' width=400 height=400/>"
   ]
  },
  {
   "cell_type": "code",
   "execution_count": 17,
   "metadata": {},
   "outputs": [],
   "source": [
    "# А настоящая база, когда мы проверили наш сет на предмет возможного пиздеца"
   ]
  },
  {
   "cell_type": "code",
   "execution_count": 18,
   "metadata": {},
   "outputs": [
    {
     "data": {
      "text/html": [
       "<div>\n",
       "<style scoped>\n",
       "    .dataframe tbody tr th:only-of-type {\n",
       "        vertical-align: middle;\n",
       "    }\n",
       "\n",
       "    .dataframe tbody tr th {\n",
       "        vertical-align: top;\n",
       "    }\n",
       "\n",
       "    .dataframe thead th {\n",
       "        text-align: right;\n",
       "    }\n",
       "</style>\n",
       "<table border=\"1\" class=\"dataframe\">\n",
       "  <thead>\n",
       "    <tr style=\"text-align: right;\">\n",
       "      <th></th>\n",
       "      <th>view</th>\n",
       "      <th>click</th>\n",
       "    </tr>\n",
       "  </thead>\n",
       "  <tbody>\n",
       "    <tr>\n",
       "      <th>count</th>\n",
       "      <td>181525.000000</td>\n",
       "      <td>181525.000000</td>\n",
       "    </tr>\n",
       "    <tr>\n",
       "      <th>mean</th>\n",
       "      <td>4.207757</td>\n",
       "      <td>0.323217</td>\n",
       "    </tr>\n",
       "    <tr>\n",
       "      <th>std</th>\n",
       "      <td>6.904729</td>\n",
       "      <td>1.041286</td>\n",
       "    </tr>\n",
       "    <tr>\n",
       "      <th>min</th>\n",
       "      <td>1.000000</td>\n",
       "      <td>0.000000</td>\n",
       "    </tr>\n",
       "    <tr>\n",
       "      <th>25%</th>\n",
       "      <td>1.000000</td>\n",
       "      <td>0.000000</td>\n",
       "    </tr>\n",
       "    <tr>\n",
       "      <th>50%</th>\n",
       "      <td>2.000000</td>\n",
       "      <td>0.000000</td>\n",
       "    </tr>\n",
       "    <tr>\n",
       "      <th>75%</th>\n",
       "      <td>5.000000</td>\n",
       "      <td>0.000000</td>\n",
       "    </tr>\n",
       "    <tr>\n",
       "      <th>max</th>\n",
       "      <td>1055.000000</td>\n",
       "      <td>49.000000</td>\n",
       "    </tr>\n",
       "  </tbody>\n",
       "</table>\n",
       "</div>"
      ],
      "text/plain": [
       "                view          click\n",
       "count  181525.000000  181525.000000\n",
       "mean        4.207757       0.323217\n",
       "std         6.904729       1.041286\n",
       "min         1.000000       0.000000\n",
       "25%         1.000000       0.000000\n",
       "50%         2.000000       0.000000\n",
       "75%         5.000000       0.000000\n",
       "max      1055.000000      49.000000"
      ]
     },
     "execution_count": 18,
     "metadata": {},
     "output_type": "execute_result"
    }
   ],
   "source": [
    "# мммммммммммммммммммммммммммммммммммммммммммммм 1053 платежки за 2 недели ммммммммммммммммммммммммммммммм\n",
    "sql_data[['view','click']].describe()"
   ]
  },
  {
   "cell_type": "code",
   "execution_count": 19,
   "metadata": {},
   "outputs": [],
   "source": [
    "# Убираем аккуратно, нужно брать бейзлайн именно с АА теста, чтобы в АБ у нас был унифицированная граница отрубания\n",
    "views_aa_quantile = sql_data.query('part==\"AA\"')['view'].quantile(.99)\n",
    "base = sql_data.copy().where(lambda x: x['view']<views_aa_quantile).dropna()"
   ]
  },
  {
   "cell_type": "code",
   "execution_count": 20,
   "metadata": {},
   "outputs": [
    {
     "data": {
      "text/html": [
       "<div>\n",
       "<style scoped>\n",
       "    .dataframe tbody tr th:only-of-type {\n",
       "        vertical-align: middle;\n",
       "    }\n",
       "\n",
       "    .dataframe tbody tr th {\n",
       "        vertical-align: top;\n",
       "    }\n",
       "\n",
       "    .dataframe thead th {\n",
       "        text-align: right;\n",
       "    }\n",
       "</style>\n",
       "<table border=\"1\" class=\"dataframe\">\n",
       "  <thead>\n",
       "    <tr style=\"text-align: right;\">\n",
       "      <th></th>\n",
       "      <th>view</th>\n",
       "      <th>click</th>\n",
       "    </tr>\n",
       "  </thead>\n",
       "  <tbody>\n",
       "    <tr>\n",
       "      <th>count</th>\n",
       "      <td>179537.000000</td>\n",
       "      <td>179537.000000</td>\n",
       "    </tr>\n",
       "    <tr>\n",
       "      <th>mean</th>\n",
       "      <td>3.734239</td>\n",
       "      <td>0.317834</td>\n",
       "    </tr>\n",
       "    <tr>\n",
       "      <th>std</th>\n",
       "      <td>3.873744</td>\n",
       "      <td>0.972961</td>\n",
       "    </tr>\n",
       "    <tr>\n",
       "      <th>min</th>\n",
       "      <td>1.000000</td>\n",
       "      <td>0.000000</td>\n",
       "    </tr>\n",
       "    <tr>\n",
       "      <th>25%</th>\n",
       "      <td>1.000000</td>\n",
       "      <td>0.000000</td>\n",
       "    </tr>\n",
       "    <tr>\n",
       "      <th>50%</th>\n",
       "      <td>2.000000</td>\n",
       "      <td>0.000000</td>\n",
       "    </tr>\n",
       "    <tr>\n",
       "      <th>75%</th>\n",
       "      <td>5.000000</td>\n",
       "      <td>0.000000</td>\n",
       "    </tr>\n",
       "    <tr>\n",
       "      <th>max</th>\n",
       "      <td>29.000000</td>\n",
       "      <td>23.000000</td>\n",
       "    </tr>\n",
       "  </tbody>\n",
       "</table>\n",
       "</div>"
      ],
      "text/plain": [
       "                view          click\n",
       "count  179537.000000  179537.000000\n",
       "mean        3.734239       0.317834\n",
       "std         3.873744       0.972961\n",
       "min         1.000000       0.000000\n",
       "25%         1.000000       0.000000\n",
       "50%         2.000000       0.000000\n",
       "75%         5.000000       0.000000\n",
       "max        29.000000      23.000000"
      ]
     },
     "execution_count": 20,
     "metadata": {},
     "output_type": "execute_result"
    }
   ],
   "source": [
    "# Отдельно взятые средне не сместились, а вот разброс ушел - Мы молодцы!\n",
    "base[['view','click']].describe()"
   ]
  },
  {
   "cell_type": "code",
   "execution_count": 21,
   "metadata": {},
   "outputs": [],
   "source": [
    "base_test = base.groupby(['user','part','ab'])[['view','click']].sum().unstack([1,2])\n",
    "base_test = base_test['click'] / base_test['view']"
   ]
  },
  {
   "cell_type": "code",
   "execution_count": 22,
   "metadata": {},
   "outputs": [
    {
     "data": {
      "text/html": [
       "<div>\n",
       "<style scoped>\n",
       "    .dataframe tbody tr th:only-of-type {\n",
       "        vertical-align: middle;\n",
       "    }\n",
       "\n",
       "    .dataframe tbody tr th {\n",
       "        vertical-align: top;\n",
       "    }\n",
       "\n",
       "    .dataframe thead tr th {\n",
       "        text-align: left;\n",
       "    }\n",
       "</style>\n",
       "<table border=\"1\" class=\"dataframe\">\n",
       "  <thead>\n",
       "    <tr>\n",
       "      <th>part</th>\n",
       "      <th>AB</th>\n",
       "      <th>AA</th>\n",
       "      <th>AB</th>\n",
       "      <th>AA</th>\n",
       "    </tr>\n",
       "    <tr>\n",
       "      <th>ab</th>\n",
       "      <th>1.0</th>\n",
       "      <th>1.0</th>\n",
       "      <th>0.0</th>\n",
       "      <th>0.0</th>\n",
       "    </tr>\n",
       "  </thead>\n",
       "  <tbody>\n",
       "    <tr>\n",
       "      <th>count</th>\n",
       "      <td>41079.000000</td>\n",
       "      <td>48537.000000</td>\n",
       "      <td>41229.000000</td>\n",
       "      <td>48692.000000</td>\n",
       "    </tr>\n",
       "    <tr>\n",
       "      <th>mean</th>\n",
       "      <td>0.081543</td>\n",
       "      <td>0.079013</td>\n",
       "      <td>0.079465</td>\n",
       "      <td>0.078322</td>\n",
       "    </tr>\n",
       "    <tr>\n",
       "      <th>std</th>\n",
       "      <td>0.217543</td>\n",
       "      <td>0.216069</td>\n",
       "      <td>0.216574</td>\n",
       "      <td>0.214190</td>\n",
       "    </tr>\n",
       "    <tr>\n",
       "      <th>min</th>\n",
       "      <td>0.000000</td>\n",
       "      <td>0.000000</td>\n",
       "      <td>0.000000</td>\n",
       "      <td>0.000000</td>\n",
       "    </tr>\n",
       "    <tr>\n",
       "      <th>25%</th>\n",
       "      <td>0.000000</td>\n",
       "      <td>0.000000</td>\n",
       "      <td>0.000000</td>\n",
       "      <td>0.000000</td>\n",
       "    </tr>\n",
       "    <tr>\n",
       "      <th>50%</th>\n",
       "      <td>0.000000</td>\n",
       "      <td>0.000000</td>\n",
       "      <td>0.000000</td>\n",
       "      <td>0.000000</td>\n",
       "    </tr>\n",
       "    <tr>\n",
       "      <th>75%</th>\n",
       "      <td>0.000000</td>\n",
       "      <td>0.000000</td>\n",
       "      <td>0.000000</td>\n",
       "      <td>0.000000</td>\n",
       "    </tr>\n",
       "    <tr>\n",
       "      <th>max</th>\n",
       "      <td>2.000000</td>\n",
       "      <td>3.000000</td>\n",
       "      <td>2.000000</td>\n",
       "      <td>3.000000</td>\n",
       "    </tr>\n",
       "  </tbody>\n",
       "</table>\n",
       "</div>"
      ],
      "text/plain": [
       "part             AB            AA            AB            AA\n",
       "ab              1.0           1.0           0.0           0.0\n",
       "count  41079.000000  48537.000000  41229.000000  48692.000000\n",
       "mean       0.081543      0.079013      0.079465      0.078322\n",
       "std        0.217543      0.216069      0.216574      0.214190\n",
       "min        0.000000      0.000000      0.000000      0.000000\n",
       "25%        0.000000      0.000000      0.000000      0.000000\n",
       "50%        0.000000      0.000000      0.000000      0.000000\n",
       "75%        0.000000      0.000000      0.000000      0.000000\n",
       "max        2.000000      3.000000      2.000000      3.000000"
      ]
     },
     "execution_count": 22,
     "metadata": {},
     "output_type": "execute_result"
    }
   ],
   "source": [
    "# CTR 200% mmmmmmmmmmmmmmm\n",
    "base_test.describe()"
   ]
  },
  {
   "cell_type": "code",
   "execution_count": 23,
   "metadata": {},
   "outputs": [
    {
     "data": {
      "text/html": [
       "<div>\n",
       "<style scoped>\n",
       "    .dataframe tbody tr th:only-of-type {\n",
       "        vertical-align: middle;\n",
       "    }\n",
       "\n",
       "    .dataframe tbody tr th {\n",
       "        vertical-align: top;\n",
       "    }\n",
       "\n",
       "    .dataframe thead tr th {\n",
       "        text-align: left;\n",
       "    }\n",
       "\n",
       "    .dataframe thead tr:last-of-type th {\n",
       "        text-align: right;\n",
       "    }\n",
       "</style>\n",
       "<table border=\"1\" class=\"dataframe\">\n",
       "  <thead>\n",
       "    <tr>\n",
       "      <th>part</th>\n",
       "      <th>AB</th>\n",
       "      <th>AA</th>\n",
       "      <th>AB</th>\n",
       "      <th>AA</th>\n",
       "    </tr>\n",
       "    <tr>\n",
       "      <th>ab</th>\n",
       "      <th>1.0</th>\n",
       "      <th>1.0</th>\n",
       "      <th>0.0</th>\n",
       "      <th>0.0</th>\n",
       "    </tr>\n",
       "    <tr>\n",
       "      <th>user</th>\n",
       "      <th></th>\n",
       "      <th></th>\n",
       "      <th></th>\n",
       "      <th></th>\n",
       "    </tr>\n",
       "  </thead>\n",
       "  <tbody>\n",
       "    <tr>\n",
       "      <th>1000001426235542855</th>\n",
       "      <td>0.0</td>\n",
       "      <td>NaN</td>\n",
       "      <td>NaN</td>\n",
       "      <td>NaN</td>\n",
       "    </tr>\n",
       "    <tr>\n",
       "      <th>10000041164695327753</th>\n",
       "      <td>0.0</td>\n",
       "      <td>NaN</td>\n",
       "      <td>NaN</td>\n",
       "      <td>NaN</td>\n",
       "    </tr>\n",
       "    <tr>\n",
       "      <th>10000437167754453419</th>\n",
       "      <td>0.2</td>\n",
       "      <td>0.0</td>\n",
       "      <td>NaN</td>\n",
       "      <td>NaN</td>\n",
       "    </tr>\n",
       "    <tr>\n",
       "      <th>100006266691692773</th>\n",
       "      <td>NaN</td>\n",
       "      <td>NaN</td>\n",
       "      <td>0.0</td>\n",
       "      <td>NaN</td>\n",
       "    </tr>\n",
       "    <tr>\n",
       "      <th>10000729822855793980</th>\n",
       "      <td>NaN</td>\n",
       "      <td>0.0</td>\n",
       "      <td>NaN</td>\n",
       "      <td>NaN</td>\n",
       "    </tr>\n",
       "    <tr>\n",
       "      <th>...</th>\n",
       "      <td>...</td>\n",
       "      <td>...</td>\n",
       "      <td>...</td>\n",
       "      <td>...</td>\n",
       "    </tr>\n",
       "    <tr>\n",
       "      <th>9999466463717575277</th>\n",
       "      <td>NaN</td>\n",
       "      <td>NaN</td>\n",
       "      <td>0.0</td>\n",
       "      <td>0.000000</td>\n",
       "    </tr>\n",
       "    <tr>\n",
       "      <th>9999470750505133276</th>\n",
       "      <td>NaN</td>\n",
       "      <td>NaN</td>\n",
       "      <td>0.0</td>\n",
       "      <td>0.142857</td>\n",
       "    </tr>\n",
       "    <tr>\n",
       "      <th>9999529376394046543</th>\n",
       "      <td>NaN</td>\n",
       "      <td>NaN</td>\n",
       "      <td>0.0</td>\n",
       "      <td>NaN</td>\n",
       "    </tr>\n",
       "    <tr>\n",
       "      <th>9999836269161512864</th>\n",
       "      <td>NaN</td>\n",
       "      <td>NaN</td>\n",
       "      <td>0.0</td>\n",
       "      <td>0.000000</td>\n",
       "    </tr>\n",
       "    <tr>\n",
       "      <th>9999963259659259277</th>\n",
       "      <td>NaN</td>\n",
       "      <td>NaN</td>\n",
       "      <td>0.0</td>\n",
       "      <td>0.000000</td>\n",
       "    </tr>\n",
       "  </tbody>\n",
       "</table>\n",
       "<p>133185 rows × 4 columns</p>\n",
       "</div>"
      ],
      "text/plain": [
       "part                   AB   AA   AB        AA\n",
       "ab                    1.0  1.0  0.0       0.0\n",
       "user                                         \n",
       "1000001426235542855   0.0  NaN  NaN       NaN\n",
       "10000041164695327753  0.0  NaN  NaN       NaN\n",
       "10000437167754453419  0.2  0.0  NaN       NaN\n",
       "100006266691692773    NaN  NaN  0.0       NaN\n",
       "10000729822855793980  NaN  0.0  NaN       NaN\n",
       "...                   ...  ...  ...       ...\n",
       "9999466463717575277   NaN  NaN  0.0  0.000000\n",
       "9999470750505133276   NaN  NaN  0.0  0.142857\n",
       "9999529376394046543   NaN  NaN  0.0       NaN\n",
       "9999836269161512864   NaN  NaN  0.0  0.000000\n",
       "9999963259659259277   NaN  NaN  0.0  0.000000\n",
       "\n",
       "[133185 rows x 4 columns]"
      ]
     },
     "execution_count": 23,
     "metadata": {},
     "output_type": "execute_result"
    }
   ],
   "source": [
    "base_test.where(lambda x: x<=1).dropna(thresh=1)"
   ]
  },
  {
   "cell_type": "code",
   "execution_count": 24,
   "metadata": {},
   "outputs": [],
   "source": [
    "# Убираем наших уберкликеров\n",
    "base_test = base_test.where(lambda x: x<=1).dropna(thresh=1)"
   ]
  },
  {
   "cell_type": "code",
   "execution_count": 25,
   "metadata": {},
   "outputs": [
    {
     "data": {
      "text/html": [
       "<div>\n",
       "<style scoped>\n",
       "    .dataframe tbody tr th:only-of-type {\n",
       "        vertical-align: middle;\n",
       "    }\n",
       "\n",
       "    .dataframe tbody tr th {\n",
       "        vertical-align: top;\n",
       "    }\n",
       "\n",
       "    .dataframe thead tr th {\n",
       "        text-align: left;\n",
       "    }\n",
       "</style>\n",
       "<table border=\"1\" class=\"dataframe\">\n",
       "  <thead>\n",
       "    <tr>\n",
       "      <th>part</th>\n",
       "      <th>AB</th>\n",
       "      <th>AA</th>\n",
       "      <th>AB</th>\n",
       "      <th>AA</th>\n",
       "    </tr>\n",
       "    <tr>\n",
       "      <th>ab</th>\n",
       "      <th>1.0</th>\n",
       "      <th>1.0</th>\n",
       "      <th>0.0</th>\n",
       "      <th>0.0</th>\n",
       "    </tr>\n",
       "  </thead>\n",
       "  <tbody>\n",
       "    <tr>\n",
       "      <th>count</th>\n",
       "      <td>41060.000000</td>\n",
       "      <td>48479.000000</td>\n",
       "      <td>41211.000000</td>\n",
       "      <td>48634.000000</td>\n",
       "    </tr>\n",
       "    <tr>\n",
       "      <th>mean</th>\n",
       "      <td>0.080782</td>\n",
       "      <td>0.076894</td>\n",
       "      <td>0.078699</td>\n",
       "      <td>0.076247</td>\n",
       "    </tr>\n",
       "    <tr>\n",
       "      <th>std</th>\n",
       "      <td>0.214613</td>\n",
       "      <td>0.206963</td>\n",
       "      <td>0.213420</td>\n",
       "      <td>0.205294</td>\n",
       "    </tr>\n",
       "    <tr>\n",
       "      <th>min</th>\n",
       "      <td>0.000000</td>\n",
       "      <td>0.000000</td>\n",
       "      <td>0.000000</td>\n",
       "      <td>0.000000</td>\n",
       "    </tr>\n",
       "    <tr>\n",
       "      <th>25%</th>\n",
       "      <td>0.000000</td>\n",
       "      <td>0.000000</td>\n",
       "      <td>0.000000</td>\n",
       "      <td>0.000000</td>\n",
       "    </tr>\n",
       "    <tr>\n",
       "      <th>50%</th>\n",
       "      <td>0.000000</td>\n",
       "      <td>0.000000</td>\n",
       "      <td>0.000000</td>\n",
       "      <td>0.000000</td>\n",
       "    </tr>\n",
       "    <tr>\n",
       "      <th>75%</th>\n",
       "      <td>0.000000</td>\n",
       "      <td>0.000000</td>\n",
       "      <td>0.000000</td>\n",
       "      <td>0.000000</td>\n",
       "    </tr>\n",
       "    <tr>\n",
       "      <th>max</th>\n",
       "      <td>1.000000</td>\n",
       "      <td>1.000000</td>\n",
       "      <td>1.000000</td>\n",
       "      <td>1.000000</td>\n",
       "    </tr>\n",
       "  </tbody>\n",
       "</table>\n",
       "</div>"
      ],
      "text/plain": [
       "part             AB            AA            AB            AA\n",
       "ab              1.0           1.0           0.0           0.0\n",
       "count  41060.000000  48479.000000  41211.000000  48634.000000\n",
       "mean       0.080782      0.076894      0.078699      0.076247\n",
       "std        0.214613      0.206963      0.213420      0.205294\n",
       "min        0.000000      0.000000      0.000000      0.000000\n",
       "25%        0.000000      0.000000      0.000000      0.000000\n",
       "50%        0.000000      0.000000      0.000000      0.000000\n",
       "75%        0.000000      0.000000      0.000000      0.000000\n",
       "max        1.000000      1.000000      1.000000      1.000000"
      ]
     },
     "execution_count": 25,
     "metadata": {},
     "output_type": "execute_result"
    }
   ],
   "source": [
    "base_test.describe()"
   ]
  },
  {
   "cell_type": "code",
   "execution_count": 26,
   "metadata": {},
   "outputs": [],
   "source": [
    "test_of_tests['base'] = {\n",
    "                            'AA':sps.ttest_ind(base_test['AA'][0].dropna(),base_test['AA'][1].dropna()).pvalue,\n",
    "                            'AB':sps.ttest_ind(base_test['AB'][0].dropna(),base_test['AB'][1].dropna()).pvalue,\n",
    "                            }"
   ]
  },
  {
   "cell_type": "code",
   "execution_count": 27,
   "metadata": {},
   "outputs": [
    {
     "data": {
      "text/html": [
       "<div>\n",
       "<style scoped>\n",
       "    .dataframe tbody tr th:only-of-type {\n",
       "        vertical-align: middle;\n",
       "    }\n",
       "\n",
       "    .dataframe tbody tr th {\n",
       "        vertical-align: top;\n",
       "    }\n",
       "\n",
       "    .dataframe thead th {\n",
       "        text-align: right;\n",
       "    }\n",
       "</style>\n",
       "<table border=\"1\" class=\"dataframe\">\n",
       "  <thead>\n",
       "    <tr style=\"text-align: right;\">\n",
       "      <th></th>\n",
       "      <th>AA</th>\n",
       "      <th>AB</th>\n",
       "    </tr>\n",
       "  </thead>\n",
       "  <tbody>\n",
       "    <tr>\n",
       "      <th>hahahah</th>\n",
       "      <td>0.645530</td>\n",
       "      <td>0.180290</td>\n",
       "    </tr>\n",
       "    <tr>\n",
       "      <th>hahahah_log</th>\n",
       "      <td>0.702553</td>\n",
       "      <td>0.124682</td>\n",
       "    </tr>\n",
       "    <tr>\n",
       "      <th>base</th>\n",
       "      <td>0.624902</td>\n",
       "      <td>0.162786</td>\n",
       "    </tr>\n",
       "  </tbody>\n",
       "</table>\n",
       "</div>"
      ],
      "text/plain": [
       "                   AA        AB\n",
       "hahahah      0.645530  0.180290\n",
       "hahahah_log  0.702553  0.124682\n",
       "base         0.624902  0.162786"
      ]
     },
     "execution_count": 27,
     "metadata": {},
     "output_type": "execute_result"
    }
   ],
   "source": [
    "pd.DataFrame(test_of_tests).T"
   ]
  },
  {
   "cell_type": "code",
   "execution_count": 28,
   "metadata": {},
   "outputs": [],
   "source": [
    "effect_size['base'] = base_test.mean().unstack().apply(lambda x: x[1] - x[0],axis=1).to_dict()"
   ]
  },
  {
   "cell_type": "code",
   "execution_count": 29,
   "metadata": {},
   "outputs": [
    {
     "data": {
      "text/html": [
       "<div>\n",
       "<style scoped>\n",
       "    .dataframe tbody tr th:only-of-type {\n",
       "        vertical-align: middle;\n",
       "    }\n",
       "\n",
       "    .dataframe tbody tr th {\n",
       "        vertical-align: top;\n",
       "    }\n",
       "\n",
       "    .dataframe thead th {\n",
       "        text-align: right;\n",
       "    }\n",
       "</style>\n",
       "<table border=\"1\" class=\"dataframe\">\n",
       "  <thead>\n",
       "    <tr style=\"text-align: right;\">\n",
       "      <th></th>\n",
       "      <th>AA</th>\n",
       "      <th>AB</th>\n",
       "    </tr>\n",
       "  </thead>\n",
       "  <tbody>\n",
       "    <tr>\n",
       "      <th>hahahah</th>\n",
       "      <td>0.645530</td>\n",
       "      <td>0.180290</td>\n",
       "    </tr>\n",
       "    <tr>\n",
       "      <th>hahahah_log</th>\n",
       "      <td>0.702553</td>\n",
       "      <td>0.124682</td>\n",
       "    </tr>\n",
       "    <tr>\n",
       "      <th>base</th>\n",
       "      <td>0.624902</td>\n",
       "      <td>0.162786</td>\n",
       "    </tr>\n",
       "    <tr>\n",
       "      <th>base_log</th>\n",
       "      <td>0.679356</td>\n",
       "      <td>0.115914</td>\n",
       "    </tr>\n",
       "  </tbody>\n",
       "</table>\n",
       "</div>"
      ],
      "text/plain": [
       "                   AA        AB\n",
       "hahahah      0.645530  0.180290\n",
       "hahahah_log  0.702553  0.124682\n",
       "base         0.624902  0.162786\n",
       "base_log     0.679356  0.115914"
      ]
     },
     "execution_count": 29,
     "metadata": {},
     "output_type": "execute_result"
    }
   ],
   "source": [
    "test_of_tests['base_log'] = {\n",
    "                            'AA':sps.ttest_ind(base_test['AA'][0].dropna().apply(np.log1p),base_test['AA'][1].dropna().apply(np.log1p)).pvalue,\n",
    "                            'AB':sps.ttest_ind(base_test['AB'][0].dropna().apply(np.log1p),base_test['AB'][1].dropna().apply(np.log1p)).pvalue,\n",
    "                            }\n",
    "pd.DataFrame(test_of_tests).T"
   ]
  },
  {
   "cell_type": "code",
   "execution_count": 30,
   "metadata": {},
   "outputs": [],
   "source": [
    "effect_size['base_log'] = base_test.apply(np.log1p).mean().unstack().apply(lambda x: x[1] - x[0],axis=1).to_dict()"
   ]
  },
  {
   "cell_type": "markdown",
   "metadata": {},
   "source": [
    "# Наш выбор если CTR (Linearization)\n",
    "* Оч просто\n",
    "* Но не понято\n",
    "\n",
    "<img src='https://icdn.lenta.ru/images/2017/10/02/18/20171002185339048/original_d914c38487d8383acb871620d1d3eef3.jpg' width=400 height=400/>"
   ]
  },
  {
   "cell_type": "code",
   "execution_count": 31,
   "metadata": {},
   "outputs": [],
   "source": [
    "# берем CTR контроля и считаем новую метрику, как разницу скликов и произведения просмотров на наш CTR контроля.\n",
    "# По итогу получаем в обоих случаях среднее контрольной группы 0, а тритмента в размере нашего аплифта\n"
   ]
  },
  {
   "cell_type": "code",
   "execution_count": 32,
   "metadata": {},
   "outputs": [],
   "source": [
    "linear_test = base.groupby(['user','part','ab'])[['view','click']].sum().unstack([1,2])"
   ]
  },
  {
   "cell_type": "code",
   "execution_count": 33,
   "metadata": {},
   "outputs": [],
   "source": [
    "k = linear_test['click'].sum().div(linear_test['view'].sum()).unstack()[0].rename('k')"
   ]
  },
  {
   "cell_type": "code",
   "execution_count": 34,
   "metadata": {},
   "outputs": [
    {
     "data": {
      "text/plain": [
       "part\n",
       "AA    0.087475\n",
       "AB    0.079888\n",
       "Name: k, dtype: float64"
      ]
     },
     "execution_count": 34,
     "metadata": {},
     "output_type": "execute_result"
    }
   ],
   "source": [
    "k"
   ]
  },
  {
   "cell_type": "code",
   "execution_count": 35,
   "metadata": {},
   "outputs": [],
   "source": [
    "linear_test = linear_test['click'] - linear_test['view'].apply(lambda x: x * k[x.name[0]])"
   ]
  },
  {
   "cell_type": "code",
   "execution_count": 36,
   "metadata": {},
   "outputs": [],
   "source": [
    "test_of_tests['linear'] = {\n",
    "                            'AA':sps.ttest_ind(linear_test['AA'][0].dropna(),linear_test['AA'][1].dropna()).pvalue,\n",
    "                            'AB':sps.ttest_ind(linear_test['AB'][0].dropna(),linear_test['AB'][1].dropna()).pvalue,\n",
    "                            }"
   ]
  },
  {
   "cell_type": "code",
   "execution_count": 37,
   "metadata": {},
   "outputs": [
    {
     "data": {
      "text/html": [
       "<div>\n",
       "<style scoped>\n",
       "    .dataframe tbody tr th:only-of-type {\n",
       "        vertical-align: middle;\n",
       "    }\n",
       "\n",
       "    .dataframe tbody tr th {\n",
       "        vertical-align: top;\n",
       "    }\n",
       "\n",
       "    .dataframe thead th {\n",
       "        text-align: right;\n",
       "    }\n",
       "</style>\n",
       "<table border=\"1\" class=\"dataframe\">\n",
       "  <thead>\n",
       "    <tr style=\"text-align: right;\">\n",
       "      <th></th>\n",
       "      <th>AA</th>\n",
       "      <th>AB</th>\n",
       "    </tr>\n",
       "  </thead>\n",
       "  <tbody>\n",
       "    <tr>\n",
       "      <th>hahahah</th>\n",
       "      <td>0.645530</td>\n",
       "      <td>0.180290</td>\n",
       "    </tr>\n",
       "    <tr>\n",
       "      <th>hahahah_log</th>\n",
       "      <td>0.702553</td>\n",
       "      <td>0.124682</td>\n",
       "    </tr>\n",
       "    <tr>\n",
       "      <th>base</th>\n",
       "      <td>0.624902</td>\n",
       "      <td>0.162786</td>\n",
       "    </tr>\n",
       "    <tr>\n",
       "      <th>base_log</th>\n",
       "      <td>0.679356</td>\n",
       "      <td>0.115914</td>\n",
       "    </tr>\n",
       "    <tr>\n",
       "      <th>linear</th>\n",
       "      <td>0.811256</td>\n",
       "      <td>0.012530</td>\n",
       "    </tr>\n",
       "  </tbody>\n",
       "</table>\n",
       "</div>"
      ],
      "text/plain": [
       "                   AA        AB\n",
       "hahahah      0.645530  0.180290\n",
       "hahahah_log  0.702553  0.124682\n",
       "base         0.624902  0.162786\n",
       "base_log     0.679356  0.115914\n",
       "linear       0.811256  0.012530"
      ]
     },
     "execution_count": 37,
     "metadata": {},
     "output_type": "execute_result"
    }
   ],
   "source": [
    "pd.DataFrame(test_of_tests).T"
   ]
  },
  {
   "cell_type": "code",
   "execution_count": 38,
   "metadata": {},
   "outputs": [],
   "source": [
    "effect_size['linear'] = linear_test.mean().unstack().apply(lambda x: x[1] - x[0],axis=1).to_dict()"
   ]
  },
  {
   "cell_type": "markdown",
   "metadata": {},
   "source": [
    "# Наш выбор если CTR Flex\n",
    "* Оч просто\n",
    "* Чуть понятнее\n",
    "\n",
    "<img src='https://encrypted-tbn0.gstatic.com/images?q=tbn:ANd9GcTpmP9dQlzF3siuqQNZhn042VnKknN10ZDa7Q&usqp=CAU' width=400 height=400/>"
   ]
  },
  {
   "cell_type": "code",
   "execution_count": 39,
   "metadata": {},
   "outputs": [],
   "source": [
    "bayesian_test = base.groupby(['user','part','ab'])[['view','click']].sum().unstack([1,2]).sum()\n"
   ]
  },
  {
   "cell_type": "code",
   "execution_count": 40,
   "metadata": {},
   "outputs": [],
   "source": [
    "AA_control = sps.beta(*bayesian_test.swaplevel(0,2)[0]['AA'][['click','view']].values).rvs(10000)\n",
    "AA_threatment = sps.beta(*bayesian_test.swaplevel(0,2)[1]['AA'][['click','view']].values).rvs(10000)\n",
    "AB_control = sps.beta(*bayesian_test.swaplevel(0,2)[0]['AB'][['click','view']].values).rvs(10000)\n",
    "AB_threatment = sps.beta(*bayesian_test.swaplevel(0,2)[1]['AB'][['click','view']].values).rvs(10000)"
   ]
  },
  {
   "cell_type": "code",
   "execution_count": 41,
   "metadata": {},
   "outputs": [
    {
     "data": {
      "text/plain": [
       "Text(0.5, 1.0, 'AA test')"
      ]
     },
     "execution_count": 41,
     "metadata": {},
     "output_type": "execute_result"
    },
    {
     "data": {
      "image/png": "[encoded data removed]",
      "text/plain": [
       "<Figure size 1080x432 with 1 Axes>"
      ]
     },
     "metadata": {},
     "output_type": "display_data"
    }
   ],
   "source": [
    "plt.hist(AA_control,bins=100);\n",
    "plt.hist(AA_threatment,bins=100);\n",
    "plt.title('AA test')"
   ]
  },
  {
   "cell_type": "code",
   "execution_count": 42,
   "metadata": {},
   "outputs": [
    {
     "data": {
      "text/plain": [
       "Text(0.5, 1.0, 'AB test')"
      ]
     },
     "execution_count": 42,
     "metadata": {},
     "output_type": "execute_result"
    },
    {
     "data": {
      "image/png": "[encoded data removed]",
      "text/plain": [
       "<Figure size 1080x432 with 1 Axes>"
      ]
     },
     "metadata": {},
     "output_type": "display_data"
    }
   ],
   "source": [
    "plt.hist(AB_control,bins=100);\n",
    "plt.hist(AB_threatment,bins=100);\n",
    "plt.title('AB test')"
   ]
  },
  {
   "cell_type": "code",
   "execution_count": 43,
   "metadata": {},
   "outputs": [],
   "source": [
    "# А как формализовать? "
   ]
  },
  {
   "cell_type": "code",
   "execution_count": 44,
   "metadata": {},
   "outputs": [
    {
     "data": {
      "text/plain": [
       "<matplotlib.lines.Line2D at 0x7fed54963ee0>"
      ]
     },
     "execution_count": 44,
     "metadata": {},
     "output_type": "execute_result"
    },
    {
     "data": {
      "image/png": "[encoded data removed]",
      "text/plain": [
       "<Figure size 1080x432 with 1 Axes>"
      ]
     },
     "metadata": {},
     "output_type": "display_data"
    }
   ],
   "source": [
    "# Посмотрим разницу\n",
    "plt.hist(AA_threatment - AA_control,bins=100);\n",
    "plt.axvline(0,linestyle='--',color='g')"
   ]
  },
  {
   "cell_type": "code",
   "execution_count": 45,
   "metadata": {},
   "outputs": [
    {
     "data": {
      "text/plain": [
       "Text(0.5, 1.0, 'Вероятность того, что вариант Б лучше 65.50%')"
      ]
     },
     "execution_count": 45,
     "metadata": {},
     "output_type": "execute_result"
    },
    {
     "data": {
      "image/png": "[encoded data removed]",
      "text/plain": [
       "<Figure size 1080x432 with 1 Axes>"
      ]
     },
     "metadata": {},
     "output_type": "display_data"
    }
   ],
   "source": [
    "# А теперь посчитаем сколько в скольких случаев тритмент лучше нашего контроля\n",
    "# Серая область это когда лучше контроль, красная, когда лучше тритмент\n",
    "# И теперь оцениваем объем и сравниваем\n",
    "plt.hist((AA_threatment - AA_control)[(AA_threatment - AA_control)<0],bins=100,color='grey');\n",
    "plt.hist((AA_threatment - AA_control)[(AA_threatment - AA_control)>0],bins=100);\n",
    "plt.axvline(0,linestyle='--',color='g')\n",
    "plt.title(f'Вероятность того, что вариант Б лучше {(AA_threatment > AA_control).mean():.2%}')"
   ]
  },
  {
   "cell_type": "code",
   "execution_count": null,
   "metadata": {},
   "outputs": [],
   "source": []
  },
  {
   "cell_type": "code",
   "execution_count": 46,
   "metadata": {},
   "outputs": [
    {
     "data": {
      "text/plain": [
       "Text(0.5, 1.0, 'Вероятность того, что вариант Б лучше 100.00%')"
      ]
     },
     "execution_count": 46,
     "metadata": {},
     "output_type": "execute_result"
    },
    {
     "data": {
      "image/png": "[encoded data removed]",
      "text/plain": [
       "<Figure size 1080x432 with 1 Axes>"
      ]
     },
     "metadata": {},
     "output_type": "display_data"
    }
   ],
   "source": [
    "# Посмотрим разницу\n",
    "plt.hist(AB_threatment - AB_control,bins=100);\n",
    "plt.axvline(0,linestyle='--',color='g')\n",
    "plt.title(f'Вероятность того, что вариант Б лучше {(AB_threatment > AB_control).mean():.2%}')"
   ]
  },
  {
   "cell_type": "code",
   "execution_count": 47,
   "metadata": {},
   "outputs": [
    {
     "data": {
      "text/plain": [
       "Text(0.5, 1.0, 'Uplift от наших улучшений 4.72%')"
      ]
     },
     "execution_count": 47,
     "metadata": {},
     "output_type": "execute_result"
    },
    {
     "data": {
      "image/png": "[encoded data removed]",
      "text/plain": [
       "<Figure size 1080x432 with 1 Axes>"
      ]
     },
     "metadata": {},
     "output_type": "display_data"
    }
   ],
   "source": [
    "# Посмотрим разницу\n",
    "plt.hist((AB_threatment - AB_control) / AB_threatment,bins=100);\n",
    "plt.axvline(0,linestyle='--',color='g')\n",
    "plt.title(f'Uplift от наших улучшений {((AB_threatment - AB_control) / AB_threatment).mean():.2%}')"
   ]
  },
  {
   "cell_type": "code",
   "execution_count": 48,
   "metadata": {},
   "outputs": [],
   "source": [
    "test_of_tests['bayesian'] = {\n",
    "                            'AA':min((AA_threatment > AA_control).mean(),1 - (AA_threatment > AA_control).mean()) * 2,\n",
    "                            'AB':min((AB_threatment > AB_control).mean(),1 - (AB_threatment > AB_control).mean()) * 2,\n",
    "                            }"
   ]
  },
  {
   "cell_type": "code",
   "execution_count": 49,
   "metadata": {},
   "outputs": [
    {
     "data": {
      "text/html": [
       "<div>\n",
       "<style scoped>\n",
       "    .dataframe tbody tr th:only-of-type {\n",
       "        vertical-align: middle;\n",
       "    }\n",
       "\n",
       "    .dataframe tbody tr th {\n",
       "        vertical-align: top;\n",
       "    }\n",
       "\n",
       "    .dataframe thead th {\n",
       "        text-align: right;\n",
       "    }\n",
       "</style>\n",
       "<table border=\"1\" class=\"dataframe\">\n",
       "  <thead>\n",
       "    <tr style=\"text-align: right;\">\n",
       "      <th></th>\n",
       "      <th>AA</th>\n",
       "      <th>AB</th>\n",
       "    </tr>\n",
       "  </thead>\n",
       "  <tbody>\n",
       "    <tr>\n",
       "      <th>hahahah</th>\n",
       "      <td>0.645530</td>\n",
       "      <td>0.180290</td>\n",
       "    </tr>\n",
       "    <tr>\n",
       "      <th>hahahah_log</th>\n",
       "      <td>0.702553</td>\n",
       "      <td>0.124682</td>\n",
       "    </tr>\n",
       "    <tr>\n",
       "      <th>base</th>\n",
       "      <td>0.624902</td>\n",
       "      <td>0.162786</td>\n",
       "    </tr>\n",
       "    <tr>\n",
       "      <th>base_log</th>\n",
       "      <td>0.679356</td>\n",
       "      <td>0.115914</td>\n",
       "    </tr>\n",
       "    <tr>\n",
       "      <th>linear</th>\n",
       "      <td>0.811256</td>\n",
       "      <td>0.012530</td>\n",
       "    </tr>\n",
       "    <tr>\n",
       "      <th>bayesian</th>\n",
       "      <td>0.690000</td>\n",
       "      <td>0.000000</td>\n",
       "    </tr>\n",
       "  </tbody>\n",
       "</table>\n",
       "</div>"
      ],
      "text/plain": [
       "                   AA        AB\n",
       "hahahah      0.645530  0.180290\n",
       "hahahah_log  0.702553  0.124682\n",
       "base         0.624902  0.162786\n",
       "base_log     0.679356  0.115914\n",
       "linear       0.811256  0.012530\n",
       "bayesian     0.690000  0.000000"
      ]
     },
     "execution_count": 49,
     "metadata": {},
     "output_type": "execute_result"
    }
   ],
   "source": [
    "pd.DataFrame(test_of_tests).T"
   ]
  },
  {
   "cell_type": "code",
   "execution_count": 50,
   "metadata": {},
   "outputs": [],
   "source": [
    "effect_size ['bayesian'] = {'AA':AA_threatment.mean() - AA_control.mean(),\n",
    "                            'AB':AB_threatment.mean() - AB_control.mean()}"
   ]
  },
  {
   "cell_type": "markdown",
   "metadata": {},
   "source": [
    "# Наш выбор если CTR + важна активность (Перевзвешивание)\n",
    "* Сложновато\n",
    "* Зато понятно почему\n",
    "\n",
    "<img src='http://images2.memedroid.com/images/UPLOADED37/5160beb129d16.jpeg' width=400 height=400/>"
   ]
  },
  {
   "cell_type": "code",
   "execution_count": 51,
   "metadata": {},
   "outputs": [],
   "source": [
    "reweight_test = base.groupby(['user','part','ab'])[['view','click']].sum().unstack([1,2])"
   ]
  },
  {
   "cell_type": "code",
   "execution_count": 52,
   "metadata": {},
   "outputs": [],
   "source": [
    "weight_coef = np.sqrt(reweight_test['view'])"
   ]
  },
  {
   "cell_type": "code",
   "execution_count": null,
   "metadata": {},
   "outputs": [],
   "source": []
  },
  {
   "cell_type": "code",
   "execution_count": 53,
   "metadata": {},
   "outputs": [
    {
     "data": {
      "text/html": [
       "<div>\n",
       "<style scoped>\n",
       "    .dataframe tbody tr th:only-of-type {\n",
       "        vertical-align: middle;\n",
       "    }\n",
       "\n",
       "    .dataframe tbody tr th {\n",
       "        vertical-align: top;\n",
       "    }\n",
       "\n",
       "    .dataframe thead th {\n",
       "        text-align: right;\n",
       "    }\n",
       "</style>\n",
       "<table border=\"1\" class=\"dataframe\">\n",
       "  <thead>\n",
       "    <tr style=\"text-align: right;\">\n",
       "      <th>ab</th>\n",
       "      <th>0.0</th>\n",
       "      <th>1.0</th>\n",
       "    </tr>\n",
       "    <tr>\n",
       "      <th>part</th>\n",
       "      <th></th>\n",
       "      <th></th>\n",
       "    </tr>\n",
       "  </thead>\n",
       "  <tbody>\n",
       "    <tr>\n",
       "      <th>AA</th>\n",
       "      <td>0.078322</td>\n",
       "      <td>0.079013</td>\n",
       "    </tr>\n",
       "    <tr>\n",
       "      <th>AB</th>\n",
       "      <td>0.079465</td>\n",
       "      <td>0.081543</td>\n",
       "    </tr>\n",
       "  </tbody>\n",
       "</table>\n",
       "</div>"
      ],
      "text/plain": [
       "ab         0.0       1.0\n",
       "part                    \n",
       "AA    0.078322  0.079013\n",
       "AB    0.079465  0.081543"
      ]
     },
     "execution_count": 53,
     "metadata": {},
     "output_type": "execute_result"
    }
   ],
   "source": [
    "# average CTR\n",
    "avg_ctr = (reweight_test['click'] / reweight_test['view']).mean().unstack()\n",
    "avg_ctr"
   ]
  },
  {
   "cell_type": "code",
   "execution_count": 54,
   "metadata": {},
   "outputs": [
    {
     "data": {
      "text/html": [
       "<div>\n",
       "<style scoped>\n",
       "    .dataframe tbody tr th:only-of-type {\n",
       "        vertical-align: middle;\n",
       "    }\n",
       "\n",
       "    .dataframe tbody tr th {\n",
       "        vertical-align: top;\n",
       "    }\n",
       "\n",
       "    .dataframe thead th {\n",
       "        text-align: right;\n",
       "    }\n",
       "</style>\n",
       "<table border=\"1\" class=\"dataframe\">\n",
       "  <thead>\n",
       "    <tr style=\"text-align: right;\">\n",
       "      <th>ab</th>\n",
       "      <th>0.0</th>\n",
       "      <th>1.0</th>\n",
       "    </tr>\n",
       "    <tr>\n",
       "      <th>part</th>\n",
       "      <th></th>\n",
       "      <th></th>\n",
       "    </tr>\n",
       "  </thead>\n",
       "  <tbody>\n",
       "    <tr>\n",
       "      <th>AA</th>\n",
       "      <td>0.087475</td>\n",
       "      <td>0.087872</td>\n",
       "    </tr>\n",
       "    <tr>\n",
       "      <th>AB</th>\n",
       "      <td>0.079888</td>\n",
       "      <td>0.084196</td>\n",
       "    </tr>\n",
       "  </tbody>\n",
       "</table>\n",
       "</div>"
      ],
      "text/plain": [
       "ab         0.0       1.0\n",
       "part                    \n",
       "AA    0.087475  0.087872\n",
       "AB    0.079888  0.084196"
      ]
     },
     "execution_count": 54,
     "metadata": {},
     "output_type": "execute_result"
    }
   ],
   "source": [
    "# Global CTR\n",
    "global_ctr = (reweight_test['click'].sum() / reweight_test['view'].sum()).unstack()\n",
    "global_ctr"
   ]
  },
  {
   "cell_type": "code",
   "execution_count": 55,
   "metadata": {},
   "outputs": [
    {
     "data": {
      "text/html": [
       "<div>\n",
       "<style scoped>\n",
       "    .dataframe tbody tr th:only-of-type {\n",
       "        vertical-align: middle;\n",
       "    }\n",
       "\n",
       "    .dataframe tbody tr th {\n",
       "        vertical-align: top;\n",
       "    }\n",
       "\n",
       "    .dataframe thead th {\n",
       "        text-align: right;\n",
       "    }\n",
       "</style>\n",
       "<table border=\"1\" class=\"dataframe\">\n",
       "  <thead>\n",
       "    <tr style=\"text-align: right;\">\n",
       "      <th>ab</th>\n",
       "      <th>0.0</th>\n",
       "      <th>1.0</th>\n",
       "    </tr>\n",
       "    <tr>\n",
       "      <th>part</th>\n",
       "      <th></th>\n",
       "      <th></th>\n",
       "    </tr>\n",
       "  </thead>\n",
       "  <tbody>\n",
       "    <tr>\n",
       "      <th>AA</th>\n",
       "      <td>0.085383</td>\n",
       "      <td>0.085793</td>\n",
       "    </tr>\n",
       "    <tr>\n",
       "      <th>AB</th>\n",
       "      <td>0.082261</td>\n",
       "      <td>0.085341</td>\n",
       "    </tr>\n",
       "  </tbody>\n",
       "</table>\n",
       "</div>"
      ],
      "text/plain": [
       "ab         0.0       1.0\n",
       "part                    \n",
       "AA    0.085383  0.085793\n",
       "AB    0.082261  0.085341"
      ]
     },
     "execution_count": 55,
     "metadata": {},
     "output_type": "execute_result"
    }
   ],
   "source": [
    "# С нелинейным учетом веса\n",
    "reweight_ctr = reweight_test['click'].div(reweight_test['view']).mul(weight_coef).div(weight_coef.mean()).mean().unstack()\n",
    "reweight_ctr"
   ]
  },
  {
   "cell_type": "code",
   "execution_count": 56,
   "metadata": {},
   "outputs": [
    {
     "data": {
      "text/plain": [
       "<matplotlib.legend.Legend at 0x7fed54385340>"
      ]
     },
     "execution_count": 56,
     "metadata": {},
     "output_type": "execute_result"
    },
    {
     "data": {
      "image/png": "[encoded data removed]",
      "text/plain": [
       "<Figure size 1080x432 with 1 Axes>"
      ]
     },
     "metadata": {},
     "output_type": "display_data"
    }
   ],
   "source": [
    "# Различные веса\n",
    "# plt.plot(np.linspace(0,100),np.linspace(0,100))\n",
    "plt.plot(np.linspace(0,100),np.ones(50))\n",
    "plt.plot(np.linspace(0,100),np.linspace(0,100)**.5)\n",
    "plt.plot(np.linspace(0,100),np.log(np.linspace(0,100)))\n",
    "plt.legend(['Average CTR','SQRT weight','Log weight'])"
   ]
  },
  {
   "cell_type": "code",
   "execution_count": 57,
   "metadata": {},
   "outputs": [
    {
     "data": {
      "text/html": [
       "<div>\n",
       "<style scoped>\n",
       "    .dataframe tbody tr th:only-of-type {\n",
       "        vertical-align: middle;\n",
       "    }\n",
       "\n",
       "    .dataframe tbody tr th {\n",
       "        vertical-align: top;\n",
       "    }\n",
       "\n",
       "    .dataframe thead th {\n",
       "        text-align: right;\n",
       "    }\n",
       "</style>\n",
       "<table border=\"1\" class=\"dataframe\">\n",
       "  <thead>\n",
       "    <tr style=\"text-align: right;\">\n",
       "      <th>ab</th>\n",
       "      <th>0.0</th>\n",
       "      <th>1.0</th>\n",
       "    </tr>\n",
       "    <tr>\n",
       "      <th>part</th>\n",
       "      <th></th>\n",
       "      <th></th>\n",
       "    </tr>\n",
       "  </thead>\n",
       "  <tbody>\n",
       "    <tr>\n",
       "      <th>AA</th>\n",
       "      <td>0.084824</td>\n",
       "      <td>0.085256</td>\n",
       "    </tr>\n",
       "    <tr>\n",
       "      <th>AB</th>\n",
       "      <td>0.081980</td>\n",
       "      <td>0.085075</td>\n",
       "    </tr>\n",
       "  </tbody>\n",
       "</table>\n",
       "</div>"
      ],
      "text/plain": [
       "ab         0.0       1.0\n",
       "part                    \n",
       "AA    0.084824  0.085256\n",
       "AB    0.081980  0.085075"
      ]
     },
     "execution_count": 57,
     "metadata": {},
     "output_type": "execute_result"
    }
   ],
   "source": [
    "alpha = 1\n",
    "kw = reweight_test['click'].sum().div(reweight_test['view'].sum()) * alpha\n",
    "reweight_test['click'].add( kw).div(reweight_test['view'].add( alpha)).mean().unstack()"
   ]
  },
  {
   "cell_type": "code",
   "execution_count": 58,
   "metadata": {},
   "outputs": [],
   "source": [
    "alpha_df = []\n",
    "for alpha in np.linspace(0,1):\n",
    "    kw = reweight_test['click'].sum().div(reweight_test['view'].sum()) * alpha\n",
    "    alpha_df.append(reweight_test['click'].add( kw).div(reweight_test['view'].add( alpha)).mean().rename(alpha))\n",
    "alpha_df = pd.concat(alpha_df,axis=1)"
   ]
  },
  {
   "cell_type": "code",
   "execution_count": 59,
   "metadata": {},
   "outputs": [
    {
     "data": {
      "image/png": "[encoded data removed]",
      "text/plain": [
       "<Figure size 1080x432 with 4 Axes>"
      ]
     },
     "metadata": {},
     "output_type": "display_data"
    }
   ],
   "source": [
    "fig,ax = plt.subplots(2,2)\n",
    "alpha_df.T.plot(subplots=True,ax=ax,xlabel='alpha',ylabel='CTR')\n",
    "ax[0,0].scatter(x=1,y=global_ctr.loc['AB',1])\n",
    "ax[0,0].scatter(x=0,y=avg_ctr.loc['AB',1])\n",
    "ax[0,0].scatter(x=.5,y=reweight_ctr.loc['AB',1])\n",
    "\n",
    "\n",
    "ax[0,1].scatter(x=1,y=global_ctr.loc['AA',1])\n",
    "ax[0,1].scatter(x=0,y=avg_ctr.loc['AA',1])\n",
    "ax[0,1].scatter(x=.5,y=reweight_ctr.loc['AA',1])\n",
    "\n",
    "ax[1,0].scatter(x=1,y=global_ctr.loc['AB',0])\n",
    "ax[1,0].scatter(x=0,y=avg_ctr.loc['AB',0])\n",
    "ax[1,0].scatter(x=.5,y=reweight_ctr.loc['AB',0])\n",
    "\n",
    "ax[1,1].scatter(x=1,y=global_ctr.loc['AA',0])\n",
    "ax[1,1].scatter(x=0,y=avg_ctr.loc['AA',0])\n",
    "ax[1,1].scatter(x=.5,y=reweight_ctr.loc['AA',0])\n",
    "plt.tight_layout()"
   ]
  },
  {
   "cell_type": "code",
   "execution_count": null,
   "metadata": {},
   "outputs": [],
   "source": []
  },
  {
   "cell_type": "code",
   "execution_count": 60,
   "metadata": {},
   "outputs": [],
   "source": [
    "reweight_test_df = reweight_test['click'].add( kw).div(reweight_test['view'].add( alpha))"
   ]
  },
  {
   "cell_type": "code",
   "execution_count": 61,
   "metadata": {},
   "outputs": [],
   "source": [
    "test_of_tests['reweight_ctr_coef'] = {\n",
    "                            'AA':sps.ttest_ind(reweight_test_df['AA'][0].dropna(),reweight_test_df['AA'][1].dropna()).pvalue,\n",
    "                            'AB':sps.ttest_ind(reweight_test_df['AB'][0].dropna(),reweight_test_df['AB'][1].dropna()).pvalue,\n",
    "                            }"
   ]
  },
  {
   "cell_type": "code",
   "execution_count": 62,
   "metadata": {},
   "outputs": [
    {
     "data": {
      "text/html": [
       "<div>\n",
       "<style scoped>\n",
       "    .dataframe tbody tr th:only-of-type {\n",
       "        vertical-align: middle;\n",
       "    }\n",
       "\n",
       "    .dataframe tbody tr th {\n",
       "        vertical-align: top;\n",
       "    }\n",
       "\n",
       "    .dataframe thead th {\n",
       "        text-align: right;\n",
       "    }\n",
       "</style>\n",
       "<table border=\"1\" class=\"dataframe\">\n",
       "  <thead>\n",
       "    <tr style=\"text-align: right;\">\n",
       "      <th></th>\n",
       "      <th>AA</th>\n",
       "      <th>AB</th>\n",
       "    </tr>\n",
       "  </thead>\n",
       "  <tbody>\n",
       "    <tr>\n",
       "      <th>hahahah</th>\n",
       "      <td>0.645530</td>\n",
       "      <td>0.180290</td>\n",
       "    </tr>\n",
       "    <tr>\n",
       "      <th>hahahah_log</th>\n",
       "      <td>0.702553</td>\n",
       "      <td>0.124682</td>\n",
       "    </tr>\n",
       "    <tr>\n",
       "      <th>base</th>\n",
       "      <td>0.624902</td>\n",
       "      <td>0.162786</td>\n",
       "    </tr>\n",
       "    <tr>\n",
       "      <th>base_log</th>\n",
       "      <td>0.679356</td>\n",
       "      <td>0.115914</td>\n",
       "    </tr>\n",
       "    <tr>\n",
       "      <th>linear</th>\n",
       "      <td>0.811256</td>\n",
       "      <td>0.012530</td>\n",
       "    </tr>\n",
       "    <tr>\n",
       "      <th>bayesian</th>\n",
       "      <td>0.690000</td>\n",
       "      <td>0.000000</td>\n",
       "    </tr>\n",
       "    <tr>\n",
       "      <th>reweight_ctr_coef</th>\n",
       "      <td>0.656736</td>\n",
       "      <td>0.003065</td>\n",
       "    </tr>\n",
       "  </tbody>\n",
       "</table>\n",
       "</div>"
      ],
      "text/plain": [
       "                         AA        AB\n",
       "hahahah            0.645530  0.180290\n",
       "hahahah_log        0.702553  0.124682\n",
       "base               0.624902  0.162786\n",
       "base_log           0.679356  0.115914\n",
       "linear             0.811256  0.012530\n",
       "bayesian           0.690000  0.000000\n",
       "reweight_ctr_coef  0.656736  0.003065"
      ]
     },
     "execution_count": 62,
     "metadata": {},
     "output_type": "execute_result"
    }
   ],
   "source": [
    "pd.DataFrame(test_of_tests).T"
   ]
  },
  {
   "cell_type": "code",
   "execution_count": 63,
   "metadata": {},
   "outputs": [],
   "source": [
    "effect_size['reweight_ctr_coef'] = reweight_test_df.mean().unstack().apply(lambda x: x[1] - x[0],axis=1).to_dict()"
   ]
  },
  {
   "cell_type": "code",
   "execution_count": 64,
   "metadata": {},
   "outputs": [],
   "source": [
    "reweight_test_df = reweight_test['click'].div(reweight_test['view']).mul(weight_coef).div(weight_coef.mean())"
   ]
  },
  {
   "cell_type": "code",
   "execution_count": 65,
   "metadata": {},
   "outputs": [],
   "source": [
    "test_of_tests['reweight_ctr'] = {\n",
    "                            'AA':sps.ttest_ind(reweight_test_df['AA'][0].dropna(),reweight_test_df['AA'][1].dropna()).pvalue,\n",
    "                            'AB':sps.ttest_ind(reweight_test_df['AB'][0].dropna(),reweight_test_df['AB'][1].dropna()).pvalue,\n",
    "                            }"
   ]
  },
  {
   "cell_type": "code",
   "execution_count": 66,
   "metadata": {},
   "outputs": [
    {
     "data": {
      "text/html": [
       "<div>\n",
       "<style scoped>\n",
       "    .dataframe tbody tr th:only-of-type {\n",
       "        vertical-align: middle;\n",
       "    }\n",
       "\n",
       "    .dataframe tbody tr th {\n",
       "        vertical-align: top;\n",
       "    }\n",
       "\n",
       "    .dataframe thead th {\n",
       "        text-align: right;\n",
       "    }\n",
       "</style>\n",
       "<table border=\"1\" class=\"dataframe\">\n",
       "  <thead>\n",
       "    <tr style=\"text-align: right;\">\n",
       "      <th></th>\n",
       "      <th>AA</th>\n",
       "      <th>AB</th>\n",
       "    </tr>\n",
       "  </thead>\n",
       "  <tbody>\n",
       "    <tr>\n",
       "      <th>hahahah</th>\n",
       "      <td>0.645530</td>\n",
       "      <td>0.180290</td>\n",
       "    </tr>\n",
       "    <tr>\n",
       "      <th>hahahah_log</th>\n",
       "      <td>0.702553</td>\n",
       "      <td>0.124682</td>\n",
       "    </tr>\n",
       "    <tr>\n",
       "      <th>base</th>\n",
       "      <td>0.624902</td>\n",
       "      <td>0.162786</td>\n",
       "    </tr>\n",
       "    <tr>\n",
       "      <th>base_log</th>\n",
       "      <td>0.679356</td>\n",
       "      <td>0.115914</td>\n",
       "    </tr>\n",
       "    <tr>\n",
       "      <th>linear</th>\n",
       "      <td>0.811256</td>\n",
       "      <td>0.012530</td>\n",
       "    </tr>\n",
       "    <tr>\n",
       "      <th>bayesian</th>\n",
       "      <td>0.690000</td>\n",
       "      <td>0.000000</td>\n",
       "    </tr>\n",
       "    <tr>\n",
       "      <th>reweight_ctr_coef</th>\n",
       "      <td>0.656736</td>\n",
       "      <td>0.003065</td>\n",
       "    </tr>\n",
       "    <tr>\n",
       "      <th>reweight_ctr</th>\n",
       "      <td>0.779160</td>\n",
       "      <td>0.045775</td>\n",
       "    </tr>\n",
       "  </tbody>\n",
       "</table>\n",
       "</div>"
      ],
      "text/plain": [
       "                         AA        AB\n",
       "hahahah            0.645530  0.180290\n",
       "hahahah_log        0.702553  0.124682\n",
       "base               0.624902  0.162786\n",
       "base_log           0.679356  0.115914\n",
       "linear             0.811256  0.012530\n",
       "bayesian           0.690000  0.000000\n",
       "reweight_ctr_coef  0.656736  0.003065\n",
       "reweight_ctr       0.779160  0.045775"
      ]
     },
     "execution_count": 66,
     "metadata": {},
     "output_type": "execute_result"
    }
   ],
   "source": [
    "pd.DataFrame(test_of_tests).T"
   ]
  },
  {
   "cell_type": "code",
   "execution_count": 67,
   "metadata": {},
   "outputs": [],
   "source": [
    "effect_size['reweight_ctr_log'] = reweight_test_df.mean().unstack().apply(lambda x: x[1] - x[0],axis=1).to_dict()"
   ]
  },
  {
   "cell_type": "markdown",
   "metadata": {},
   "source": [
    "# В любой непонятной ситуации (Bucketing)\n",
    "<img src='https://i.pinimg.com/736x/7a/97/bd/7a97bd9304643c2d27fb6ef2dbb0cf07.jpg'>"
   ]
  },
  {
   "cell_type": "code",
   "execution_count": 68,
   "metadata": {},
   "outputs": [],
   "source": [
    "bucket_test = base.groupby(['user','part','ab'])[['view','click']].sum().unstack([1,2])"
   ]
  },
  {
   "cell_type": "code",
   "execution_count": 69,
   "metadata": {},
   "outputs": [],
   "source": [
    "bucket_size = 100\n",
    "n_buckets = bucket_test['view'].count().min() // bucket_size"
   ]
  },
  {
   "cell_type": "code",
   "execution_count": 70,
   "metadata": {},
   "outputs": [
    {
     "name": "stderr",
     "output_type": "stream",
     "text": [
      "100%|██████████| 410/410 [00:01<00:00, 264.83it/s]\n",
      "100%|██████████| 410/410 [00:01<00:00, 279.67it/s]\n",
      "100%|██████████| 410/410 [00:01<00:00, 232.26it/s]\n",
      "100%|██████████| 410/410 [00:01<00:00, 267.29it/s]\n"
     ]
    }
   ],
   "source": [
    "bucket_df = {}\n",
    "part_ab = bucket_test.swaplevel(0,2,axis=1).droplevel(2,axis=1).columns.unique()\n",
    "for exp in part_ab:\n",
    "\n",
    "    tmp = []\n",
    "\n",
    "    for bucket in tqdm(range(n_buckets)):\n",
    "\n",
    "        meta_user = bucket_test.swaplevel(0,2,axis=1).loc[:,exp].iloc[bucket * bucket_size: (bucket+1) * bucket_size].sum()\n",
    "        \n",
    "        ctr_meta_user = meta_user['click'] / meta_user['view']\n",
    "        tmp.append(ctr_meta_user)\n",
    "\n",
    "    bucket_df.update({exp:tmp})\n",
    "bucket_df = pd.DataFrame(bucket_df)"
   ]
  },
  {
   "cell_type": "code",
   "execution_count": 71,
   "metadata": {},
   "outputs": [
    {
     "data": {
      "text/plain": [
       "array([[<AxesSubplot:title={'center':\"(1.0, 'AB')\"}>,\n",
       "        <AxesSubplot:title={'center':\"(1.0, 'AA')\"}>],\n",
       "       [<AxesSubplot:title={'center':\"(0.0, 'AB')\"}>,\n",
       "        <AxesSubplot:title={'center':\"(0.0, 'AA')\"}>]], dtype=object)"
      ]
     },
     "execution_count": 71,
     "metadata": {},
     "output_type": "execute_result"
    },
    {
     "data": {
      "image/png": "[encoded data removed]",
      "text/plain": [
       "<Figure size 1080x432 with 4 Axes>"
      ]
     },
     "metadata": {},
     "output_type": "display_data"
    }
   ],
   "source": [
    "bucket_df.hist(bins=100)"
   ]
  },
  {
   "cell_type": "code",
   "execution_count": 72,
   "metadata": {},
   "outputs": [],
   "source": [
    "test_of_tests['bucketing'] = {\n",
    "                                'AA':sps.ttest_ind(pd.DataFrame(bucket_df).loc[:,(1,'AA')].dropna(),pd.DataFrame(bucket_df).loc[:,(0,'AA')].dropna()).pvalue,\n",
    "                                'AB':sps.ttest_ind(pd.DataFrame(bucket_df).loc[:,(1,'AB')].dropna(),pd.DataFrame(bucket_df).loc[:,(0,'AB')].dropna()).pvalue,\n",
    "                                }"
   ]
  },
  {
   "cell_type": "code",
   "execution_count": 73,
   "metadata": {},
   "outputs": [
    {
     "data": {
      "text/html": [
       "<div>\n",
       "<style scoped>\n",
       "    .dataframe tbody tr th:only-of-type {\n",
       "        vertical-align: middle;\n",
       "    }\n",
       "\n",
       "    .dataframe tbody tr th {\n",
       "        vertical-align: top;\n",
       "    }\n",
       "\n",
       "    .dataframe thead th {\n",
       "        text-align: right;\n",
       "    }\n",
       "</style>\n",
       "<table border=\"1\" class=\"dataframe\">\n",
       "  <thead>\n",
       "    <tr style=\"text-align: right;\">\n",
       "      <th></th>\n",
       "      <th>AA</th>\n",
       "      <th>AB</th>\n",
       "    </tr>\n",
       "  </thead>\n",
       "  <tbody>\n",
       "    <tr>\n",
       "      <th>hahahah</th>\n",
       "      <td>0.645530</td>\n",
       "      <td>0.180290</td>\n",
       "    </tr>\n",
       "    <tr>\n",
       "      <th>hahahah_log</th>\n",
       "      <td>0.702553</td>\n",
       "      <td>0.124682</td>\n",
       "    </tr>\n",
       "    <tr>\n",
       "      <th>base</th>\n",
       "      <td>0.624902</td>\n",
       "      <td>0.162786</td>\n",
       "    </tr>\n",
       "    <tr>\n",
       "      <th>base_log</th>\n",
       "      <td>0.679356</td>\n",
       "      <td>0.115914</td>\n",
       "    </tr>\n",
       "    <tr>\n",
       "      <th>linear</th>\n",
       "      <td>0.811256</td>\n",
       "      <td>0.012530</td>\n",
       "    </tr>\n",
       "    <tr>\n",
       "      <th>bayesian</th>\n",
       "      <td>0.690000</td>\n",
       "      <td>0.000000</td>\n",
       "    </tr>\n",
       "    <tr>\n",
       "      <th>reweight_ctr_coef</th>\n",
       "      <td>0.656736</td>\n",
       "      <td>0.003065</td>\n",
       "    </tr>\n",
       "    <tr>\n",
       "      <th>reweight_ctr</th>\n",
       "      <td>0.779160</td>\n",
       "      <td>0.045775</td>\n",
       "    </tr>\n",
       "    <tr>\n",
       "      <th>bucketing</th>\n",
       "      <td>0.140327</td>\n",
       "      <td>0.032743</td>\n",
       "    </tr>\n",
       "  </tbody>\n",
       "</table>\n",
       "</div>"
      ],
      "text/plain": [
       "                         AA        AB\n",
       "hahahah            0.645530  0.180290\n",
       "hahahah_log        0.702553  0.124682\n",
       "base               0.624902  0.162786\n",
       "base_log           0.679356  0.115914\n",
       "linear             0.811256  0.012530\n",
       "bayesian           0.690000  0.000000\n",
       "reweight_ctr_coef  0.656736  0.003065\n",
       "reweight_ctr       0.779160  0.045775\n",
       "bucketing          0.140327  0.032743"
      ]
     },
     "execution_count": 73,
     "metadata": {},
     "output_type": "execute_result"
    }
   ],
   "source": [
    "pd.DataFrame(test_of_tests).T"
   ]
  },
  {
   "cell_type": "code",
   "execution_count": 74,
   "metadata": {},
   "outputs": [],
   "source": [
    "effect_size['bucketing'] = bucket_df.mean().unstack().apply(lambda x: x[1] - x[0]).to_dict()"
   ]
  },
  {
   "cell_type": "markdown",
   "metadata": {},
   "source": [
    "# В любой непонятной ситуации v2 ~~может не влезть по памяти~~ (Bootstrap)\n",
    "<img src='data:image/jpeg;base64,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'>"
   ]
  },
  {
   "cell_type": "code",
   "execution_count": 75,
   "metadata": {},
   "outputs": [],
   "source": [
    "bootstrap_test = base.groupby(['user','part','ab'])[['view','click']].sum().unstack([1,2])"
   ]
  },
  {
   "cell_type": "code",
   "execution_count": 76,
   "metadata": {},
   "outputs": [],
   "source": [
    "bootstrap_test_ctr = bootstrap_test['click'] / bootstrap_test['view']"
   ]
  },
  {
   "cell_type": "code",
   "execution_count": 77,
   "metadata": {},
   "outputs": [
    {
     "name": "stderr",
     "output_type": "stream",
     "text": [
      "100%|██████████| 1000/1000 [00:37<00:00, 26.42it/s]\n"
     ]
    }
   ],
   "source": [
    "\n",
    "min_size = bootstrap_test_ctr.count().min()\n",
    "rr = np.random.default_rng(11)\n",
    "bts_aa = []\n",
    "bts_ab = []\n",
    "for _ in tqdm(range(1000)):\n",
    "\n",
    "    aa_c = rr.choice(bootstrap_test['click']['AA'][0].dropna().values,size=min_size,replace=True).sum() / rr.choice(bootstrap_test['view']['AA'][0].dropna().values,size=min_size,replace=True).sum()\n",
    "    aa_t = rr.choice(bootstrap_test['click']['AA'][1].dropna().values,size=min_size,replace=True).sum() / rr.choice(bootstrap_test['view']['AA'][1].dropna().values,size=min_size,replace=True).sum()\n",
    "    bts_aa.append(aa_t - aa_c)\n",
    "\n",
    "    ab_c = rr.choice(bootstrap_test['click']['AB'][0].dropna().values,size=min_size,replace=True).sum() / rr.choice(bootstrap_test['view']['AB'][0].dropna().values,size=min_size,replace=True).sum()\n",
    "    ab_t = rr.choice(bootstrap_test['click']['AB'][1].dropna().values,size=min_size,replace=True).sum() / rr.choice(bootstrap_test['view']['AB'][1].dropna().values,size=min_size,replace=True).sum()\n",
    "    bts_ab.append(ab_t - ab_c)\n",
    "bts_aa = np.array(bts_aa)\n",
    "bts_ab = np.array(bts_ab)"
   ]
  },
  {
   "cell_type": "code",
   "execution_count": 78,
   "metadata": {},
   "outputs": [],
   "source": [
    "test_of_tests['bootstrap'] = {\n",
    "                                'AA':min((bts_aa <0).sum(),len(bts_aa) - (bts_aa <0).sum()) / len(bts_aa),\n",
    "                                'AB':min((bts_ab <0).sum(),len(bts_ab) - (bts_ab <0).sum()) / len(bts_ab),\n",
    "                                }"
   ]
  },
  {
   "cell_type": "code",
   "execution_count": 79,
   "metadata": {},
   "outputs": [
    {
     "data": {
      "text/html": [
       "<div>\n",
       "<style scoped>\n",
       "    .dataframe tbody tr th:only-of-type {\n",
       "        vertical-align: middle;\n",
       "    }\n",
       "\n",
       "    .dataframe tbody tr th {\n",
       "        vertical-align: top;\n",
       "    }\n",
       "\n",
       "    .dataframe thead th {\n",
       "        text-align: right;\n",
       "    }\n",
       "</style>\n",
       "<table border=\"1\" class=\"dataframe\">\n",
       "  <thead>\n",
       "    <tr style=\"text-align: right;\">\n",
       "      <th></th>\n",
       "      <th>AA</th>\n",
       "      <th>AB</th>\n",
       "    </tr>\n",
       "  </thead>\n",
       "  <tbody>\n",
       "    <tr>\n",
       "      <th>hahahah</th>\n",
       "      <td>0.645530</td>\n",
       "      <td>0.180290</td>\n",
       "    </tr>\n",
       "    <tr>\n",
       "      <th>hahahah_log</th>\n",
       "      <td>0.702553</td>\n",
       "      <td>0.124682</td>\n",
       "    </tr>\n",
       "    <tr>\n",
       "      <th>base</th>\n",
       "      <td>0.624902</td>\n",
       "      <td>0.162786</td>\n",
       "    </tr>\n",
       "    <tr>\n",
       "      <th>base_log</th>\n",
       "      <td>0.679356</td>\n",
       "      <td>0.115914</td>\n",
       "    </tr>\n",
       "    <tr>\n",
       "      <th>linear</th>\n",
       "      <td>0.811256</td>\n",
       "      <td>0.012530</td>\n",
       "    </tr>\n",
       "    <tr>\n",
       "      <th>bayesian</th>\n",
       "      <td>0.690000</td>\n",
       "      <td>0.000000</td>\n",
       "    </tr>\n",
       "    <tr>\n",
       "      <th>reweight_ctr_coef</th>\n",
       "      <td>0.656736</td>\n",
       "      <td>0.003065</td>\n",
       "    </tr>\n",
       "    <tr>\n",
       "      <th>reweight_ctr</th>\n",
       "      <td>0.779160</td>\n",
       "      <td>0.045775</td>\n",
       "    </tr>\n",
       "    <tr>\n",
       "      <th>bucketing</th>\n",
       "      <td>0.140327</td>\n",
       "      <td>0.032743</td>\n",
       "    </tr>\n",
       "    <tr>\n",
       "      <th>bootstrap</th>\n",
       "      <td>0.409000</td>\n",
       "      <td>0.010000</td>\n",
       "    </tr>\n",
       "  </tbody>\n",
       "</table>\n",
       "</div>"
      ],
      "text/plain": [
       "                         AA        AB\n",
       "hahahah            0.645530  0.180290\n",
       "hahahah_log        0.702553  0.124682\n",
       "base               0.624902  0.162786\n",
       "base_log           0.679356  0.115914\n",
       "linear             0.811256  0.012530\n",
       "bayesian           0.690000  0.000000\n",
       "reweight_ctr_coef  0.656736  0.003065\n",
       "reweight_ctr       0.779160  0.045775\n",
       "bucketing          0.140327  0.032743\n",
       "bootstrap          0.409000  0.010000"
      ]
     },
     "execution_count": 79,
     "metadata": {},
     "output_type": "execute_result"
    }
   ],
   "source": [
    "pd.DataFrame(test_of_tests).T"
   ]
  },
  {
   "cell_type": "code",
   "execution_count": 80,
   "metadata": {},
   "outputs": [],
   "source": [
    "effect_size['bootstrap'] = {'AA':bts_aa.mean(),\n",
    "                            'AB':bts_ab.mean()}"
   ]
  },
  {
   "cell_type": "markdown",
   "metadata": {},
   "source": [
    "# Combo Breaker\n",
    "<img src = 'https://y.yarn.co/2c879f9a-f5b7-4eb8-8791-6328d8a2c877_screenshot.jpg'>"
   ]
  },
  {
   "cell_type": "code",
   "execution_count": 81,
   "metadata": {},
   "outputs": [],
   "source": [
    "combo_test = base.groupby(['user','part','ab'])[['view','click']].sum().unstack([1,2])"
   ]
  },
  {
   "cell_type": "code",
   "execution_count": 82,
   "metadata": {},
   "outputs": [],
   "source": [
    "AA_combo_df = generate_tests(*combo_test.swaplevel(0,2,axis=1)[0]['AA'].dropna().T.values,\n",
    "                            *combo_test.swaplevel(0,2,axis=1)[1]['AA'].dropna().T.values)"
   ]
  },
  {
   "cell_type": "code",
   "execution_count": 83,
   "metadata": {},
   "outputs": [],
   "source": [
    "AB_combo_df = generate_tests(*combo_test.swaplevel(0,2,axis=1)[0]['AB'].dropna().T.values,\n",
    "                            *combo_test.swaplevel(0,2,axis=1)[1]['AB'].dropna().T.values)"
   ]
  },
  {
   "cell_type": "code",
   "execution_count": 84,
   "metadata": {},
   "outputs": [
    {
     "data": {
      "text/html": [
       "<div>\n",
       "<style scoped>\n",
       "    .dataframe tbody tr th:only-of-type {\n",
       "        vertical-align: middle;\n",
       "    }\n",
       "\n",
       "    .dataframe tbody tr th {\n",
       "        vertical-align: top;\n",
       "    }\n",
       "\n",
       "    .dataframe thead th {\n",
       "        text-align: right;\n",
       "    }\n",
       "</style>\n",
       "<table border=\"1\" class=\"dataframe\">\n",
       "  <thead>\n",
       "    <tr style=\"text-align: right;\">\n",
       "      <th></th>\n",
       "      <th>ttest</th>\n",
       "      <th>mwtest</th>\n",
       "      <th>uplift</th>\n",
       "      <th>relative_uplift</th>\n",
       "      <th>ci_left</th>\n",
       "      <th>ci_right</th>\n",
       "      <th>ci_lenght</th>\n",
       "      <th>ci_left_lenght</th>\n",
       "    </tr>\n",
       "  </thead>\n",
       "  <tbody>\n",
       "    <tr>\n",
       "      <th>Combo</th>\n",
       "      <td>0.000074</td>\n",
       "      <td>NaN</td>\n",
       "      <td>0.003679</td>\n",
       "      <td>0.049733</td>\n",
       "      <td>0.001857</td>\n",
       "      <td>0.005492</td>\n",
       "      <td>0.003635</td>\n",
       "      <td>0.000222</td>\n",
       "    </tr>\n",
       "    <tr>\n",
       "      <th>bayesian</th>\n",
       "      <td>0.000076</td>\n",
       "      <td>NaN</td>\n",
       "      <td>0.003679</td>\n",
       "      <td>0.049733</td>\n",
       "      <td>0.001854</td>\n",
       "      <td>0.005493</td>\n",
       "      <td>0.003639</td>\n",
       "      <td>0.000224</td>\n",
       "    </tr>\n",
       "    <tr>\n",
       "      <th>base</th>\n",
       "      <td>0.169505</td>\n",
       "      <td>0.052352</td>\n",
       "      <td>0.002079</td>\n",
       "      <td>0.026160</td>\n",
       "      <td>-0.000887</td>\n",
       "      <td>0.005044</td>\n",
       "      <td>0.005931</td>\n",
       "      <td>0.002966</td>\n",
       "    </tr>\n",
       "    <tr>\n",
       "      <th>ML</th>\n",
       "      <td>0.169510</td>\n",
       "      <td>NaN</td>\n",
       "      <td>0.002079</td>\n",
       "      <td>0.026160</td>\n",
       "      <td>-0.000887</td>\n",
       "      <td>0.005045</td>\n",
       "      <td>0.005932</td>\n",
       "      <td>0.002966</td>\n",
       "    </tr>\n",
       "    <tr>\n",
       "      <th>reweight</th>\n",
       "      <td>0.044465</td>\n",
       "      <td>0.048607</td>\n",
       "      <td>0.003098</td>\n",
       "      <td>0.037673</td>\n",
       "      <td>0.000077</td>\n",
       "      <td>0.006120</td>\n",
       "      <td>0.006043</td>\n",
       "      <td>0.003022</td>\n",
       "    </tr>\n",
       "    <tr>\n",
       "      <th>bootstrap</th>\n",
       "      <td>0.016000</td>\n",
       "      <td>NaN</td>\n",
       "      <td>0.004143</td>\n",
       "      <td>0.051795</td>\n",
       "      <td>0.001060</td>\n",
       "      <td>0.007265</td>\n",
       "      <td>0.006205</td>\n",
       "      <td>0.001019</td>\n",
       "    </tr>\n",
       "    <tr>\n",
       "      <th>bucketing</th>\n",
       "      <td>0.014046</td>\n",
       "      <td>0.010675</td>\n",
       "      <td>0.004261</td>\n",
       "      <td>0.053132</td>\n",
       "      <td>0.000861</td>\n",
       "      <td>0.007661</td>\n",
       "      <td>0.006801</td>\n",
       "      <td>0.003400</td>\n",
       "    </tr>\n",
       "    <tr>\n",
       "      <th>linearization</th>\n",
       "      <td>0.012534</td>\n",
       "      <td>0.150574</td>\n",
       "      <td>0.015909</td>\n",
       "      <td>NaN</td>\n",
       "      <td>0.003420</td>\n",
       "      <td>0.028398</td>\n",
       "      <td>0.024978</td>\n",
       "      <td>0.012489</td>\n",
       "    </tr>\n",
       "  </tbody>\n",
       "</table>\n",
       "</div>"
      ],
      "text/plain": [
       "                  ttest    mwtest    uplift  relative_uplift   ci_left  \\\n",
       "Combo          0.000074       NaN  0.003679         0.049733  0.001857   \n",
       "bayesian       0.000076       NaN  0.003679         0.049733  0.001854   \n",
       "base           0.169505  0.052352  0.002079         0.026160 -0.000887   \n",
       "ML             0.169510       NaN  0.002079         0.026160 -0.000887   \n",
       "reweight       0.044465  0.048607  0.003098         0.037673  0.000077   \n",
       "bootstrap      0.016000       NaN  0.004143         0.051795  0.001060   \n",
       "bucketing      0.014046  0.010675  0.004261         0.053132  0.000861   \n",
       "linearization  0.012534  0.150574  0.015909              NaN  0.003420   \n",
       "\n",
       "               ci_right  ci_lenght  ci_left_lenght  \n",
       "Combo          0.005492   0.003635        0.000222  \n",
       "bayesian       0.005493   0.003639        0.000224  \n",
       "base           0.005044   0.005931        0.002966  \n",
       "ML             0.005045   0.005932        0.002966  \n",
       "reweight       0.006120   0.006043        0.003022  \n",
       "bootstrap      0.007265   0.006205        0.001019  \n",
       "bucketing      0.007661   0.006801        0.003400  \n",
       "linearization  0.028398   0.024978        0.012489  "
      ]
     },
     "execution_count": 84,
     "metadata": {},
     "output_type": "execute_result"
    }
   ],
   "source": [
    "AB_combo_df.T.sort_values(by='ci_lenght')"
   ]
  },
  {
   "cell_type": "code",
   "execution_count": 85,
   "metadata": {},
   "outputs": [
    {
     "data": {
      "text/html": [
       "<div>\n",
       "<style scoped>\n",
       "    .dataframe tbody tr th:only-of-type {\n",
       "        vertical-align: middle;\n",
       "    }\n",
       "\n",
       "    .dataframe tbody tr th {\n",
       "        vertical-align: top;\n",
       "    }\n",
       "\n",
       "    .dataframe thead th {\n",
       "        text-align: right;\n",
       "    }\n",
       "</style>\n",
       "<table border=\"1\" class=\"dataframe\">\n",
       "  <thead>\n",
       "    <tr style=\"text-align: right;\">\n",
       "      <th></th>\n",
       "      <th>ttest</th>\n",
       "      <th>mwtest</th>\n",
       "      <th>uplift</th>\n",
       "      <th>relative_uplift</th>\n",
       "      <th>ci_left</th>\n",
       "      <th>ci_right</th>\n",
       "      <th>ci_lenght</th>\n",
       "      <th>ci_left_lenght</th>\n",
       "    </tr>\n",
       "  </thead>\n",
       "  <tbody>\n",
       "    <tr>\n",
       "      <th>Combo</th>\n",
       "      <td>0.000074</td>\n",
       "      <td>NaN</td>\n",
       "      <td>0.003679</td>\n",
       "      <td>0.049733</td>\n",
       "      <td>0.001857</td>\n",
       "      <td>0.005492</td>\n",
       "      <td>0.003635</td>\n",
       "      <td>0.000222</td>\n",
       "    </tr>\n",
       "    <tr>\n",
       "      <th>bayesian</th>\n",
       "      <td>0.000076</td>\n",
       "      <td>NaN</td>\n",
       "      <td>0.003679</td>\n",
       "      <td>0.049733</td>\n",
       "      <td>0.001854</td>\n",
       "      <td>0.005493</td>\n",
       "      <td>0.003639</td>\n",
       "      <td>0.000224</td>\n",
       "    </tr>\n",
       "    <tr>\n",
       "      <th>bootstrap</th>\n",
       "      <td>0.016000</td>\n",
       "      <td>NaN</td>\n",
       "      <td>0.004143</td>\n",
       "      <td>0.051795</td>\n",
       "      <td>0.001060</td>\n",
       "      <td>0.007265</td>\n",
       "      <td>0.006205</td>\n",
       "      <td>0.001019</td>\n",
       "    </tr>\n",
       "    <tr>\n",
       "      <th>base</th>\n",
       "      <td>0.169505</td>\n",
       "      <td>0.052352</td>\n",
       "      <td>0.002079</td>\n",
       "      <td>0.026160</td>\n",
       "      <td>-0.000887</td>\n",
       "      <td>0.005044</td>\n",
       "      <td>0.005931</td>\n",
       "      <td>0.002966</td>\n",
       "    </tr>\n",
       "    <tr>\n",
       "      <th>ML</th>\n",
       "      <td>0.169510</td>\n",
       "      <td>NaN</td>\n",
       "      <td>0.002079</td>\n",
       "      <td>0.026160</td>\n",
       "      <td>-0.000887</td>\n",
       "      <td>0.005045</td>\n",
       "      <td>0.005932</td>\n",
       "      <td>0.002966</td>\n",
       "    </tr>\n",
       "    <tr>\n",
       "      <th>reweight</th>\n",
       "      <td>0.044465</td>\n",
       "      <td>0.048607</td>\n",
       "      <td>0.003098</td>\n",
       "      <td>0.037673</td>\n",
       "      <td>0.000077</td>\n",
       "      <td>0.006120</td>\n",
       "      <td>0.006043</td>\n",
       "      <td>0.003022</td>\n",
       "    </tr>\n",
       "    <tr>\n",
       "      <th>bucketing</th>\n",
       "      <td>0.014046</td>\n",
       "      <td>0.010675</td>\n",
       "      <td>0.004261</td>\n",
       "      <td>0.053132</td>\n",
       "      <td>0.000861</td>\n",
       "      <td>0.007661</td>\n",
       "      <td>0.006801</td>\n",
       "      <td>0.003400</td>\n",
       "    </tr>\n",
       "    <tr>\n",
       "      <th>linearization</th>\n",
       "      <td>0.012534</td>\n",
       "      <td>0.150574</td>\n",
       "      <td>0.015909</td>\n",
       "      <td>NaN</td>\n",
       "      <td>0.003420</td>\n",
       "      <td>0.028398</td>\n",
       "      <td>0.024978</td>\n",
       "      <td>0.012489</td>\n",
       "    </tr>\n",
       "  </tbody>\n",
       "</table>\n",
       "</div>"
      ],
      "text/plain": [
       "                  ttest    mwtest    uplift  relative_uplift   ci_left  \\\n",
       "Combo          0.000074       NaN  0.003679         0.049733  0.001857   \n",
       "bayesian       0.000076       NaN  0.003679         0.049733  0.001854   \n",
       "bootstrap      0.016000       NaN  0.004143         0.051795  0.001060   \n",
       "base           0.169505  0.052352  0.002079         0.026160 -0.000887   \n",
       "ML             0.169510       NaN  0.002079         0.026160 -0.000887   \n",
       "reweight       0.044465  0.048607  0.003098         0.037673  0.000077   \n",
       "bucketing      0.014046  0.010675  0.004261         0.053132  0.000861   \n",
       "linearization  0.012534  0.150574  0.015909              NaN  0.003420   \n",
       "\n",
       "               ci_right  ci_lenght  ci_left_lenght  \n",
       "Combo          0.005492   0.003635        0.000222  \n",
       "bayesian       0.005493   0.003639        0.000224  \n",
       "bootstrap      0.007265   0.006205        0.001019  \n",
       "base           0.005044   0.005931        0.002966  \n",
       "ML             0.005045   0.005932        0.002966  \n",
       "reweight       0.006120   0.006043        0.003022  \n",
       "bucketing      0.007661   0.006801        0.003400  \n",
       "linearization  0.028398   0.024978        0.012489  "
      ]
     },
     "execution_count": 85,
     "metadata": {},
     "output_type": "execute_result"
    }
   ],
   "source": [
    "AB_combo_df.T.sort_values(by='ci_left_lenght')"
   ]
  }
 ],
 "metadata": {
  "kernelspec": {
   "display_name": "Python 3.8.10 64-bit",
   "language": "python",
   "name": "python3"
  },
  "language_info": {
   "codemirror_mode": {
    "name": "ipython",
    "version": 3
   },
   "file_extension": ".py",
   "mimetype": "text/x-python",
   "name": "python",
   "nbconvert_exporter": "python",
   "pygments_lexer": "ipython3",
   "version": "3.8.10"
  },
  "orig_nbformat": 4,
  "vscode": {
   "interpreter": {
    "hash": "916dbcbb3f70747c44a77c7bcd40155683ae19c65e1c03b4aa3499c5328201f1"
   }
  }
 },
 "nbformat": 4,
 "nbformat_minor": 2
}
